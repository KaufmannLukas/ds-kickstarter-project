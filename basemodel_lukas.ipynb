{
 "cells": [
  {
   "cell_type": "code",
   "execution_count": 2,
   "metadata": {},
   "outputs": [],
   "source": [
    "import numpy as np\n",
    "import seaborn as sns\n",
    "import matplotlib.pyplot as plt\n",
    "import pandas as pd\n",
    "\n",
    "\n",
    "from sklearn.base import BaseEstimator, RegressorMixin\n",
    "from sklearn import metrics\n",
    "from sklearn.tree import DecisionTreeRegressor\n",
    "from sklearn.model_selection import train_test_split, cross_val_score, GridSearchCV\n",
    "from sklearn.metrics import confusion_matrix, ConfusionMatrixDisplay, roc_auc_score, roc_curve, RocCurveDisplay, classification_report, r2_score, mean_squared_error, mean_squared_log_error\n",
    "from sklearn.impute import SimpleImputer, KNNImputer\n",
    "from sklearn.linear_model import LogisticRegression, LinearRegression\n",
    "from sklearn.neighbors import KNeighborsClassifier\n",
    "from sklearn.preprocessing import KBinsDiscretizer, StandardScaler, MinMaxScaler, OneHotEncoder, PolynomialFeatures, FunctionTransformer, LabelEncoder\n",
    "from sklearn.pipeline import Pipeline\n",
    "from sklearn.compose import ColumnTransformer\n",
    "from sklearn.dummy import DummyClassifier, DummyRegressor\n",
    "from sklearn.ensemble import RandomForestRegressor, GradientBoostingRegressor"
   ]
  },
  {
   "cell_type": "code",
   "execution_count": 3,
   "metadata": {},
   "outputs": [],
   "source": [
    "df = pd.read_csv('data/kickstarter_projects.csv')"
   ]
  },
  {
   "cell_type": "code",
   "execution_count": 4,
   "metadata": {},
   "outputs": [
    {
     "data": {
      "text/html": [
       "<div>\n",
       "<style scoped>\n",
       "    .dataframe tbody tr th:only-of-type {\n",
       "        vertical-align: middle;\n",
       "    }\n",
       "\n",
       "    .dataframe tbody tr th {\n",
       "        vertical-align: top;\n",
       "    }\n",
       "\n",
       "    .dataframe thead th {\n",
       "        text-align: right;\n",
       "    }\n",
       "</style>\n",
       "<table border=\"1\" class=\"dataframe\">\n",
       "  <thead>\n",
       "    <tr style=\"text-align: right;\">\n",
       "      <th></th>\n",
       "      <th>ID</th>\n",
       "      <th>Name</th>\n",
       "      <th>Category</th>\n",
       "      <th>Subcategory</th>\n",
       "      <th>Country</th>\n",
       "      <th>Launched</th>\n",
       "      <th>Deadline</th>\n",
       "      <th>Goal</th>\n",
       "      <th>Pledged</th>\n",
       "      <th>Backers</th>\n",
       "      <th>State</th>\n",
       "    </tr>\n",
       "  </thead>\n",
       "  <tbody>\n",
       "    <tr>\n",
       "      <th>0</th>\n",
       "      <td>1860890148</td>\n",
       "      <td>Grace Jones Does Not Give A F$#% T-Shirt (limi...</td>\n",
       "      <td>Fashion</td>\n",
       "      <td>Fashion</td>\n",
       "      <td>United States</td>\n",
       "      <td>2009-04-21 21:02:48</td>\n",
       "      <td>2009-05-31</td>\n",
       "      <td>1000</td>\n",
       "      <td>625</td>\n",
       "      <td>30</td>\n",
       "      <td>Failed</td>\n",
       "    </tr>\n",
       "    <tr>\n",
       "      <th>1</th>\n",
       "      <td>709707365</td>\n",
       "      <td>CRYSTAL ANTLERS UNTITLED MOVIE</td>\n",
       "      <td>Film &amp; Video</td>\n",
       "      <td>Shorts</td>\n",
       "      <td>United States</td>\n",
       "      <td>2009-04-23 00:07:53</td>\n",
       "      <td>2009-07-20</td>\n",
       "      <td>80000</td>\n",
       "      <td>22</td>\n",
       "      <td>3</td>\n",
       "      <td>Failed</td>\n",
       "    </tr>\n",
       "    <tr>\n",
       "      <th>2</th>\n",
       "      <td>1703704063</td>\n",
       "      <td>drawing for dollars</td>\n",
       "      <td>Art</td>\n",
       "      <td>Illustration</td>\n",
       "      <td>United States</td>\n",
       "      <td>2009-04-24 21:52:03</td>\n",
       "      <td>2009-05-03</td>\n",
       "      <td>20</td>\n",
       "      <td>35</td>\n",
       "      <td>3</td>\n",
       "      <td>Successful</td>\n",
       "    </tr>\n",
       "    <tr>\n",
       "      <th>3</th>\n",
       "      <td>727286</td>\n",
       "      <td>Offline Wikipedia iPhone app</td>\n",
       "      <td>Technology</td>\n",
       "      <td>Software</td>\n",
       "      <td>United States</td>\n",
       "      <td>2009-04-25 17:36:21</td>\n",
       "      <td>2009-07-14</td>\n",
       "      <td>99</td>\n",
       "      <td>145</td>\n",
       "      <td>25</td>\n",
       "      <td>Successful</td>\n",
       "    </tr>\n",
       "    <tr>\n",
       "      <th>4</th>\n",
       "      <td>1622952265</td>\n",
       "      <td>Pantshirts</td>\n",
       "      <td>Fashion</td>\n",
       "      <td>Fashion</td>\n",
       "      <td>United States</td>\n",
       "      <td>2009-04-27 14:10:39</td>\n",
       "      <td>2009-05-26</td>\n",
       "      <td>1900</td>\n",
       "      <td>387</td>\n",
       "      <td>10</td>\n",
       "      <td>Failed</td>\n",
       "    </tr>\n",
       "  </tbody>\n",
       "</table>\n",
       "</div>"
      ],
      "text/plain": [
       "           ID                                               Name  \\\n",
       "0  1860890148  Grace Jones Does Not Give A F$#% T-Shirt (limi...   \n",
       "1   709707365                     CRYSTAL ANTLERS UNTITLED MOVIE   \n",
       "2  1703704063                                drawing for dollars   \n",
       "3      727286                       Offline Wikipedia iPhone app   \n",
       "4  1622952265                                         Pantshirts   \n",
       "\n",
       "       Category   Subcategory        Country             Launched    Deadline  \\\n",
       "0       Fashion       Fashion  United States  2009-04-21 21:02:48  2009-05-31   \n",
       "1  Film & Video        Shorts  United States  2009-04-23 00:07:53  2009-07-20   \n",
       "2           Art  Illustration  United States  2009-04-24 21:52:03  2009-05-03   \n",
       "3    Technology      Software  United States  2009-04-25 17:36:21  2009-07-14   \n",
       "4       Fashion       Fashion  United States  2009-04-27 14:10:39  2009-05-26   \n",
       "\n",
       "    Goal  Pledged  Backers       State  \n",
       "0   1000      625       30      Failed  \n",
       "1  80000       22        3      Failed  \n",
       "2     20       35        3  Successful  \n",
       "3     99      145       25  Successful  \n",
       "4   1900      387       10      Failed  "
      ]
     },
     "execution_count": 4,
     "metadata": {},
     "output_type": "execute_result"
    }
   ],
   "source": [
    "df.head()"
   ]
  },
  {
   "cell_type": "code",
   "execution_count": 5,
   "metadata": {},
   "outputs": [],
   "source": [
    "def prepare_data(dataframe):\n",
    "    dataframe_new = dataframe.copy()\n",
    "    # extract duration\n",
    "    dataframe_new[\"Launched\"] = pd.to_datetime(dataframe_new[\"Launched\"])\n",
    "    dataframe_new[\"Deadline\"] = pd.to_datetime(dataframe_new[\"Deadline\"])\n",
    "    dataframe_new[\"Duration_days\"] = (dataframe_new[\"Deadline\"] - dataframe_new[\"Launched\"]).dt.days\n",
    "    # extract month / year\n",
    "    dataframe_new[\"Month\"] = dataframe_new[\"Launched\"].dt.month\n",
    "    # drop 'State' == 'Other' (Canceled, Suspended and Live)\n",
    "    dataframe_new = dataframe_new.query(\"State == 'Successful' or State == 'Failed'\")\n",
    "    # drop specific categories (?)\n",
    "    # dataframe_new = dataframe_new.query(\"Category != '...' and Category != '...'\")\n",
    "    # Combine 'Category' and 'Subcategory' (to not loose correlation)\n",
    "    dataframe_new[\"Combined_category\"] = df[\"Category\"] + \" - \" + df[\"Subcategory\"]\n",
    "    categories = [\"Category\", \"Subcategory\", \"Country\", \"State\", \"Combined_category\"]\n",
    "    dataframe_new[[\"Category\", \"Subcategory\", \"Country\", \"State\", \"Combined_category\"]] = \\\n",
    "        dataframe_new[[\"Category\", \"Subcategory\", \"Country\", \"State\", \"Combined_category\"]].astype(\"category\")\n",
    "    # 0 < Goal < 100_000\n",
    "    dataframe_new = dataframe_new.query(\"0 < Goal < 100_000\")\n",
    "    # Pledged > 0\n",
    "    dataframe_new = dataframe_new.query(\"Pledged > 0\")\n",
    "    # implement Name: len\n",
    "    dataframe_new[\"Name_length\"] = dataframe_new[\"Name\"].str.len()\n",
    "    # dataframe_new['Name_word_count'] = dataframe_new['Name'].str.split().apply(len)\n",
    "\n",
    "    # Years: 2012 - 2018\n",
    "    dataframe_new = dataframe_new[dataframe_new[\"Launched\"].dt.year >= 2012]\n",
    "    \n",
    "    dataframe_new = dataframe_new.drop([\"ID\", \"Launched\", \"Deadline\", \"Category\", \"Subcategory\"], axis=1)\n",
    "    \n",
    "    return dataframe_new"
   ]
  },
  {
   "cell_type": "code",
   "execution_count": 6,
   "metadata": {},
   "outputs": [],
   "source": [
    "# including 2013\n",
    "# factor:   0.82\n",
    "# r2:       0.5476\n",
    "# RMSE:     43888\n",
    "# rows      283\n",
    "\n",
    "# Exluded Years until 2013\n",
    "# factor:   0.86\n",
    "# r2:       0.28\n",
    "# RMSE:     54000\n",
    "# rows      217000\n",
    "\n",
    "# Exluded Years until 2011\n",
    "# factor:   0.83\n",
    "# r2:       0.53\n",
    "# RMSE:     53000\n",
    "# rows      251000"
   ]
  },
  {
   "cell_type": "code",
   "execution_count": 7,
   "metadata": {},
   "outputs": [
    {
     "name": "stderr",
     "output_type": "stream",
     "text": [
      "/var/folders/bf/sffgn3cj09b7w9m9tzcwtpdc0000gn/T/ipykernel_43366/106689526.py:14: SettingWithCopyWarning: \n",
      "A value is trying to be set on a copy of a slice from a DataFrame.\n",
      "Try using .loc[row_indexer,col_indexer] = value instead\n",
      "\n",
      "See the caveats in the documentation: https://pandas.pydata.org/pandas-docs/stable/user_guide/indexing.html#returning-a-view-versus-a-copy\n",
      "  dataframe_new[\"Combined_category\"] = df[\"Category\"] + \" - \" + df[\"Subcategory\"]\n",
      "/var/folders/bf/sffgn3cj09b7w9m9tzcwtpdc0000gn/T/ipykernel_43366/106689526.py:16: SettingWithCopyWarning: \n",
      "A value is trying to be set on a copy of a slice from a DataFrame.\n",
      "Try using .loc[row_indexer,col_indexer] = value instead\n",
      "\n",
      "See the caveats in the documentation: https://pandas.pydata.org/pandas-docs/stable/user_guide/indexing.html#returning-a-view-versus-a-copy\n",
      "  dataframe_new[[\"Category\", \"Subcategory\", \"Country\", \"State\", \"Combined_category\"]] = \\\n",
      "/var/folders/bf/sffgn3cj09b7w9m9tzcwtpdc0000gn/T/ipykernel_43366/106689526.py:23: SettingWithCopyWarning: \n",
      "A value is trying to be set on a copy of a slice from a DataFrame.\n",
      "Try using .loc[row_indexer,col_indexer] = value instead\n",
      "\n",
      "See the caveats in the documentation: https://pandas.pydata.org/pandas-docs/stable/user_guide/indexing.html#returning-a-view-versus-a-copy\n",
      "  dataframe_new[\"Name_length\"] = dataframe_new[\"Name\"].str.len()\n"
     ]
    }
   ],
   "source": [
    "ks = prepare_data(df)"
   ]
  },
  {
   "cell_type": "markdown",
   "metadata": {},
   "source": [
    "# Baseline Model"
   ]
  },
  {
   "cell_type": "code",
   "execution_count": 8,
   "metadata": {},
   "outputs": [
    {
     "data": {
      "text/html": [
       "<div>\n",
       "<style scoped>\n",
       "    .dataframe tbody tr th:only-of-type {\n",
       "        vertical-align: middle;\n",
       "    }\n",
       "\n",
       "    .dataframe tbody tr th {\n",
       "        vertical-align: top;\n",
       "    }\n",
       "\n",
       "    .dataframe thead th {\n",
       "        text-align: right;\n",
       "    }\n",
       "</style>\n",
       "<table border=\"1\" class=\"dataframe\">\n",
       "  <thead>\n",
       "    <tr style=\"text-align: right;\">\n",
       "      <th></th>\n",
       "      <th>Name</th>\n",
       "      <th>Country</th>\n",
       "      <th>Goal</th>\n",
       "      <th>Pledged</th>\n",
       "      <th>Backers</th>\n",
       "      <th>State</th>\n",
       "      <th>Duration_days</th>\n",
       "      <th>Month</th>\n",
       "      <th>Combined_category</th>\n",
       "      <th>Name_length</th>\n",
       "    </tr>\n",
       "  </thead>\n",
       "  <tbody>\n",
       "    <tr>\n",
       "      <th>38084</th>\n",
       "      <td>Introspective</td>\n",
       "      <td>United States</td>\n",
       "      <td>4000</td>\n",
       "      <td>5116</td>\n",
       "      <td>37</td>\n",
       "      <td>Successful</td>\n",
       "      <td>15</td>\n",
       "      <td>1</td>\n",
       "      <td>Art - Art</td>\n",
       "      <td>13</td>\n",
       "    </tr>\n",
       "    <tr>\n",
       "      <th>38085</th>\n",
       "      <td>Student Doc about attending Sundance Film Fest...</td>\n",
       "      <td>United States</td>\n",
       "      <td>300</td>\n",
       "      <td>367</td>\n",
       "      <td>13</td>\n",
       "      <td>Successful</td>\n",
       "      <td>13</td>\n",
       "      <td>1</td>\n",
       "      <td>Film &amp; Video - Documentary</td>\n",
       "      <td>50</td>\n",
       "    </tr>\n",
       "    <tr>\n",
       "      <th>38087</th>\n",
       "      <td>BOARDED project</td>\n",
       "      <td>United States</td>\n",
       "      <td>2345</td>\n",
       "      <td>3251</td>\n",
       "      <td>65</td>\n",
       "      <td>Successful</td>\n",
       "      <td>44</td>\n",
       "      <td>1</td>\n",
       "      <td>Art - Art</td>\n",
       "      <td>15</td>\n",
       "    </tr>\n",
       "    <tr>\n",
       "      <th>38088</th>\n",
       "      <td>THE CITY TROLL: a graphic novel</td>\n",
       "      <td>United States</td>\n",
       "      <td>2000</td>\n",
       "      <td>6311</td>\n",
       "      <td>202</td>\n",
       "      <td>Successful</td>\n",
       "      <td>37</td>\n",
       "      <td>1</td>\n",
       "      <td>Comics - Comics</td>\n",
       "      <td>31</td>\n",
       "    </tr>\n",
       "    <tr>\n",
       "      <th>38089</th>\n",
       "      <td>California Brewing Company: Bringing jobs &amp; be...</td>\n",
       "      <td>United States</td>\n",
       "      <td>48000</td>\n",
       "      <td>1931</td>\n",
       "      <td>19</td>\n",
       "      <td>Failed</td>\n",
       "      <td>44</td>\n",
       "      <td>1</td>\n",
       "      <td>Food - Food</td>\n",
       "      <td>60</td>\n",
       "    </tr>\n",
       "  </tbody>\n",
       "</table>\n",
       "</div>"
      ],
      "text/plain": [
       "                                                    Name        Country  \\\n",
       "38084                                      Introspective  United States   \n",
       "38085  Student Doc about attending Sundance Film Fest...  United States   \n",
       "38087                                    BOARDED project  United States   \n",
       "38088                    THE CITY TROLL: a graphic novel  United States   \n",
       "38089  California Brewing Company: Bringing jobs & be...  United States   \n",
       "\n",
       "        Goal  Pledged  Backers       State  Duration_days  Month  \\\n",
       "38084   4000     5116       37  Successful             15      1   \n",
       "38085    300      367       13  Successful             13      1   \n",
       "38087   2345     3251       65  Successful             44      1   \n",
       "38088   2000     6311      202  Successful             37      1   \n",
       "38089  48000     1931       19      Failed             44      1   \n",
       "\n",
       "                Combined_category  Name_length  \n",
       "38084                   Art - Art           13  \n",
       "38085  Film & Video - Documentary           50  \n",
       "38087                   Art - Art           15  \n",
       "38088             Comics - Comics           31  \n",
       "38089                 Food - Food           60  "
      ]
     },
     "execution_count": 8,
     "metadata": {},
     "output_type": "execute_result"
    }
   ],
   "source": [
    "ks.head()"
   ]
  },
  {
   "cell_type": "code",
   "execution_count": 9,
   "metadata": {},
   "outputs": [
    {
     "data": {
      "text/plain": [
       "['Name',\n",
       " 'Country',\n",
       " 'Goal',\n",
       " 'Pledged',\n",
       " 'Backers',\n",
       " 'State',\n",
       " 'Duration_days',\n",
       " 'Month',\n",
       " 'Combined_category',\n",
       " 'Name_length']"
      ]
     },
     "execution_count": 9,
     "metadata": {},
     "output_type": "execute_result"
    }
   ],
   "source": [
    "list(ks.columns)"
   ]
  },
  {
   "cell_type": "code",
   "execution_count": 10,
   "metadata": {},
   "outputs": [],
   "source": [
    "X = ks[[\n",
    "    #'Name',\n",
    "    'Country',\n",
    "    'Goal',\n",
    "    #'Pledged',\n",
    "    'Backers',\n",
    "    #'State',\n",
    "    'Duration_days',\n",
    "    'Month',\n",
    "    'Combined_category',\n",
    "    'Name_length'\n",
    "    ]]\n",
    "y = ks['Pledged']\n",
    "\n"
   ]
  },
  {
   "cell_type": "code",
   "execution_count": 11,
   "metadata": {},
   "outputs": [],
   "source": [
    "X_train, X_test, y_train, y_test = train_test_split(X, y, random_state=0, test_size=0.3)"
   ]
  },
  {
   "cell_type": "markdown",
   "metadata": {},
   "source": [
    "#### FINAL Baseline Model\n",
    "\n",
    "\"Prediction = Goal_value * factor\"\n",
    "\n",
    "-> compute it"
   ]
  },
  {
   "cell_type": "code",
   "execution_count": 37,
   "metadata": {},
   "outputs": [
    {
     "name": "stdout",
     "output_type": "stream",
     "text": [
      "0.19887309256779198\n"
     ]
    }
   ],
   "source": [
    "def calculate_factor(dataframe):\n",
    "    # Calculate the mean of 'Goal' and 'Pledged' columns\n",
    "    mean_goal = dataframe['Goal'].mean()\n",
    "    mean_pledged = dataframe['Pledged'].mean()\n",
    "    \n",
    "    # Calculate the factor\n",
    "    factor = mean_pledged / mean_goal\n",
    "    \n",
    "    return factor\n",
    "\n",
    "# Example usage with a dataframe named 'ks'\n",
    "factor = calculate_factor(df)\n",
    "print(factor)\n"
   ]
  },
  {
   "cell_type": "code",
   "execution_count": 13,
   "metadata": {},
   "outputs": [
    {
     "data": {
      "text/plain": [
       "(251831, 10)"
      ]
     },
     "execution_count": 13,
     "metadata": {},
     "output_type": "execute_result"
    }
   ],
   "source": [
    "ks.shape"
   ]
  },
  {
   "cell_type": "code",
   "execution_count": 14,
   "metadata": {},
   "outputs": [
    {
     "data": {
      "text/html": [
       "<div>\n",
       "<style scoped>\n",
       "    .dataframe tbody tr th:only-of-type {\n",
       "        vertical-align: middle;\n",
       "    }\n",
       "\n",
       "    .dataframe tbody tr th {\n",
       "        vertical-align: top;\n",
       "    }\n",
       "\n",
       "    .dataframe thead th {\n",
       "        text-align: right;\n",
       "    }\n",
       "</style>\n",
       "<table border=\"1\" class=\"dataframe\">\n",
       "  <thead>\n",
       "    <tr style=\"text-align: right;\">\n",
       "      <th></th>\n",
       "      <th>Goal</th>\n",
       "      <th>Pledged</th>\n",
       "      <th>Backers</th>\n",
       "      <th>Duration_days</th>\n",
       "      <th>Month</th>\n",
       "      <th>Name_length</th>\n",
       "    </tr>\n",
       "  </thead>\n",
       "  <tbody>\n",
       "    <tr>\n",
       "      <th>count</th>\n",
       "      <td>251831.000000</td>\n",
       "      <td>2.518310e+05</td>\n",
       "      <td>251831.000000</td>\n",
       "      <td>251831.000000</td>\n",
       "      <td>251831.000000</td>\n",
       "      <td>251831.000000</td>\n",
       "    </tr>\n",
       "    <tr>\n",
       "      <th>mean</th>\n",
       "      <td>11580.932209</td>\n",
       "      <td>9.686784e+03</td>\n",
       "      <td>122.174276</td>\n",
       "      <td>31.607193</td>\n",
       "      <td>6.310339</td>\n",
       "      <td>34.468862</td>\n",
       "    </tr>\n",
       "    <tr>\n",
       "      <th>std</th>\n",
       "      <td>15774.421676</td>\n",
       "      <td>6.958468e+04</td>\n",
       "      <td>828.326125</td>\n",
       "      <td>10.956577</td>\n",
       "      <td>3.306440</td>\n",
       "      <td>15.760413</td>\n",
       "    </tr>\n",
       "    <tr>\n",
       "      <th>min</th>\n",
       "      <td>1.000000</td>\n",
       "      <td>1.000000e+00</td>\n",
       "      <td>0.000000</td>\n",
       "      <td>0.000000</td>\n",
       "      <td>1.000000</td>\n",
       "      <td>1.000000</td>\n",
       "    </tr>\n",
       "    <tr>\n",
       "      <th>25%</th>\n",
       "      <td>2000.000000</td>\n",
       "      <td>1.450000e+02</td>\n",
       "      <td>4.000000</td>\n",
       "      <td>29.000000</td>\n",
       "      <td>3.000000</td>\n",
       "      <td>21.000000</td>\n",
       "    </tr>\n",
       "    <tr>\n",
       "      <th>50%</th>\n",
       "      <td>5000.000000</td>\n",
       "      <td>1.221000e+03</td>\n",
       "      <td>22.000000</td>\n",
       "      <td>29.000000</td>\n",
       "      <td>6.000000</td>\n",
       "      <td>34.000000</td>\n",
       "    </tr>\n",
       "    <tr>\n",
       "      <th>75%</th>\n",
       "      <td>15000.000000</td>\n",
       "      <td>5.644000e+03</td>\n",
       "      <td>78.000000</td>\n",
       "      <td>33.000000</td>\n",
       "      <td>9.000000</td>\n",
       "      <td>49.000000</td>\n",
       "    </tr>\n",
       "    <tr>\n",
       "      <th>max</th>\n",
       "      <td>99999.000000</td>\n",
       "      <td>1.328523e+07</td>\n",
       "      <td>219382.000000</td>\n",
       "      <td>89.000000</td>\n",
       "      <td>12.000000</td>\n",
       "      <td>71.000000</td>\n",
       "    </tr>\n",
       "  </tbody>\n",
       "</table>\n",
       "</div>"
      ],
      "text/plain": [
       "                Goal       Pledged        Backers  Duration_days  \\\n",
       "count  251831.000000  2.518310e+05  251831.000000  251831.000000   \n",
       "mean    11580.932209  9.686784e+03     122.174276      31.607193   \n",
       "std     15774.421676  6.958468e+04     828.326125      10.956577   \n",
       "min         1.000000  1.000000e+00       0.000000       0.000000   \n",
       "25%      2000.000000  1.450000e+02       4.000000      29.000000   \n",
       "50%      5000.000000  1.221000e+03      22.000000      29.000000   \n",
       "75%     15000.000000  5.644000e+03      78.000000      33.000000   \n",
       "max     99999.000000  1.328523e+07  219382.000000      89.000000   \n",
       "\n",
       "               Month    Name_length  \n",
       "count  251831.000000  251831.000000  \n",
       "mean        6.310339      34.468862  \n",
       "std         3.306440      15.760413  \n",
       "min         1.000000       1.000000  \n",
       "25%         3.000000      21.000000  \n",
       "50%         6.000000      34.000000  \n",
       "75%         9.000000      49.000000  \n",
       "max        12.000000      71.000000  "
      ]
     },
     "execution_count": 14,
     "metadata": {},
     "output_type": "execute_result"
    }
   ],
   "source": [
    "ks.describe()"
   ]
  },
  {
   "cell_type": "markdown",
   "metadata": {},
   "source": [
    "# Pipeline"
   ]
  },
  {
   "cell_type": "markdown",
   "metadata": {},
   "source": [
    "### INSIGHTS:\n",
    "\n",
    "- ~ 375.000 kickstarter projects  \n",
    "- data from 2009 - 2018\n",
    "- no missing values \n",
    "- no duplicates\n",
    "- State = Current condition the project is in (as of 2018-01-02)\n",
    "- State = Failed, Successful, Canceled, Suspended or Live \n",
    "- Peak in 2012 - 2014 (check)\n",
    "- Outliers (deal with them in pipelines)\n",
    "- 15 Categories for kickstarter projects (film&video, music = most frequent)\n",
    "- country imbalance (~78% of data from US, ~9% from UK, 4% Canada, 2% Australia, ~1% Germany, Rest < 1 %)\n",
    "- data from 2009 - 2011 only from US\n",
    "- high difference between goal and pledged in between categories\n",
    "- duration between 1 and 90 days\n",
    "- 53% failed, 36% successful and 12% other (Canceled 10%, Live 0.7%, Suspended 0.5%)\n",
    "- success rate varies for countries and categories\n",
    "- two cases that pledged less than their goal but still were successful\n",
    "- four cases that pledged more than their goal but still failed\n",
    "\n",
    "    -> usually if pledged > goal = success <br>\n",
    "    -> Target: 'Pledged' <br>\n",
    "    -> Business case: 'Predict the expected amount of money that will be raised for a (future) project idea.' <br>\n",
    "    -> Train data (input for predictions): without Nr. of Backers, Pledged, ID, State. (and Name?) <br>\n",
    "\n",
    "<br>\n",
    "\n",
    "### RESEACH QUESTIONS:\n",
    "\n",
    "1. Is the success of a campaign depending on the country?\n",
    "2. Is the success of a campaign depending on the category?\n",
    "3. Is the success of a campaign depending on the month of launching?\n",
    "4. Is the success of a campaign depending on the duration of the campaign?\n",
    "5. Is the success of a campaign depending on the Name?\n",
    "\n",
    "<br>\n",
    "\n",
    "### HYPOTHESIS:\n",
    "\n",
    "1. If started in US, then more money is raised.\n",
    "2. If category is technology, then the campaign is more likely to succeed.\n",
    "3. If the campaign is launched in September, the success rate is higher.\n",
    "4. If you set your duration lower than 30 days (default) than your success rate improves.\n",
    "5. The catchier and shorter the name, the higher the success rate.\n",
    "\n",
    "<br>\n",
    "\n",
    "### QUESTIONS:\n",
    "\n",
    "- Do we integrate name features?\n",
    "- how do we deal with other (canceled, etc.) - drop / partially drop / keep ...\n",
    "- what is our base model? do we need one?\n",
    "- do we deal with outliers? (goal > x million dollars) -> KEEP THEM (for learning fake campaigns also)\n",
    "\n",
    "<br>\n",
    "<br>\n",
    "    \n",
    "### DATA CLEANING / PREPARATION:\n",
    "\n",
    "- drop:\n",
    "    - dropped ID, Name, Launched and Deadline.\n",
    "\n",
    "- convert:\n",
    "    - converted Launched and Deadline into Duration_days  <br>\n",
    "    (to loose connection to specific year in order to make more precise predictions from future (2023) campaigns)\n",
    "    - converted Category and Subcategory into Combined_categories <br>\n",
    "    (to not loose connection between them)\n",
    "\n",
    "<br>\n",
    "\n",
    "\n",
    "### PIPELINES:\n",
    "\n",
    "#### PIPELINE 01 - Linear Regression\n",
    "\n",
    "- convert into categories (OHE):\n",
    "    - Country\n",
    "    - Combined_category\n",
    "\n",
    "<br>\n",
    "\n",
    "- bins:\n",
    "    - none\n",
    "\n",
    "<br>\n",
    "\n",
    "- polynomial feature expanision:\n",
    "    - all numerical data (Goal, Duration_days, Backers)\n",
    "\n",
    "<br>\n",
    "\n",
    "\n",
    "- Scaling:\n",
    "    - Goal: 1. log, 2. StandardScaler\n",
    "    - Pledged: 1. log, 2. StandardScaler (?)\n",
    "    - Duration_days: StandardScaler (?)\n",
    "\n",
    "<br>\n",
    "\n",
    "- missing values:\n",
    "    - none\n",
    "\n",
    "<br>\n",
    "\n",
    "- additional drops (remainder):\n",
    "    - State\n",
    "    - Backers"
   ]
  },
  {
   "cell_type": "code",
   "execution_count": 15,
   "metadata": {},
   "outputs": [
    {
     "data": {
      "text/html": [
       "<div>\n",
       "<style scoped>\n",
       "    .dataframe tbody tr th:only-of-type {\n",
       "        vertical-align: middle;\n",
       "    }\n",
       "\n",
       "    .dataframe tbody tr th {\n",
       "        vertical-align: top;\n",
       "    }\n",
       "\n",
       "    .dataframe thead th {\n",
       "        text-align: right;\n",
       "    }\n",
       "</style>\n",
       "<table border=\"1\" class=\"dataframe\">\n",
       "  <thead>\n",
       "    <tr style=\"text-align: right;\">\n",
       "      <th></th>\n",
       "      <th>Country</th>\n",
       "      <th>Goal</th>\n",
       "      <th>Backers</th>\n",
       "      <th>Duration_days</th>\n",
       "      <th>Month</th>\n",
       "      <th>Combined_category</th>\n",
       "      <th>Name_length</th>\n",
       "    </tr>\n",
       "  </thead>\n",
       "  <tbody>\n",
       "    <tr>\n",
       "      <th>51437</th>\n",
       "      <td>United States</td>\n",
       "      <td>3000</td>\n",
       "      <td>11</td>\n",
       "      <td>37</td>\n",
       "      <td>4</td>\n",
       "      <td>Music - Rock</td>\n",
       "      <td>26</td>\n",
       "    </tr>\n",
       "    <tr>\n",
       "      <th>57757</th>\n",
       "      <td>United States</td>\n",
       "      <td>2000</td>\n",
       "      <td>32</td>\n",
       "      <td>14</td>\n",
       "      <td>6</td>\n",
       "      <td>Film &amp; Video - Webseries</td>\n",
       "      <td>38</td>\n",
       "    </tr>\n",
       "    <tr>\n",
       "      <th>348934</th>\n",
       "      <td>United States</td>\n",
       "      <td>300</td>\n",
       "      <td>7</td>\n",
       "      <td>35</td>\n",
       "      <td>6</td>\n",
       "      <td>Fashion - Fashion</td>\n",
       "      <td>12</td>\n",
       "    </tr>\n",
       "    <tr>\n",
       "      <th>193634</th>\n",
       "      <td>Australia</td>\n",
       "      <td>676</td>\n",
       "      <td>3</td>\n",
       "      <td>17</td>\n",
       "      <td>1</td>\n",
       "      <td>Food - Food</td>\n",
       "      <td>30</td>\n",
       "    </tr>\n",
       "    <tr>\n",
       "      <th>112456</th>\n",
       "      <td>United States</td>\n",
       "      <td>870</td>\n",
       "      <td>32</td>\n",
       "      <td>29</td>\n",
       "      <td>9</td>\n",
       "      <td>Art - Illustration</td>\n",
       "      <td>44</td>\n",
       "    </tr>\n",
       "  </tbody>\n",
       "</table>\n",
       "</div>"
      ],
      "text/plain": [
       "              Country  Goal  Backers  Duration_days  Month  \\\n",
       "51437   United States  3000       11             37      4   \n",
       "57757   United States  2000       32             14      6   \n",
       "348934  United States   300        7             35      6   \n",
       "193634      Australia   676        3             17      1   \n",
       "112456  United States   870       32             29      9   \n",
       "\n",
       "               Combined_category  Name_length  \n",
       "51437               Music - Rock           26  \n",
       "57757   Film & Video - Webseries           38  \n",
       "348934         Fashion - Fashion           12  \n",
       "193634               Food - Food           30  \n",
       "112456        Art - Illustration           44  "
      ]
     },
     "execution_count": 15,
     "metadata": {},
     "output_type": "execute_result"
    }
   ],
   "source": [
    "X_test.head()"
   ]
  },
  {
   "cell_type": "code",
   "execution_count": 16,
   "metadata": {},
   "outputs": [
    {
     "data": {
      "text/plain": [
       "Index(['Country', 'Goal', 'Backers', 'Duration_days', 'Month',\n",
       "       'Combined_category', 'Name_length'],\n",
       "      dtype='object')"
      ]
     },
     "execution_count": 16,
     "metadata": {},
     "output_type": "execute_result"
    }
   ],
   "source": [
    "X_test.columns"
   ]
  },
  {
   "cell_type": "code",
   "execution_count": 17,
   "metadata": {},
   "outputs": [],
   "source": [
    "ct_dt = ColumnTransformer([('ohe', OneHotEncoder(), ['Country', 'Combined_category', 'Month']),\n",
    "                                         # ('bin', KBinsDiscretizer(), ['Family']),\n",
    "                                         # ('goal', FunctionTransformer(log_transform), ['Goal']),\n",
    "                                         # ('goal', pipeline_goal, ['Goal']),\n",
    "                                         # ('pledged', pipeline_pledged, ['Pledged']),                                         \n",
    "                                         # ('standard', MinMaxScaler(), ['Duration_days']),\n",
    "                                         ], remainder='passthrough') #passtrough?\n",
    "\n",
    "# remainder = everything not mentioned in the ColumnTransformer \n",
    "# `drop` = don't use them, `passthrough` - use them as they areX_train"
   ]
  },
  {
   "cell_type": "code",
   "execution_count": 28,
   "metadata": {},
   "outputs": [
    {
     "name": "stdout",
     "output_type": "stream",
     "text": [
      "Root Mean Squared Error: 52157.32481761096\n",
      "R2 Score for DT Model = 0.6025569425809868\n"
     ]
    }
   ],
   "source": [
    "pipeline_dt = Pipeline([\n",
    "    ('preprocessor', ct_dt),\n",
    "    ('regressor', GradientBoostingRegressor(random_state=0))\n",
    "])\n",
    "\n",
    "pipeline_dt.fit(X_train, y_train)\n",
    "\n",
    "y_pred_dt = pipeline_dt.predict(X_test)\n",
    "\n",
    "mse_dt = mean_squared_error(y_test, y_pred_dt, squared=False)\n",
    "print(f'Root Mean Squared Error: {mse_dt}')\n",
    "\n",
    "r2_dt = r2_score(y_test, y_pred_dt)\n",
    "print(f'R2 Score for DT Model = {r2_dt}')\n"
   ]
  },
  {
   "cell_type": "code",
   "execution_count": 31,
   "metadata": {},
   "outputs": [],
   "source": [
    "import pickle\n",
    "with open(\"models/decision_tree_4.pkl\", \"wb\") as file:\n",
    "    pickle.dump(pipeline_dt, file)"
   ]
  },
  {
   "cell_type": "code",
   "execution_count": 20,
   "metadata": {},
   "outputs": [
    {
     "data": {
      "text/plain": [
       "(251831, 10)"
      ]
     },
     "execution_count": 20,
     "metadata": {},
     "output_type": "execute_result"
    }
   ],
   "source": [
    "ks.shape"
   ]
  },
  {
   "cell_type": "code",
   "execution_count": 21,
   "metadata": {},
   "outputs": [
    {
     "data": {
      "text/plain": [
       "Index(['Name', 'Country', 'Goal', 'Pledged', 'Backers', 'State',\n",
       "       'Duration_days', 'Month', 'Combined_category', 'Name_length'],\n",
       "      dtype='object')"
      ]
     },
     "execution_count": 21,
     "metadata": {},
     "output_type": "execute_result"
    }
   ],
   "source": [
    "ks.columns"
   ]
  },
  {
   "cell_type": "markdown",
   "metadata": {},
   "source": [
    "(This is our baseline model)"
   ]
  },
  {
   "cell_type": "markdown",
   "metadata": {},
   "source": [
    "1. regression first, then classification\n",
    "2. more features, more easier question\n",
    "3. train it on subset of data -> better result\n",
    "4. first classification (success or failure) and for some subset -> actual number\n",
    "5. expose funding, future problems (for whom are we doing the project?)\n",
    "6. new kind of staff pick (without human bias) - what will be trending/successful? (but would be missed because of manual selection process)\n",
    "7. \"AI / ML pick\" - less risk, etc.\n",
    "\n",
    "SUBSET IDEAS:\n",
    "- drop outliers\n",
    "- 2014 - 2018\n",
    "- concentrate on US\n",
    "- concentrate on category\n",
    "- duration\n",
    "- combine ideas"
   ]
  },
  {
   "cell_type": "code",
   "execution_count": 22,
   "metadata": {},
   "outputs": [
    {
     "data": {
      "text/html": [
       "<div>\n",
       "<style scoped>\n",
       "    .dataframe tbody tr th:only-of-type {\n",
       "        vertical-align: middle;\n",
       "    }\n",
       "\n",
       "    .dataframe tbody tr th {\n",
       "        vertical-align: top;\n",
       "    }\n",
       "\n",
       "    .dataframe thead th {\n",
       "        text-align: right;\n",
       "    }\n",
       "</style>\n",
       "<table border=\"1\" class=\"dataframe\">\n",
       "  <thead>\n",
       "    <tr style=\"text-align: right;\">\n",
       "      <th></th>\n",
       "      <th>Goal</th>\n",
       "      <th>Pledged</th>\n",
       "      <th>Backers</th>\n",
       "      <th>Duration_days</th>\n",
       "      <th>Month</th>\n",
       "      <th>Name_length</th>\n",
       "    </tr>\n",
       "  </thead>\n",
       "  <tbody>\n",
       "    <tr>\n",
       "      <th>count</th>\n",
       "      <td>251831.000000</td>\n",
       "      <td>2.518310e+05</td>\n",
       "      <td>251831.000000</td>\n",
       "      <td>251831.000000</td>\n",
       "      <td>251831.000000</td>\n",
       "      <td>251831.000000</td>\n",
       "    </tr>\n",
       "    <tr>\n",
       "      <th>mean</th>\n",
       "      <td>11580.932209</td>\n",
       "      <td>9.686784e+03</td>\n",
       "      <td>122.174276</td>\n",
       "      <td>31.607193</td>\n",
       "      <td>6.310339</td>\n",
       "      <td>34.468862</td>\n",
       "    </tr>\n",
       "    <tr>\n",
       "      <th>std</th>\n",
       "      <td>15774.421676</td>\n",
       "      <td>6.958468e+04</td>\n",
       "      <td>828.326125</td>\n",
       "      <td>10.956577</td>\n",
       "      <td>3.306440</td>\n",
       "      <td>15.760413</td>\n",
       "    </tr>\n",
       "    <tr>\n",
       "      <th>min</th>\n",
       "      <td>1.000000</td>\n",
       "      <td>1.000000e+00</td>\n",
       "      <td>0.000000</td>\n",
       "      <td>0.000000</td>\n",
       "      <td>1.000000</td>\n",
       "      <td>1.000000</td>\n",
       "    </tr>\n",
       "    <tr>\n",
       "      <th>25%</th>\n",
       "      <td>2000.000000</td>\n",
       "      <td>1.450000e+02</td>\n",
       "      <td>4.000000</td>\n",
       "      <td>29.000000</td>\n",
       "      <td>3.000000</td>\n",
       "      <td>21.000000</td>\n",
       "    </tr>\n",
       "    <tr>\n",
       "      <th>50%</th>\n",
       "      <td>5000.000000</td>\n",
       "      <td>1.221000e+03</td>\n",
       "      <td>22.000000</td>\n",
       "      <td>29.000000</td>\n",
       "      <td>6.000000</td>\n",
       "      <td>34.000000</td>\n",
       "    </tr>\n",
       "    <tr>\n",
       "      <th>75%</th>\n",
       "      <td>15000.000000</td>\n",
       "      <td>5.644000e+03</td>\n",
       "      <td>78.000000</td>\n",
       "      <td>33.000000</td>\n",
       "      <td>9.000000</td>\n",
       "      <td>49.000000</td>\n",
       "    </tr>\n",
       "    <tr>\n",
       "      <th>max</th>\n",
       "      <td>99999.000000</td>\n",
       "      <td>1.328523e+07</td>\n",
       "      <td>219382.000000</td>\n",
       "      <td>89.000000</td>\n",
       "      <td>12.000000</td>\n",
       "      <td>71.000000</td>\n",
       "    </tr>\n",
       "  </tbody>\n",
       "</table>\n",
       "</div>"
      ],
      "text/plain": [
       "                Goal       Pledged        Backers  Duration_days  \\\n",
       "count  251831.000000  2.518310e+05  251831.000000  251831.000000   \n",
       "mean    11580.932209  9.686784e+03     122.174276      31.607193   \n",
       "std     15774.421676  6.958468e+04     828.326125      10.956577   \n",
       "min         1.000000  1.000000e+00       0.000000       0.000000   \n",
       "25%      2000.000000  1.450000e+02       4.000000      29.000000   \n",
       "50%      5000.000000  1.221000e+03      22.000000      29.000000   \n",
       "75%     15000.000000  5.644000e+03      78.000000      33.000000   \n",
       "max     99999.000000  1.328523e+07  219382.000000      89.000000   \n",
       "\n",
       "               Month    Name_length  \n",
       "count  251831.000000  251831.000000  \n",
       "mean        6.310339      34.468862  \n",
       "std         3.306440      15.760413  \n",
       "min         1.000000       1.000000  \n",
       "25%         3.000000      21.000000  \n",
       "50%         6.000000      34.000000  \n",
       "75%         9.000000      49.000000  \n",
       "max        12.000000      71.000000  "
      ]
     },
     "execution_count": 22,
     "metadata": {},
     "output_type": "execute_result"
    }
   ],
   "source": [
    "ks.describe()"
   ]
  },
  {
   "cell_type": "code",
   "execution_count": 23,
   "metadata": {},
   "outputs": [],
   "source": [
    "# # Create a pipeline that applies preprocessing and then the regression model\n",
    "# pipeline_random_forest = Pipeline([\n",
    "#     ('preprocessor', ct_dt),\n",
    "#     ('regressor', RandomForestRegressor(max_depth=30, n_jobs=-1, n_estimators=100))\n",
    "# ])\n",
    "\n",
    "# # Fit the pipeline_lin_reg to the training data\n",
    "# pipeline_random_forest.fit(X_train, y_train)\n",
    "\n",
    "# # Make predictions on the test data\n",
    "# y_pred_rf = pipeline_random_forest.predict(X_test)\n",
    "\n",
    "# # Evaluate the model (you can use different regression metrics)\n",
    "# mse_rf = mean_squared_error(y_test, y_pred_lr, squared=False)\n",
    "# print(f'Root Mean Squared Error: {mse_rf}')\n",
    "\n",
    "# r2_rf = r2_score(y_test, y_pred_lr)\n",
    "# print(f'R2 Score for LR Model = {r2_rf}')"
   ]
  },
  {
   "cell_type": "code",
   "execution_count": 25,
   "metadata": {},
   "outputs": [],
   "source": [
    "# sns.scatterplot(x=y_test, y=y_pred_dt, hue=X_test['State'], marker='.')\n",
    "# plt.xscale('log')\n",
    "# plt.yscale('log')"
   ]
  },
  {
   "cell_type": "code",
   "execution_count": 26,
   "metadata": {},
   "outputs": [
    {
     "data": {
      "text/plain": [
       "Text(0.5, 0, 'Target (Pledged)')"
      ]
     },
     "execution_count": 26,
     "metadata": {},
     "output_type": "execute_result"
    },
    {
     "data": {
      "image/png": "[encoded data removed]",
      "text/plain": [
       "<Figure size 640x480 with 1 Axes>"
      ]
     },
     "metadata": {},
     "output_type": "display_data"
    }
   ],
   "source": [
    "sns.residplot(x=y_test, y=y_pred_dt)\n",
    "plt.ylabel('Residual')\n",
    "plt.xlabel('Target (Pledged)')"
   ]
  },
  {
   "cell_type": "markdown",
   "metadata": {},
   "source": [
    "IDEAS:\n",
    "- stacking: use results from different categories for combined model (ask Nils)\n",
    "- gridsearch / cv\n",
    "- evaluation possibilites (https://dataoutpost.wordpress.com/2018/04/06/model-evaluation-of-decision-tree-regression-model/)\n",
    "- residuals"
   ]
  },
  {
   "cell_type": "code",
   "execution_count": 27,
   "metadata": {},
   "outputs": [
    {
     "data": {
      "text/plain": [
       "{'memory': None,\n",
       " 'steps': [('preprocessor',\n",
       "   ColumnTransformer(remainder='passthrough',\n",
       "                     transformers=[('ohe', OneHotEncoder(),\n",
       "                                    ['Country', 'Combined_category', 'Month'])])),\n",
       "  ('regressor', GradientBoostingRegressor())],\n",
       " 'verbose': False,\n",
       " 'preprocessor': ColumnTransformer(remainder='passthrough',\n",
       "                   transformers=[('ohe', OneHotEncoder(),\n",
       "                                  ['Country', 'Combined_category', 'Month'])]),\n",
       " 'regressor': GradientBoostingRegressor(),\n",
       " 'preprocessor__n_jobs': None,\n",
       " 'preprocessor__remainder': 'passthrough',\n",
       " 'preprocessor__sparse_threshold': 0.3,\n",
       " 'preprocessor__transformer_weights': None,\n",
       " 'preprocessor__transformers': [('ohe',\n",
       "   OneHotEncoder(),\n",
       "   ['Country', 'Combined_category', 'Month'])],\n",
       " 'preprocessor__verbose': False,\n",
       " 'preprocessor__verbose_feature_names_out': True,\n",
       " 'preprocessor__ohe': OneHotEncoder(),\n",
       " 'preprocessor__ohe__categories': 'auto',\n",
       " 'preprocessor__ohe__drop': None,\n",
       " 'preprocessor__ohe__dtype': numpy.float64,\n",
       " 'preprocessor__ohe__feature_name_combiner': 'concat',\n",
       " 'preprocessor__ohe__handle_unknown': 'error',\n",
       " 'preprocessor__ohe__max_categories': None,\n",
       " 'preprocessor__ohe__min_frequency': None,\n",
       " 'preprocessor__ohe__sparse': 'deprecated',\n",
       " 'preprocessor__ohe__sparse_output': True,\n",
       " 'regressor__alpha': 0.9,\n",
       " 'regressor__ccp_alpha': 0.0,\n",
       " 'regressor__criterion': 'friedman_mse',\n",
       " 'regressor__init': None,\n",
       " 'regressor__learning_rate': 0.1,\n",
       " 'regressor__loss': 'squared_error',\n",
       " 'regressor__max_depth': 3,\n",
       " 'regressor__max_features': None,\n",
       " 'regressor__max_leaf_nodes': None,\n",
       " 'regressor__min_impurity_decrease': 0.0,\n",
       " 'regressor__min_samples_leaf': 1,\n",
       " 'regressor__min_samples_split': 2,\n",
       " 'regressor__min_weight_fraction_leaf': 0.0,\n",
       " 'regressor__n_estimators': 100,\n",
       " 'regressor__n_iter_no_change': None,\n",
       " 'regressor__random_state': None,\n",
       " 'regressor__subsample': 1.0,\n",
       " 'regressor__tol': 0.0001,\n",
       " 'regressor__validation_fraction': 0.1,\n",
       " 'regressor__verbose': 0,\n",
       " 'regressor__warm_start': False}"
      ]
     },
     "execution_count": 27,
     "metadata": {},
     "output_type": "execute_result"
    }
   ],
   "source": [
    "pipeline_dt.get_params()"
   ]
  },
  {
   "cell_type": "code",
   "execution_count": 30,
   "metadata": {},
   "outputs": [],
   "source": [
    "params_dict = { 'regressor__criterion': ['friedman_mse', 'squared_error'],\n",
    "                'regressor__loss': ['squared_error','absolute_error', 'huber', 'quantile'],\n",
    "                'regressor__max_depth': [3, 5, 10],\n",
    "                #'regressor__max_features': None,\n",
    "                #'regressor__max_leaf_nodes': None,\n",
    "                #'regressor__min_impurity_decrease': 0.0,\n",
    "                #'regressor__min_samples_leaf': 1,\n",
    "                #'regressor__min_samples_split': 2,\n",
    "                #'regressor__min_weight_fraction_leaf': 0.0,\n",
    "                'regressor__n_estimators': [50, 100, 200]\n",
    "                #'regressor__n_iter_no_change': None,\n",
    "                #'regressor__random_state': None,\n",
    "                #'regressor__subsample': 1.0,\n",
    "                #'regressor__tol': 0.0001,\n",
    "                #'regressor__validation_fraction': 0.1,\n",
    "                #'regressor__verbose': 0,\n",
    "                #'regressor__warm_start': False\n",
    "               }"
   ]
  },
  {
   "cell_type": "code",
   "execution_count": 32,
   "metadata": {},
   "outputs": [],
   "source": [
    "gridsearch = GridSearchCV(pipeline_dt, params_dict, cv=5, n_jobs=-1)"
   ]
  },
  {
   "cell_type": "code",
   "execution_count": 33,
   "metadata": {},
   "outputs": [
    {
     "data": {
      "text/html": [
       "<style>#sk-container-id-1 {color: black;}#sk-container-id-1 pre{padding: 0;}#sk-container-id-1 div.sk-toggleable {background-color: white;}#sk-container-id-1 label.sk-toggleable__label {cursor: pointer;display: block;width: 100%;margin-bottom: 0;padding: 0.3em;box-sizing: border-box;text-align: center;}#sk-container-id-1 label.sk-toggleable__label-arrow:before {content: \"▸\";float: left;margin-right: 0.25em;color: #696969;}#sk-container-id-1 label.sk-toggleable__label-arrow:hover:before {color: black;}#sk-container-id-1 div.sk-estimator:hover label.sk-toggleable__label-arrow:before {color: black;}#sk-container-id-1 div.sk-toggleable__content {max-height: 0;max-width: 0;overflow: hidden;text-align: left;background-color: #f0f8ff;}#sk-container-id-1 div.sk-toggleable__content pre {margin: 0.2em;color: black;border-radius: 0.25em;background-color: #f0f8ff;}#sk-container-id-1 input.sk-toggleable__control:checked~div.sk-toggleable__content {max-height: 200px;max-width: 100%;overflow: auto;}#sk-container-id-1 input.sk-toggleable__control:checked~label.sk-toggleable__label-arrow:before {content: \"▾\";}#sk-container-id-1 div.sk-estimator input.sk-toggleable__control:checked~label.sk-toggleable__label {background-color: #d4ebff;}#sk-container-id-1 div.sk-label input.sk-toggleable__control:checked~label.sk-toggleable__label {background-color: #d4ebff;}#sk-container-id-1 input.sk-hidden--visually {border: 0;clip: rect(1px 1px 1px 1px);clip: rect(1px, 1px, 1px, 1px);height: 1px;margin: -1px;overflow: hidden;padding: 0;position: absolute;width: 1px;}#sk-container-id-1 div.sk-estimator {font-family: monospace;background-color: #f0f8ff;border: 1px dotted black;border-radius: 0.25em;box-sizing: border-box;margin-bottom: 0.5em;}#sk-container-id-1 div.sk-estimator:hover {background-color: #d4ebff;}#sk-container-id-1 div.sk-parallel-item::after {content: \"\";width: 100%;border-bottom: 1px solid gray;flex-grow: 1;}#sk-container-id-1 div.sk-label:hover label.sk-toggleable__label {background-color: #d4ebff;}#sk-container-id-1 div.sk-serial::before {content: \"\";position: absolute;border-left: 1px solid gray;box-sizing: border-box;top: 0;bottom: 0;left: 50%;z-index: 0;}#sk-container-id-1 div.sk-serial {display: flex;flex-direction: column;align-items: center;background-color: white;padding-right: 0.2em;padding-left: 0.2em;position: relative;}#sk-container-id-1 div.sk-item {position: relative;z-index: 1;}#sk-container-id-1 div.sk-parallel {display: flex;align-items: stretch;justify-content: center;background-color: white;position: relative;}#sk-container-id-1 div.sk-item::before, #sk-container-id-1 div.sk-parallel-item::before {content: \"\";position: absolute;border-left: 1px solid gray;box-sizing: border-box;top: 0;bottom: 0;left: 50%;z-index: -1;}#sk-container-id-1 div.sk-parallel-item {display: flex;flex-direction: column;z-index: 1;position: relative;background-color: white;}#sk-container-id-1 div.sk-parallel-item:first-child::after {align-self: flex-end;width: 50%;}#sk-container-id-1 div.sk-parallel-item:last-child::after {align-self: flex-start;width: 50%;}#sk-container-id-1 div.sk-parallel-item:only-child::after {width: 0;}#sk-container-id-1 div.sk-dashed-wrapped {border: 1px dashed gray;margin: 0 0.4em 0.5em 0.4em;box-sizing: border-box;padding-bottom: 0.4em;background-color: white;}#sk-container-id-1 div.sk-label label {font-family: monospace;font-weight: bold;display: inline-block;line-height: 1.2em;}#sk-container-id-1 div.sk-label-container {text-align: center;}#sk-container-id-1 div.sk-container {/* jupyter's `normalize.less` sets `[hidden] { display: none; }` but bootstrap.min.css set `[hidden] { display: none !important; }` so we also need the `!important` here to be able to override the default hidden behavior on the sphinx rendered scikit-learn.org. See: https://github.com/scikit-learn/scikit-learn/issues/21755 */display: inline-block !important;position: relative;}#sk-container-id-1 div.sk-text-repr-fallback {display: none;}</style><div id=\"sk-container-id-1\" class=\"sk-top-container\"><div class=\"sk-text-repr-fallback\"><pre>GridSearchCV(cv=5,\n",
       "             estimator=Pipeline(steps=[(&#x27;preprocessor&#x27;,\n",
       "                                        ColumnTransformer(remainder=&#x27;passthrough&#x27;,\n",
       "                                                          transformers=[(&#x27;ohe&#x27;,\n",
       "                                                                         OneHotEncoder(),\n",
       "                                                                         [&#x27;Country&#x27;,\n",
       "                                                                          &#x27;Combined_category&#x27;,\n",
       "                                                                          &#x27;Month&#x27;])])),\n",
       "                                       (&#x27;regressor&#x27;,\n",
       "                                        GradientBoostingRegressor(random_state=0))]),\n",
       "             n_jobs=-1,\n",
       "             param_grid={&#x27;regressor__criterion&#x27;: [&#x27;friedman_mse&#x27;,\n",
       "                                                  &#x27;squared_error&#x27;],\n",
       "                         &#x27;regressor__loss&#x27;: [&#x27;squared_error&#x27;, &#x27;absolute_error&#x27;,\n",
       "                                             &#x27;huber&#x27;, &#x27;quantile&#x27;],\n",
       "                         &#x27;regressor__max_depth&#x27;: [3, 5, 10],\n",
       "                         &#x27;regressor__n_estimators&#x27;: [50, 100, 200]})</pre><b>In a Jupyter environment, please rerun this cell to show the HTML representation or trust the notebook. <br />On GitHub, the HTML representation is unable to render, please try loading this page with nbviewer.org.</b></div><div class=\"sk-container\" hidden><div class=\"sk-item sk-dashed-wrapped\"><div class=\"sk-label-container\"><div class=\"sk-label sk-toggleable\"><input class=\"sk-toggleable__control sk-hidden--visually\" id=\"sk-estimator-id-1\" type=\"checkbox\" ><label for=\"sk-estimator-id-1\" class=\"sk-toggleable__label sk-toggleable__label-arrow\">GridSearchCV</label><div class=\"sk-toggleable__content\"><pre>GridSearchCV(cv=5,\n",
       "             estimator=Pipeline(steps=[(&#x27;preprocessor&#x27;,\n",
       "                                        ColumnTransformer(remainder=&#x27;passthrough&#x27;,\n",
       "                                                          transformers=[(&#x27;ohe&#x27;,\n",
       "                                                                         OneHotEncoder(),\n",
       "                                                                         [&#x27;Country&#x27;,\n",
       "                                                                          &#x27;Combined_category&#x27;,\n",
       "                                                                          &#x27;Month&#x27;])])),\n",
       "                                       (&#x27;regressor&#x27;,\n",
       "                                        GradientBoostingRegressor(random_state=0))]),\n",
       "             n_jobs=-1,\n",
       "             param_grid={&#x27;regressor__criterion&#x27;: [&#x27;friedman_mse&#x27;,\n",
       "                                                  &#x27;squared_error&#x27;],\n",
       "                         &#x27;regressor__loss&#x27;: [&#x27;squared_error&#x27;, &#x27;absolute_error&#x27;,\n",
       "                                             &#x27;huber&#x27;, &#x27;quantile&#x27;],\n",
       "                         &#x27;regressor__max_depth&#x27;: [3, 5, 10],\n",
       "                         &#x27;regressor__n_estimators&#x27;: [50, 100, 200]})</pre></div></div></div><div class=\"sk-parallel\"><div class=\"sk-parallel-item\"><div class=\"sk-item\"><div class=\"sk-label-container\"><div class=\"sk-label sk-toggleable\"><input class=\"sk-toggleable__control sk-hidden--visually\" id=\"sk-estimator-id-2\" type=\"checkbox\" ><label for=\"sk-estimator-id-2\" class=\"sk-toggleable__label sk-toggleable__label-arrow\">estimator: Pipeline</label><div class=\"sk-toggleable__content\"><pre>Pipeline(steps=[(&#x27;preprocessor&#x27;,\n",
       "                 ColumnTransformer(remainder=&#x27;passthrough&#x27;,\n",
       "                                   transformers=[(&#x27;ohe&#x27;, OneHotEncoder(),\n",
       "                                                  [&#x27;Country&#x27;,\n",
       "                                                   &#x27;Combined_category&#x27;,\n",
       "                                                   &#x27;Month&#x27;])])),\n",
       "                (&#x27;regressor&#x27;, GradientBoostingRegressor(random_state=0))])</pre></div></div></div><div class=\"sk-serial\"><div class=\"sk-item\"><div class=\"sk-serial\"><div class=\"sk-item sk-dashed-wrapped\"><div class=\"sk-label-container\"><div class=\"sk-label sk-toggleable\"><input class=\"sk-toggleable__control sk-hidden--visually\" id=\"sk-estimator-id-3\" type=\"checkbox\" ><label for=\"sk-estimator-id-3\" class=\"sk-toggleable__label sk-toggleable__label-arrow\">preprocessor: ColumnTransformer</label><div class=\"sk-toggleable__content\"><pre>ColumnTransformer(remainder=&#x27;passthrough&#x27;,\n",
       "                  transformers=[(&#x27;ohe&#x27;, OneHotEncoder(),\n",
       "                                 [&#x27;Country&#x27;, &#x27;Combined_category&#x27;, &#x27;Month&#x27;])])</pre></div></div></div><div class=\"sk-parallel\"><div class=\"sk-parallel-item\"><div class=\"sk-item\"><div class=\"sk-label-container\"><div class=\"sk-label sk-toggleable\"><input class=\"sk-toggleable__control sk-hidden--visually\" id=\"sk-estimator-id-4\" type=\"checkbox\" ><label for=\"sk-estimator-id-4\" class=\"sk-toggleable__label sk-toggleable__label-arrow\">ohe</label><div class=\"sk-toggleable__content\"><pre>[&#x27;Country&#x27;, &#x27;Combined_category&#x27;, &#x27;Month&#x27;]</pre></div></div></div><div class=\"sk-serial\"><div class=\"sk-item\"><div class=\"sk-estimator sk-toggleable\"><input class=\"sk-toggleable__control sk-hidden--visually\" id=\"sk-estimator-id-5\" type=\"checkbox\" ><label for=\"sk-estimator-id-5\" class=\"sk-toggleable__label sk-toggleable__label-arrow\">OneHotEncoder</label><div class=\"sk-toggleable__content\"><pre>OneHotEncoder()</pre></div></div></div></div></div></div><div class=\"sk-parallel-item\"><div class=\"sk-item\"><div class=\"sk-label-container\"><div class=\"sk-label sk-toggleable\"><input class=\"sk-toggleable__control sk-hidden--visually\" id=\"sk-estimator-id-6\" type=\"checkbox\" ><label for=\"sk-estimator-id-6\" class=\"sk-toggleable__label sk-toggleable__label-arrow\">remainder</label><div class=\"sk-toggleable__content\"><pre>[&#x27;Goal&#x27;, &#x27;Backers&#x27;, &#x27;Duration_days&#x27;, &#x27;Name_length&#x27;]</pre></div></div></div><div class=\"sk-serial\"><div class=\"sk-item\"><div class=\"sk-estimator sk-toggleable\"><input class=\"sk-toggleable__control sk-hidden--visually\" id=\"sk-estimator-id-7\" type=\"checkbox\" ><label for=\"sk-estimator-id-7\" class=\"sk-toggleable__label sk-toggleable__label-arrow\">passthrough</label><div class=\"sk-toggleable__content\"><pre>passthrough</pre></div></div></div></div></div></div></div></div><div class=\"sk-item\"><div class=\"sk-estimator sk-toggleable\"><input class=\"sk-toggleable__control sk-hidden--visually\" id=\"sk-estimator-id-8\" type=\"checkbox\" ><label for=\"sk-estimator-id-8\" class=\"sk-toggleable__label sk-toggleable__label-arrow\">GradientBoostingRegressor</label><div class=\"sk-toggleable__content\"><pre>GradientBoostingRegressor(random_state=0)</pre></div></div></div></div></div></div></div></div></div></div></div></div>"
      ],
      "text/plain": [
       "GridSearchCV(cv=5,\n",
       "             estimator=Pipeline(steps=[('preprocessor',\n",
       "                                        ColumnTransformer(remainder='passthrough',\n",
       "                                                          transformers=[('ohe',\n",
       "                                                                         OneHotEncoder(),\n",
       "                                                                         ['Country',\n",
       "                                                                          'Combined_category',\n",
       "                                                                          'Month'])])),\n",
       "                                       ('regressor',\n",
       "                                        GradientBoostingRegressor(random_state=0))]),\n",
       "             n_jobs=-1,\n",
       "             param_grid={'regressor__criterion': ['friedman_mse',\n",
       "                                                  'squared_error'],\n",
       "                         'regressor__loss': ['squared_error', 'absolute_error',\n",
       "                                             'huber', 'quantile'],\n",
       "                         'regressor__max_depth': [3, 5, 10],\n",
       "                         'regressor__n_estimators': [50, 100, 200]})"
      ]
     },
     "execution_count": 33,
     "metadata": {},
     "output_type": "execute_result"
    }
   ],
   "source": [
    "gridsearch.fit(X_train, y_train)"
   ]
  },
  {
   "cell_type": "code",
   "execution_count": 34,
   "metadata": {},
   "outputs": [
    {
     "data": {
      "text/plain": [
       "{'regressor__criterion': 'friedman_mse',\n",
       " 'regressor__loss': 'huber',\n",
       " 'regressor__max_depth': 10,\n",
       " 'regressor__n_estimators': 200}"
      ]
     },
     "execution_count": 34,
     "metadata": {},
     "output_type": "execute_result"
    }
   ],
   "source": [
    "gridsearch.best_params_"
   ]
  },
  {
   "cell_type": "code",
   "execution_count": 35,
   "metadata": {},
   "outputs": [
    {
     "data": {
      "text/plain": [
       "0.5997906269152637"
      ]
     },
     "execution_count": 35,
     "metadata": {},
     "output_type": "execute_result"
    }
   ],
   "source": [
    "gridsearch.best_estimator_.score(X_test, y_test)"
   ]
  },
  {
   "cell_type": "code",
   "execution_count": 36,
   "metadata": {},
   "outputs": [
    {
     "name": "stdout",
     "output_type": "stream",
     "text": [
      "Root Mean Squared Error: 52338.524901900244\n",
      "R2 Score for DT Model = 0.5997906269152637\n"
     ]
    }
   ],
   "source": [
    "tuned_model = gridsearch.best_estimator_.fit(X_train, y_train)\n",
    "\n",
    "y_pred_tm = tuned_model.predict(X_test)\n",
    "\n",
    "mse_tm = mean_squared_error(y_test, y_pred_tm, squared=False)\n",
    "print(f'Root Mean Squared Error: {mse_tm}')\n",
    "\n",
    "r2_tm = r2_score(y_test, y_pred_tm)\n",
    "print(f'R2 Score for DT Model = {r2_tm}')"
   ]
  },
  {
   "cell_type": "markdown",
   "metadata": {},
   "source": [
    "### SUBSET"
   ]
  },
  {
   "cell_type": "code",
   "execution_count": null,
   "metadata": {},
   "outputs": [
    {
     "name": "stderr",
     "output_type": "stream",
     "text": [
      "/var/folders/bf/sffgn3cj09b7w9m9tzcwtpdc0000gn/T/ipykernel_41048/106689526.py:14: SettingWithCopyWarning: \n",
      "A value is trying to be set on a copy of a slice from a DataFrame.\n",
      "Try using .loc[row_indexer,col_indexer] = value instead\n",
      "\n",
      "See the caveats in the documentation: https://pandas.pydata.org/pandas-docs/stable/user_guide/indexing.html#returning-a-view-versus-a-copy\n",
      "  dataframe_new[\"Combined_category\"] = df[\"Category\"] + \" - \" + df[\"Subcategory\"]\n",
      "/var/folders/bf/sffgn3cj09b7w9m9tzcwtpdc0000gn/T/ipykernel_41048/106689526.py:16: SettingWithCopyWarning: \n",
      "A value is trying to be set on a copy of a slice from a DataFrame.\n",
      "Try using .loc[row_indexer,col_indexer] = value instead\n",
      "\n",
      "See the caveats in the documentation: https://pandas.pydata.org/pandas-docs/stable/user_guide/indexing.html#returning-a-view-versus-a-copy\n",
      "  dataframe_new[[\"Category\", \"Subcategory\", \"Country\", \"State\", \"Combined_category\"]] = \\\n",
      "/var/folders/bf/sffgn3cj09b7w9m9tzcwtpdc0000gn/T/ipykernel_41048/106689526.py:23: SettingWithCopyWarning: \n",
      "A value is trying to be set on a copy of a slice from a DataFrame.\n",
      "Try using .loc[row_indexer,col_indexer] = value instead\n",
      "\n",
      "See the caveats in the documentation: https://pandas.pydata.org/pandas-docs/stable/user_guide/indexing.html#returning-a-view-versus-a-copy\n",
      "  dataframe_new[\"Name_length\"] = dataframe_new[\"Name\"].str.len()\n"
     ]
    },
    {
     "data": {
      "text/html": [
       "<style>#sk-container-id-7 {color: black;}#sk-container-id-7 pre{padding: 0;}#sk-container-id-7 div.sk-toggleable {background-color: white;}#sk-container-id-7 label.sk-toggleable__label {cursor: pointer;display: block;width: 100%;margin-bottom: 0;padding: 0.3em;box-sizing: border-box;text-align: center;}#sk-container-id-7 label.sk-toggleable__label-arrow:before {content: \"▸\";float: left;margin-right: 0.25em;color: #696969;}#sk-container-id-7 label.sk-toggleable__label-arrow:hover:before {color: black;}#sk-container-id-7 div.sk-estimator:hover label.sk-toggleable__label-arrow:before {color: black;}#sk-container-id-7 div.sk-toggleable__content {max-height: 0;max-width: 0;overflow: hidden;text-align: left;background-color: #f0f8ff;}#sk-container-id-7 div.sk-toggleable__content pre {margin: 0.2em;color: black;border-radius: 0.25em;background-color: #f0f8ff;}#sk-container-id-7 input.sk-toggleable__control:checked~div.sk-toggleable__content {max-height: 200px;max-width: 100%;overflow: auto;}#sk-container-id-7 input.sk-toggleable__control:checked~label.sk-toggleable__label-arrow:before {content: \"▾\";}#sk-container-id-7 div.sk-estimator input.sk-toggleable__control:checked~label.sk-toggleable__label {background-color: #d4ebff;}#sk-container-id-7 div.sk-label input.sk-toggleable__control:checked~label.sk-toggleable__label {background-color: #d4ebff;}#sk-container-id-7 input.sk-hidden--visually {border: 0;clip: rect(1px 1px 1px 1px);clip: rect(1px, 1px, 1px, 1px);height: 1px;margin: -1px;overflow: hidden;padding: 0;position: absolute;width: 1px;}#sk-container-id-7 div.sk-estimator {font-family: monospace;background-color: #f0f8ff;border: 1px dotted black;border-radius: 0.25em;box-sizing: border-box;margin-bottom: 0.5em;}#sk-container-id-7 div.sk-estimator:hover {background-color: #d4ebff;}#sk-container-id-7 div.sk-parallel-item::after {content: \"\";width: 100%;border-bottom: 1px solid gray;flex-grow: 1;}#sk-container-id-7 div.sk-label:hover label.sk-toggleable__label {background-color: #d4ebff;}#sk-container-id-7 div.sk-serial::before {content: \"\";position: absolute;border-left: 1px solid gray;box-sizing: border-box;top: 0;bottom: 0;left: 50%;z-index: 0;}#sk-container-id-7 div.sk-serial {display: flex;flex-direction: column;align-items: center;background-color: white;padding-right: 0.2em;padding-left: 0.2em;position: relative;}#sk-container-id-7 div.sk-item {position: relative;z-index: 1;}#sk-container-id-7 div.sk-parallel {display: flex;align-items: stretch;justify-content: center;background-color: white;position: relative;}#sk-container-id-7 div.sk-item::before, #sk-container-id-7 div.sk-parallel-item::before {content: \"\";position: absolute;border-left: 1px solid gray;box-sizing: border-box;top: 0;bottom: 0;left: 50%;z-index: -1;}#sk-container-id-7 div.sk-parallel-item {display: flex;flex-direction: column;z-index: 1;position: relative;background-color: white;}#sk-container-id-7 div.sk-parallel-item:first-child::after {align-self: flex-end;width: 50%;}#sk-container-id-7 div.sk-parallel-item:last-child::after {align-self: flex-start;width: 50%;}#sk-container-id-7 div.sk-parallel-item:only-child::after {width: 0;}#sk-container-id-7 div.sk-dashed-wrapped {border: 1px dashed gray;margin: 0 0.4em 0.5em 0.4em;box-sizing: border-box;padding-bottom: 0.4em;background-color: white;}#sk-container-id-7 div.sk-label label {font-family: monospace;font-weight: bold;display: inline-block;line-height: 1.2em;}#sk-container-id-7 div.sk-label-container {text-align: center;}#sk-container-id-7 div.sk-container {/* jupyter's `normalize.less` sets `[hidden] { display: none; }` but bootstrap.min.css set `[hidden] { display: none !important; }` so we also need the `!important` here to be able to override the default hidden behavior on the sphinx rendered scikit-learn.org. See: https://github.com/scikit-learn/scikit-learn/issues/21755 */display: inline-block !important;position: relative;}#sk-container-id-7 div.sk-text-repr-fallback {display: none;}</style><div id=\"sk-container-id-7\" class=\"sk-top-container\"><div class=\"sk-text-repr-fallback\"><pre>Pipeline(steps=[(&#x27;preprocessor&#x27;,\n",
       "                 ColumnTransformer(remainder=&#x27;passthrough&#x27;,\n",
       "                                   transformers=[(&#x27;ohe&#x27;, OneHotEncoder(),\n",
       "                                                  [&#x27;Country&#x27;,\n",
       "                                                   &#x27;Combined_category&#x27;,\n",
       "                                                   &#x27;Month&#x27;])])),\n",
       "                (&#x27;regressor&#x27;, DecisionTreeRegressor(max_depth=30))])</pre><b>In a Jupyter environment, please rerun this cell to show the HTML representation or trust the notebook. <br />On GitHub, the HTML representation is unable to render, please try loading this page with nbviewer.org.</b></div><div class=\"sk-container\" hidden><div class=\"sk-item sk-dashed-wrapped\"><div class=\"sk-label-container\"><div class=\"sk-label sk-toggleable\"><input class=\"sk-toggleable__control sk-hidden--visually\" id=\"sk-estimator-id-47\" type=\"checkbox\" ><label for=\"sk-estimator-id-47\" class=\"sk-toggleable__label sk-toggleable__label-arrow\">Pipeline</label><div class=\"sk-toggleable__content\"><pre>Pipeline(steps=[(&#x27;preprocessor&#x27;,\n",
       "                 ColumnTransformer(remainder=&#x27;passthrough&#x27;,\n",
       "                                   transformers=[(&#x27;ohe&#x27;, OneHotEncoder(),\n",
       "                                                  [&#x27;Country&#x27;,\n",
       "                                                   &#x27;Combined_category&#x27;,\n",
       "                                                   &#x27;Month&#x27;])])),\n",
       "                (&#x27;regressor&#x27;, DecisionTreeRegressor(max_depth=30))])</pre></div></div></div><div class=\"sk-serial\"><div class=\"sk-item sk-dashed-wrapped\"><div class=\"sk-label-container\"><div class=\"sk-label sk-toggleable\"><input class=\"sk-toggleable__control sk-hidden--visually\" id=\"sk-estimator-id-48\" type=\"checkbox\" ><label for=\"sk-estimator-id-48\" class=\"sk-toggleable__label sk-toggleable__label-arrow\">preprocessor: ColumnTransformer</label><div class=\"sk-toggleable__content\"><pre>ColumnTransformer(remainder=&#x27;passthrough&#x27;,\n",
       "                  transformers=[(&#x27;ohe&#x27;, OneHotEncoder(),\n",
       "                                 [&#x27;Country&#x27;, &#x27;Combined_category&#x27;, &#x27;Month&#x27;])])</pre></div></div></div><div class=\"sk-parallel\"><div class=\"sk-parallel-item\"><div class=\"sk-item\"><div class=\"sk-label-container\"><div class=\"sk-label sk-toggleable\"><input class=\"sk-toggleable__control sk-hidden--visually\" id=\"sk-estimator-id-49\" type=\"checkbox\" ><label for=\"sk-estimator-id-49\" class=\"sk-toggleable__label sk-toggleable__label-arrow\">ohe</label><div class=\"sk-toggleable__content\"><pre>[&#x27;Country&#x27;, &#x27;Combined_category&#x27;, &#x27;Month&#x27;]</pre></div></div></div><div class=\"sk-serial\"><div class=\"sk-item\"><div class=\"sk-estimator sk-toggleable\"><input class=\"sk-toggleable__control sk-hidden--visually\" id=\"sk-estimator-id-50\" type=\"checkbox\" ><label for=\"sk-estimator-id-50\" class=\"sk-toggleable__label sk-toggleable__label-arrow\">OneHotEncoder</label><div class=\"sk-toggleable__content\"><pre>OneHotEncoder()</pre></div></div></div></div></div></div><div class=\"sk-parallel-item\"><div class=\"sk-item\"><div class=\"sk-label-container\"><div class=\"sk-label sk-toggleable\"><input class=\"sk-toggleable__control sk-hidden--visually\" id=\"sk-estimator-id-51\" type=\"checkbox\" ><label for=\"sk-estimator-id-51\" class=\"sk-toggleable__label sk-toggleable__label-arrow\">remainder</label><div class=\"sk-toggleable__content\"><pre>[&#x27;Name_length&#x27;, &#x27;Goal&#x27;, &#x27;Duration_days&#x27;]</pre></div></div></div><div class=\"sk-serial\"><div class=\"sk-item\"><div class=\"sk-estimator sk-toggleable\"><input class=\"sk-toggleable__control sk-hidden--visually\" id=\"sk-estimator-id-52\" type=\"checkbox\" ><label for=\"sk-estimator-id-52\" class=\"sk-toggleable__label sk-toggleable__label-arrow\">passthrough</label><div class=\"sk-toggleable__content\"><pre>passthrough</pre></div></div></div></div></div></div></div></div><div class=\"sk-item\"><div class=\"sk-estimator sk-toggleable\"><input class=\"sk-toggleable__control sk-hidden--visually\" id=\"sk-estimator-id-53\" type=\"checkbox\" ><label for=\"sk-estimator-id-53\" class=\"sk-toggleable__label sk-toggleable__label-arrow\">DecisionTreeRegressor</label><div class=\"sk-toggleable__content\"><pre>DecisionTreeRegressor(max_depth=30)</pre></div></div></div></div></div></div></div>"
      ],
      "text/plain": [
       "Pipeline(steps=[('preprocessor',\n",
       "                 ColumnTransformer(remainder='passthrough',\n",
       "                                   transformers=[('ohe', OneHotEncoder(),\n",
       "                                                  ['Country',\n",
       "                                                   'Combined_category',\n",
       "                                                   'Month'])])),\n",
       "                ('regressor', DecisionTreeRegressor(max_depth=30))])"
      ]
     },
     "execution_count": 155,
     "metadata": {},
     "output_type": "execute_result"
    }
   ],
   "source": [
    "ss_01 = df.query(\"Category == 'Music' and Country != 'Japan'\")\n",
    "ss_m = prepare_data(ss_01)\n",
    "X_ss_m = ss_m[[\n",
    "    'Name_length',\n",
    "    'Country',\n",
    "    'Combined_category',\n",
    "    'Goal',\n",
    "    #'Pledged',\n",
    "    #'State',\n",
    "    'Month',\n",
    "    'Duration_days'\n",
    "    ]]\n",
    "y_ss_m = ss_m['Pledged']\n",
    "ct_dt_ss_m = ColumnTransformer([('ohe', OneHotEncoder(), ['Country', 'Combined_category', 'Month']),\n",
    "                                         # ('bin', KBinsDiscretizer(), ['Family']),\n",
    "                                         # ('goal', FunctionTransformer(log_transform), ['Goal']),\n",
    "                                         # ('goal', pipeline_goal, ['Goal']),\n",
    "                                         # ('pledged', pipeline_pledged, ['Pledged']),\n",
    "                                         # ('standard', MinMaxScaler(), ['Duration_days']),\n",
    "                                         ], remainder='passthrough') #passtrough?\n",
    "# remainder = everything not mentioned in the ColumnTransformer\n",
    "# `drop` = don't use them, `passthrough` - use them as they areX_train\n",
    "X_train_ss_m, X_test_ss_m, y_train_ss_m, y_test_ss_m = train_test_split(X_ss_m, y_ss_m, random_state=0, test_size=0.3)\n",
    "pipeline_dt_ss_m = Pipeline([\n",
    "    ('preprocessor', ct_dt_ss_m\n",
    "),\n",
    "    ('regressor', DecisionTreeRegressor(max_depth=30))\n",
    "])\n",
    "pipeline_dt_ss_m.fit(X_train_ss_m, y_train_ss_m)"
   ]
  },
  {
   "cell_type": "code",
   "execution_count": null,
   "metadata": {},
   "outputs": [
    {
     "name": "stdout",
     "output_type": "stream",
     "text": [
      "Root Mean Squared Error: 11227.286427431465\n",
      "R2 Score for DT Model = -0.20670560385820114\n"
     ]
    }
   ],
   "source": [
    "y_pred_dt_ss_m = pipeline_dt_ss_m.predict(X_test_ss_m)\n",
    "\n",
    "mse_dt_ss_m = mean_squared_error(y_test_ss_m, y_pred_dt_ss_m, squared=False)\n",
    "print(f'Root Mean Squared Error: {mse_dt_ss_m}')\n",
    "\n",
    "r2_dt_ss_m = r2_score(y_test_ss_m, y_pred_dt_ss_m)\n",
    "print(f'R2 Score for DT Model = {r2_dt_ss_m}')"
   ]
  },
  {
   "cell_type": "code",
   "execution_count": null,
   "metadata": {},
   "outputs": [
    {
     "name": "stderr",
     "output_type": "stream",
     "text": [
      "/var/folders/bf/sffgn3cj09b7w9m9tzcwtpdc0000gn/T/ipykernel_41048/106689526.py:14: SettingWithCopyWarning: \n",
      "A value is trying to be set on a copy of a slice from a DataFrame.\n",
      "Try using .loc[row_indexer,col_indexer] = value instead\n",
      "\n",
      "See the caveats in the documentation: https://pandas.pydata.org/pandas-docs/stable/user_guide/indexing.html#returning-a-view-versus-a-copy\n",
      "  dataframe_new[\"Combined_category\"] = df[\"Category\"] + \" - \" + df[\"Subcategory\"]\n",
      "/var/folders/bf/sffgn3cj09b7w9m9tzcwtpdc0000gn/T/ipykernel_41048/106689526.py:16: SettingWithCopyWarning: \n",
      "A value is trying to be set on a copy of a slice from a DataFrame.\n",
      "Try using .loc[row_indexer,col_indexer] = value instead\n",
      "\n",
      "See the caveats in the documentation: https://pandas.pydata.org/pandas-docs/stable/user_guide/indexing.html#returning-a-view-versus-a-copy\n",
      "  dataframe_new[[\"Category\", \"Subcategory\", \"Country\", \"State\", \"Combined_category\"]] = \\\n",
      "/var/folders/bf/sffgn3cj09b7w9m9tzcwtpdc0000gn/T/ipykernel_41048/106689526.py:23: SettingWithCopyWarning: \n",
      "A value is trying to be set on a copy of a slice from a DataFrame.\n",
      "Try using .loc[row_indexer,col_indexer] = value instead\n",
      "\n",
      "See the caveats in the documentation: https://pandas.pydata.org/pandas-docs/stable/user_guide/indexing.html#returning-a-view-versus-a-copy\n",
      "  dataframe_new[\"Name_length\"] = dataframe_new[\"Name\"].str.len()\n"
     ]
    },
    {
     "data": {
      "text/html": [
       "<style>#sk-container-id-5 {color: black;}#sk-container-id-5 pre{padding: 0;}#sk-container-id-5 div.sk-toggleable {background-color: white;}#sk-container-id-5 label.sk-toggleable__label {cursor: pointer;display: block;width: 100%;margin-bottom: 0;padding: 0.3em;box-sizing: border-box;text-align: center;}#sk-container-id-5 label.sk-toggleable__label-arrow:before {content: \"▸\";float: left;margin-right: 0.25em;color: #696969;}#sk-container-id-5 label.sk-toggleable__label-arrow:hover:before {color: black;}#sk-container-id-5 div.sk-estimator:hover label.sk-toggleable__label-arrow:before {color: black;}#sk-container-id-5 div.sk-toggleable__content {max-height: 0;max-width: 0;overflow: hidden;text-align: left;background-color: #f0f8ff;}#sk-container-id-5 div.sk-toggleable__content pre {margin: 0.2em;color: black;border-radius: 0.25em;background-color: #f0f8ff;}#sk-container-id-5 input.sk-toggleable__control:checked~div.sk-toggleable__content {max-height: 200px;max-width: 100%;overflow: auto;}#sk-container-id-5 input.sk-toggleable__control:checked~label.sk-toggleable__label-arrow:before {content: \"▾\";}#sk-container-id-5 div.sk-estimator input.sk-toggleable__control:checked~label.sk-toggleable__label {background-color: #d4ebff;}#sk-container-id-5 div.sk-label input.sk-toggleable__control:checked~label.sk-toggleable__label {background-color: #d4ebff;}#sk-container-id-5 input.sk-hidden--visually {border: 0;clip: rect(1px 1px 1px 1px);clip: rect(1px, 1px, 1px, 1px);height: 1px;margin: -1px;overflow: hidden;padding: 0;position: absolute;width: 1px;}#sk-container-id-5 div.sk-estimator {font-family: monospace;background-color: #f0f8ff;border: 1px dotted black;border-radius: 0.25em;box-sizing: border-box;margin-bottom: 0.5em;}#sk-container-id-5 div.sk-estimator:hover {background-color: #d4ebff;}#sk-container-id-5 div.sk-parallel-item::after {content: \"\";width: 100%;border-bottom: 1px solid gray;flex-grow: 1;}#sk-container-id-5 div.sk-label:hover label.sk-toggleable__label {background-color: #d4ebff;}#sk-container-id-5 div.sk-serial::before {content: \"\";position: absolute;border-left: 1px solid gray;box-sizing: border-box;top: 0;bottom: 0;left: 50%;z-index: 0;}#sk-container-id-5 div.sk-serial {display: flex;flex-direction: column;align-items: center;background-color: white;padding-right: 0.2em;padding-left: 0.2em;position: relative;}#sk-container-id-5 div.sk-item {position: relative;z-index: 1;}#sk-container-id-5 div.sk-parallel {display: flex;align-items: stretch;justify-content: center;background-color: white;position: relative;}#sk-container-id-5 div.sk-item::before, #sk-container-id-5 div.sk-parallel-item::before {content: \"\";position: absolute;border-left: 1px solid gray;box-sizing: border-box;top: 0;bottom: 0;left: 50%;z-index: -1;}#sk-container-id-5 div.sk-parallel-item {display: flex;flex-direction: column;z-index: 1;position: relative;background-color: white;}#sk-container-id-5 div.sk-parallel-item:first-child::after {align-self: flex-end;width: 50%;}#sk-container-id-5 div.sk-parallel-item:last-child::after {align-self: flex-start;width: 50%;}#sk-container-id-5 div.sk-parallel-item:only-child::after {width: 0;}#sk-container-id-5 div.sk-dashed-wrapped {border: 1px dashed gray;margin: 0 0.4em 0.5em 0.4em;box-sizing: border-box;padding-bottom: 0.4em;background-color: white;}#sk-container-id-5 div.sk-label label {font-family: monospace;font-weight: bold;display: inline-block;line-height: 1.2em;}#sk-container-id-5 div.sk-label-container {text-align: center;}#sk-container-id-5 div.sk-container {/* jupyter's `normalize.less` sets `[hidden] { display: none; }` but bootstrap.min.css set `[hidden] { display: none !important; }` so we also need the `!important` here to be able to override the default hidden behavior on the sphinx rendered scikit-learn.org. See: https://github.com/scikit-learn/scikit-learn/issues/21755 */display: inline-block !important;position: relative;}#sk-container-id-5 div.sk-text-repr-fallback {display: none;}</style><div id=\"sk-container-id-5\" class=\"sk-top-container\"><div class=\"sk-text-repr-fallback\"><pre>Pipeline(steps=[(&#x27;preprocessor&#x27;,\n",
       "                 ColumnTransformer(remainder=&#x27;passthrough&#x27;,\n",
       "                                   transformers=[(&#x27;ohe&#x27;, OneHotEncoder(),\n",
       "                                                  [&#x27;Country&#x27;,\n",
       "                                                   &#x27;Combined_category&#x27;,\n",
       "                                                   &#x27;Month&#x27;])])),\n",
       "                (&#x27;regressor&#x27;, DecisionTreeRegressor(max_depth=30))])</pre><b>In a Jupyter environment, please rerun this cell to show the HTML representation or trust the notebook. <br />On GitHub, the HTML representation is unable to render, please try loading this page with nbviewer.org.</b></div><div class=\"sk-container\" hidden><div class=\"sk-item sk-dashed-wrapped\"><div class=\"sk-label-container\"><div class=\"sk-label sk-toggleable\"><input class=\"sk-toggleable__control sk-hidden--visually\" id=\"sk-estimator-id-33\" type=\"checkbox\" ><label for=\"sk-estimator-id-33\" class=\"sk-toggleable__label sk-toggleable__label-arrow\">Pipeline</label><div class=\"sk-toggleable__content\"><pre>Pipeline(steps=[(&#x27;preprocessor&#x27;,\n",
       "                 ColumnTransformer(remainder=&#x27;passthrough&#x27;,\n",
       "                                   transformers=[(&#x27;ohe&#x27;, OneHotEncoder(),\n",
       "                                                  [&#x27;Country&#x27;,\n",
       "                                                   &#x27;Combined_category&#x27;,\n",
       "                                                   &#x27;Month&#x27;])])),\n",
       "                (&#x27;regressor&#x27;, DecisionTreeRegressor(max_depth=30))])</pre></div></div></div><div class=\"sk-serial\"><div class=\"sk-item sk-dashed-wrapped\"><div class=\"sk-label-container\"><div class=\"sk-label sk-toggleable\"><input class=\"sk-toggleable__control sk-hidden--visually\" id=\"sk-estimator-id-34\" type=\"checkbox\" ><label for=\"sk-estimator-id-34\" class=\"sk-toggleable__label sk-toggleable__label-arrow\">preprocessor: ColumnTransformer</label><div class=\"sk-toggleable__content\"><pre>ColumnTransformer(remainder=&#x27;passthrough&#x27;,\n",
       "                  transformers=[(&#x27;ohe&#x27;, OneHotEncoder(),\n",
       "                                 [&#x27;Country&#x27;, &#x27;Combined_category&#x27;, &#x27;Month&#x27;])])</pre></div></div></div><div class=\"sk-parallel\"><div class=\"sk-parallel-item\"><div class=\"sk-item\"><div class=\"sk-label-container\"><div class=\"sk-label sk-toggleable\"><input class=\"sk-toggleable__control sk-hidden--visually\" id=\"sk-estimator-id-35\" type=\"checkbox\" ><label for=\"sk-estimator-id-35\" class=\"sk-toggleable__label sk-toggleable__label-arrow\">ohe</label><div class=\"sk-toggleable__content\"><pre>[&#x27;Country&#x27;, &#x27;Combined_category&#x27;, &#x27;Month&#x27;]</pre></div></div></div><div class=\"sk-serial\"><div class=\"sk-item\"><div class=\"sk-estimator sk-toggleable\"><input class=\"sk-toggleable__control sk-hidden--visually\" id=\"sk-estimator-id-36\" type=\"checkbox\" ><label for=\"sk-estimator-id-36\" class=\"sk-toggleable__label sk-toggleable__label-arrow\">OneHotEncoder</label><div class=\"sk-toggleable__content\"><pre>OneHotEncoder()</pre></div></div></div></div></div></div><div class=\"sk-parallel-item\"><div class=\"sk-item\"><div class=\"sk-label-container\"><div class=\"sk-label sk-toggleable\"><input class=\"sk-toggleable__control sk-hidden--visually\" id=\"sk-estimator-id-37\" type=\"checkbox\" ><label for=\"sk-estimator-id-37\" class=\"sk-toggleable__label sk-toggleable__label-arrow\">remainder</label><div class=\"sk-toggleable__content\"><pre>[&#x27;Name_length&#x27;, &#x27;Goal&#x27;, &#x27;Duration_days&#x27;]</pre></div></div></div><div class=\"sk-serial\"><div class=\"sk-item\"><div class=\"sk-estimator sk-toggleable\"><input class=\"sk-toggleable__control sk-hidden--visually\" id=\"sk-estimator-id-38\" type=\"checkbox\" ><label for=\"sk-estimator-id-38\" class=\"sk-toggleable__label sk-toggleable__label-arrow\">passthrough</label><div class=\"sk-toggleable__content\"><pre>passthrough</pre></div></div></div></div></div></div></div></div><div class=\"sk-item\"><div class=\"sk-estimator sk-toggleable\"><input class=\"sk-toggleable__control sk-hidden--visually\" id=\"sk-estimator-id-39\" type=\"checkbox\" ><label for=\"sk-estimator-id-39\" class=\"sk-toggleable__label sk-toggleable__label-arrow\">DecisionTreeRegressor</label><div class=\"sk-toggleable__content\"><pre>DecisionTreeRegressor(max_depth=30)</pre></div></div></div></div></div></div></div>"
      ],
      "text/plain": [
       "Pipeline(steps=[('preprocessor',\n",
       "                 ColumnTransformer(remainder='passthrough',\n",
       "                                   transformers=[('ohe', OneHotEncoder(),\n",
       "                                                  ['Country',\n",
       "                                                   'Combined_category',\n",
       "                                                   'Month'])])),\n",
       "                ('regressor', DecisionTreeRegressor(max_depth=30))])"
      ]
     },
     "execution_count": 149,
     "metadata": {},
     "output_type": "execute_result"
    }
   ],
   "source": [
    "ss_02 = df.query(\"Category == 'Dance'\")\n",
    "ss_d = prepare_data(ss_02)\n",
    "X_ss_d = ss_d[[\n",
    "    'Name_length',\n",
    "    'Country',\n",
    "    'Combined_category',\n",
    "    'Goal',\n",
    "    #'Pledged',\n",
    "    #'State',\n",
    "    'Month',\n",
    "    'Duration_days'\n",
    "    ]]\n",
    "y_ss_d = ss_d['Pledged']\n",
    "ct_dt_ss_d = ColumnTransformer([('ohe', OneHotEncoder(), ['Country', 'Combined_category', 'Month']),\n",
    "                                         # ('bin', KBinsDiscretizer(), ['Family']),\n",
    "                                         # ('goal', FunctionTransformer(log_transform), ['Goal']),\n",
    "                                         # ('goal', pipeline_goal, ['Goal']),\n",
    "                                         # ('pledged', pipeline_pledged, ['Pledged']),\n",
    "                                         # ('standard', MinMaxScaler(), ['Duration_days']),\n",
    "                                         ], remainder='passthrough') #passtrough?\n",
    "# remainder = everything not mentioned in the ColumnTransformer\n",
    "# `drop` = don't use them, `passthrough` - use them as they areX_train\n",
    "X_train_ss_d, X_test_ss_d, y_train_ss_d, y_test_ss_d = train_test_split(X_ss_d, y_ss_d, random_state=0, test_size=0.3)\n",
    "pipeline_dt_ss_d = Pipeline([\n",
    "    ('preprocessor', ct_dt_ss_d),\n",
    "    ('regressor', DecisionTreeRegressor(max_depth=30))\n",
    "])\n",
    "pipeline_dt_ss_d.fit(X_train_ss_d, y_train_ss_d)"
   ]
  },
  {
   "cell_type": "code",
   "execution_count": null,
   "metadata": {},
   "outputs": [
    {
     "name": "stdout",
     "output_type": "stream",
     "text": [
      "Root Mean Squared Error: 6706.928837158924\n",
      "R2 Score for DT Model = -0.40221278887720624\n"
     ]
    }
   ],
   "source": [
    "y_pred_dt_ss_d = pipeline_dt_ss_d.predict(X_test_ss_d)\n",
    "\n",
    "mse_dt_ss_d = mean_squared_error(y_test_ss_d, y_pred_dt_ss_d, squared=False)\n",
    "print(f'Root Mean Squared Error: {mse_dt_ss_d}')\n",
    "\n",
    "r2_dt_ss_d = r2_score(y_test_ss_d, y_pred_dt_ss_d)\n",
    "print(f'R2 Score for DT Model = {r2_dt_ss_d}')"
   ]
  },
  {
   "cell_type": "code",
   "execution_count": null,
   "metadata": {},
   "outputs": [
    {
     "data": {
      "text/plain": [
       "Country                 United Kingdom\n",
       "Goal                              9814\n",
       "Backers                              7\n",
       "Duration_days                       50\n",
       "Month                               10\n",
       "Combined_category    Theater - Theater\n",
       "Name_length                         47\n",
       "Name: 116221, dtype: object"
      ]
     },
     "execution_count": 194,
     "metadata": {},
     "output_type": "execute_result"
    }
   ],
   "source": [
    "X_test.iloc[1423]"
   ]
  },
  {
   "cell_type": "code",
   "execution_count": null,
   "metadata": {},
   "outputs": [
    {
     "data": {
      "text/plain": [
       "229"
      ]
     },
     "execution_count": 195,
     "metadata": {},
     "output_type": "execute_result"
    }
   ],
   "source": [
    "y_test.iloc[1423]"
   ]
  },
  {
   "cell_type": "code",
   "execution_count": null,
   "metadata": {},
   "outputs": [],
   "source": []
  }
 ],
 "metadata": {
  "kernelspec": {
   "display_name": "ds-kickstarter",
   "language": "python",
   "name": "python3"
  },
  "language_info": {
   "codemirror_mode": {
    "name": "ipython",
    "version": 3
   },
   "file_extension": ".py",
   "mimetype": "text/x-python",
   "name": "python",
   "nbconvert_exporter": "python",
   "pygments_lexer": "ipython3",
   "version": "3.11.5"
  }
 },
 "nbformat": 4,
 "nbformat_minor": 2
}
