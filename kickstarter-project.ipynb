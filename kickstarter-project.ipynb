{
 "cells": [
  {
   "cell_type": "markdown",
   "metadata": {},
   "source": [
    "## Kickstarter Project (Machine Learning Project) - October 2023"
   ]
  },
  {
   "cell_type": "markdown",
   "metadata": {},
   "source": [
    "<a id='about'/>"
   ]
  },
  {
   "cell_type": "markdown",
   "metadata": {},
   "source": [
    "### About this file\n",
    "\n",
    "Kickstarter is a popular crowdfunding platform that has helped thousands of entrepreneurs and creators bring their innovative ideas to life. However, not all Kickstarter projects are successful, and understanding the factors that contribute to success or failure can be valuable for both creators and investors alike.\n",
    "\n",
    "In this dataset, we have collected information on a large number of Kickstarter projects and whether they ultimately succeeded or failed to meet their funding goals. This dataset includes a wide range of project types, including technology startups, creative arts endeavors, and social impact initiatives, among others.\n",
    "\n",
    "By analyzing this dataset, researchers and analysts can gain insights into the characteristics of successful and unsuccessful Kickstarter projects, such as funding targets, project categories, and funding sources. This information can be used to inform investment decisions and guide future crowdfunding campaigns.\n",
    "\n",
    "Overall, this dataset provides a comprehensive look at the Kickstarter ecosystem and can serve as a valuable resource for anyone interested in understanding the dynamics of crowdfunding and the factors that contribute to project success or failure."
   ]
  },
  {
   "cell_type": "markdown",
   "metadata": {},
   "source": [
    "### TOC (table of content)\n",
    "0. [About this file](#about)\n",
    "1. [Load packages](#loading_packages)\n",
    "2. [Load data](#data_loading)\n",
    "3. [EDA technical](#EDA_technical)\n",
    "4. [EDA information](#EDA_info)\n",
    "5. [Feature engineering](#feature_engineering)\n",
    "6. [Dummy Classifier](#dummy)\n",
    "7. [Pipeline + ColumnTransformer](#pipeline)\n",
    "8. [Evaluation](#evaluation)\n",
    "9. [Additional Links](#links)\n",
    "---\n",
    "10. [Cross-validation](#crossval)\n",
    "11. [GridSearchCV](#gridsearch)\n",
    "12. [Set Kaggle solution](#kaggle)"
   ]
  },
  {
   "cell_type": "code",
   "execution_count": 35,
   "metadata": {},
   "outputs": [],
   "source": [
    "import numpy as np\n",
    "import seaborn as sns\n",
    "import matplotlib.pyplot as plt\n",
    "import plotly.express as px\n",
    "from matplotlib.ticker import FuncFormatter\n",
    "import pandas as pd"
   ]
  },
  {
   "cell_type": "code",
   "execution_count": 36,
   "metadata": {},
   "outputs": [],
   "source": [
    "kickstarter = pd.read_csv('data/kickstarter_projects.csv')"
   ]
  },
  {
   "cell_type": "code",
   "execution_count": 37,
   "metadata": {},
   "outputs": [
    {
     "data": {
      "text/html": [
       "<div>\n",
       "<style scoped>\n",
       "    .dataframe tbody tr th:only-of-type {\n",
       "        vertical-align: middle;\n",
       "    }\n",
       "\n",
       "    .dataframe tbody tr th {\n",
       "        vertical-align: top;\n",
       "    }\n",
       "\n",
       "    .dataframe thead th {\n",
       "        text-align: right;\n",
       "    }\n",
       "</style>\n",
       "<table border=\"1\" class=\"dataframe\">\n",
       "  <thead>\n",
       "    <tr style=\"text-align: right;\">\n",
       "      <th></th>\n",
       "      <th>ID</th>\n",
       "      <th>Name</th>\n",
       "      <th>Category</th>\n",
       "      <th>Subcategory</th>\n",
       "      <th>Country</th>\n",
       "      <th>Launched</th>\n",
       "      <th>Deadline</th>\n",
       "      <th>Goal</th>\n",
       "      <th>Pledged</th>\n",
       "      <th>Backers</th>\n",
       "      <th>State</th>\n",
       "    </tr>\n",
       "  </thead>\n",
       "  <tbody>\n",
       "    <tr>\n",
       "      <th>0</th>\n",
       "      <td>1860890148</td>\n",
       "      <td>Grace Jones Does Not Give A F$#% T-Shirt (limi...</td>\n",
       "      <td>Fashion</td>\n",
       "      <td>Fashion</td>\n",
       "      <td>United States</td>\n",
       "      <td>2009-04-21 21:02:48</td>\n",
       "      <td>2009-05-31</td>\n",
       "      <td>1000</td>\n",
       "      <td>625</td>\n",
       "      <td>30</td>\n",
       "      <td>Failed</td>\n",
       "    </tr>\n",
       "    <tr>\n",
       "      <th>1</th>\n",
       "      <td>709707365</td>\n",
       "      <td>CRYSTAL ANTLERS UNTITLED MOVIE</td>\n",
       "      <td>Film &amp; Video</td>\n",
       "      <td>Shorts</td>\n",
       "      <td>United States</td>\n",
       "      <td>2009-04-23 00:07:53</td>\n",
       "      <td>2009-07-20</td>\n",
       "      <td>80000</td>\n",
       "      <td>22</td>\n",
       "      <td>3</td>\n",
       "      <td>Failed</td>\n",
       "    </tr>\n",
       "    <tr>\n",
       "      <th>2</th>\n",
       "      <td>1703704063</td>\n",
       "      <td>drawing for dollars</td>\n",
       "      <td>Art</td>\n",
       "      <td>Illustration</td>\n",
       "      <td>United States</td>\n",
       "      <td>2009-04-24 21:52:03</td>\n",
       "      <td>2009-05-03</td>\n",
       "      <td>20</td>\n",
       "      <td>35</td>\n",
       "      <td>3</td>\n",
       "      <td>Successful</td>\n",
       "    </tr>\n",
       "    <tr>\n",
       "      <th>3</th>\n",
       "      <td>727286</td>\n",
       "      <td>Offline Wikipedia iPhone app</td>\n",
       "      <td>Technology</td>\n",
       "      <td>Software</td>\n",
       "      <td>United States</td>\n",
       "      <td>2009-04-25 17:36:21</td>\n",
       "      <td>2009-07-14</td>\n",
       "      <td>99</td>\n",
       "      <td>145</td>\n",
       "      <td>25</td>\n",
       "      <td>Successful</td>\n",
       "    </tr>\n",
       "    <tr>\n",
       "      <th>4</th>\n",
       "      <td>1622952265</td>\n",
       "      <td>Pantshirts</td>\n",
       "      <td>Fashion</td>\n",
       "      <td>Fashion</td>\n",
       "      <td>United States</td>\n",
       "      <td>2009-04-27 14:10:39</td>\n",
       "      <td>2009-05-26</td>\n",
       "      <td>1900</td>\n",
       "      <td>387</td>\n",
       "      <td>10</td>\n",
       "      <td>Failed</td>\n",
       "    </tr>\n",
       "    <tr>\n",
       "      <th>5</th>\n",
       "      <td>2089078683</td>\n",
       "      <td>New York Makes a Book!!</td>\n",
       "      <td>Journalism</td>\n",
       "      <td>Journalism</td>\n",
       "      <td>United States</td>\n",
       "      <td>2009-04-28 13:55:41</td>\n",
       "      <td>2009-05-16</td>\n",
       "      <td>3000</td>\n",
       "      <td>3329</td>\n",
       "      <td>110</td>\n",
       "      <td>Successful</td>\n",
       "    </tr>\n",
       "    <tr>\n",
       "      <th>6</th>\n",
       "      <td>830477146</td>\n",
       "      <td>Web Site for Short Horror Film</td>\n",
       "      <td>Film &amp; Video</td>\n",
       "      <td>Shorts</td>\n",
       "      <td>United States</td>\n",
       "      <td>2009-04-29 02:04:21</td>\n",
       "      <td>2009-05-29</td>\n",
       "      <td>200</td>\n",
       "      <td>41</td>\n",
       "      <td>3</td>\n",
       "      <td>Failed</td>\n",
       "    </tr>\n",
       "    <tr>\n",
       "      <th>7</th>\n",
       "      <td>266044220</td>\n",
       "      <td>Help me write my second novel.</td>\n",
       "      <td>Publishing</td>\n",
       "      <td>Fiction</td>\n",
       "      <td>United States</td>\n",
       "      <td>2009-04-29 02:58:50</td>\n",
       "      <td>2009-05-29</td>\n",
       "      <td>500</td>\n",
       "      <td>563</td>\n",
       "      <td>18</td>\n",
       "      <td>Successful</td>\n",
       "    </tr>\n",
       "    <tr>\n",
       "      <th>8</th>\n",
       "      <td>1502297238</td>\n",
       "      <td>Produce a Play (Canceled)</td>\n",
       "      <td>Theater</td>\n",
       "      <td>Theater</td>\n",
       "      <td>United States</td>\n",
       "      <td>2009-04-29 04:37:37</td>\n",
       "      <td>2009-06-01</td>\n",
       "      <td>500</td>\n",
       "      <td>0</td>\n",
       "      <td>0</td>\n",
       "      <td>Canceled</td>\n",
       "    </tr>\n",
       "    <tr>\n",
       "      <th>9</th>\n",
       "      <td>813230527</td>\n",
       "      <td>Sponsor Dereck Blackburn (Lostwars) Artist in ...</td>\n",
       "      <td>Music</td>\n",
       "      <td>Rock</td>\n",
       "      <td>United States</td>\n",
       "      <td>2009-04-29 05:26:32</td>\n",
       "      <td>2009-05-16</td>\n",
       "      <td>300</td>\n",
       "      <td>15</td>\n",
       "      <td>2</td>\n",
       "      <td>Failed</td>\n",
       "    </tr>\n",
       "    <tr>\n",
       "      <th>10</th>\n",
       "      <td>469734648</td>\n",
       "      <td>kicey to iceland</td>\n",
       "      <td>Photography</td>\n",
       "      <td>Photography</td>\n",
       "      <td>United States</td>\n",
       "      <td>2009-04-29 06:43:44</td>\n",
       "      <td>2009-06-17</td>\n",
       "      <td>350</td>\n",
       "      <td>1630</td>\n",
       "      <td>31</td>\n",
       "      <td>Successful</td>\n",
       "    </tr>\n",
       "    <tr>\n",
       "      <th>11</th>\n",
       "      <td>515267366</td>\n",
       "      <td>Crossword Puzzles!</td>\n",
       "      <td>Games</td>\n",
       "      <td>Puzzles</td>\n",
       "      <td>United States</td>\n",
       "      <td>2009-04-29 13:52:03</td>\n",
       "      <td>2009-06-30</td>\n",
       "      <td>1500</td>\n",
       "      <td>2265</td>\n",
       "      <td>163</td>\n",
       "      <td>Successful</td>\n",
       "    </tr>\n",
       "    <tr>\n",
       "      <th>12</th>\n",
       "      <td>1167151653</td>\n",
       "      <td>Smogr Alert Field Recording</td>\n",
       "      <td>Design</td>\n",
       "      <td>Graphic Design</td>\n",
       "      <td>United States</td>\n",
       "      <td>2009-04-29 22:08:13</td>\n",
       "      <td>2009-07-04</td>\n",
       "      <td>640</td>\n",
       "      <td>41</td>\n",
       "      <td>3</td>\n",
       "      <td>Failed</td>\n",
       "    </tr>\n",
       "    <tr>\n",
       "      <th>13</th>\n",
       "      <td>177921463</td>\n",
       "      <td>Icons for your iPhone apps</td>\n",
       "      <td>Technology</td>\n",
       "      <td>Software</td>\n",
       "      <td>United States</td>\n",
       "      <td>2009-04-29 23:11:15</td>\n",
       "      <td>2009-06-15</td>\n",
       "      <td>500</td>\n",
       "      <td>1820</td>\n",
       "      <td>98</td>\n",
       "      <td>Successful</td>\n",
       "    </tr>\n",
       "    <tr>\n",
       "      <th>14</th>\n",
       "      <td>1099226462</td>\n",
       "      <td>Logical Guess Pictures' 2nd Horror Movie!</td>\n",
       "      <td>Film &amp; Video</td>\n",
       "      <td>Film &amp; Video</td>\n",
       "      <td>United States</td>\n",
       "      <td>2009-04-30 01:32:55</td>\n",
       "      <td>2009-06-06</td>\n",
       "      <td>500</td>\n",
       "      <td>502</td>\n",
       "      <td>22</td>\n",
       "      <td>Successful</td>\n",
       "    </tr>\n",
       "    <tr>\n",
       "      <th>15</th>\n",
       "      <td>2147219671</td>\n",
       "      <td>You Are Among Friends: a book for the little s...</td>\n",
       "      <td>Publishing</td>\n",
       "      <td>Publishing</td>\n",
       "      <td>United States</td>\n",
       "      <td>2009-04-30 07:14:06</td>\n",
       "      <td>2009-07-01</td>\n",
       "      <td>350</td>\n",
       "      <td>750</td>\n",
       "      <td>41</td>\n",
       "      <td>Successful</td>\n",
       "    </tr>\n",
       "    <tr>\n",
       "      <th>16</th>\n",
       "      <td>1147015301</td>\n",
       "      <td>\"All We Had\" Gets Into Cannes -- $10 or More G...</td>\n",
       "      <td>Film &amp; Video</td>\n",
       "      <td>Documentary</td>\n",
       "      <td>United States</td>\n",
       "      <td>2009-04-30 22:10:30</td>\n",
       "      <td>2009-05-20</td>\n",
       "      <td>300</td>\n",
       "      <td>40</td>\n",
       "      <td>4</td>\n",
       "      <td>Failed</td>\n",
       "    </tr>\n",
       "    <tr>\n",
       "      <th>17</th>\n",
       "      <td>1304906577</td>\n",
       "      <td>Accidental to Edinburgh - PHASE 1: AIRFARE</td>\n",
       "      <td>Theater</td>\n",
       "      <td>Theater</td>\n",
       "      <td>United States</td>\n",
       "      <td>2009-04-30 22:22:43</td>\n",
       "      <td>2009-06-05</td>\n",
       "      <td>6000</td>\n",
       "      <td>6575</td>\n",
       "      <td>24</td>\n",
       "      <td>Successful</td>\n",
       "    </tr>\n",
       "    <tr>\n",
       "      <th>18</th>\n",
       "      <td>1801448924</td>\n",
       "      <td>Accidental to Edinburgh - PHASE 1: REBUILDING ...</td>\n",
       "      <td>Theater</td>\n",
       "      <td>Theater</td>\n",
       "      <td>United States</td>\n",
       "      <td>2009-04-30 22:23:22</td>\n",
       "      <td>2009-07-15</td>\n",
       "      <td>10000</td>\n",
       "      <td>10145</td>\n",
       "      <td>27</td>\n",
       "      <td>Successful</td>\n",
       "    </tr>\n",
       "    <tr>\n",
       "      <th>19</th>\n",
       "      <td>901991585</td>\n",
       "      <td>Produce My Play</td>\n",
       "      <td>Theater</td>\n",
       "      <td>Theater</td>\n",
       "      <td>United States</td>\n",
       "      <td>2009-05-01 05:06:19</td>\n",
       "      <td>2009-06-01</td>\n",
       "      <td>500</td>\n",
       "      <td>575</td>\n",
       "      <td>21</td>\n",
       "      <td>Successful</td>\n",
       "    </tr>\n",
       "  </tbody>\n",
       "</table>\n",
       "</div>"
      ],
      "text/plain": [
       "            ID                                               Name  \\\n",
       "0   1860890148  Grace Jones Does Not Give A F$#% T-Shirt (limi...   \n",
       "1    709707365                     CRYSTAL ANTLERS UNTITLED MOVIE   \n",
       "2   1703704063                                drawing for dollars   \n",
       "3       727286                       Offline Wikipedia iPhone app   \n",
       "4   1622952265                                         Pantshirts   \n",
       "5   2089078683                            New York Makes a Book!!   \n",
       "6    830477146                     Web Site for Short Horror Film   \n",
       "7    266044220                     Help me write my second novel.   \n",
       "8   1502297238                          Produce a Play (Canceled)   \n",
       "9    813230527  Sponsor Dereck Blackburn (Lostwars) Artist in ...   \n",
       "10   469734648                                   kicey to iceland   \n",
       "11   515267366                                 Crossword Puzzles!   \n",
       "12  1167151653                        Smogr Alert Field Recording   \n",
       "13   177921463                         Icons for your iPhone apps   \n",
       "14  1099226462          Logical Guess Pictures' 2nd Horror Movie!   \n",
       "15  2147219671  You Are Among Friends: a book for the little s...   \n",
       "16  1147015301  \"All We Had\" Gets Into Cannes -- $10 or More G...   \n",
       "17  1304906577         Accidental to Edinburgh - PHASE 1: AIRFARE   \n",
       "18  1801448924  Accidental to Edinburgh - PHASE 1: REBUILDING ...   \n",
       "19   901991585                                    Produce My Play   \n",
       "\n",
       "        Category     Subcategory        Country             Launched  \\\n",
       "0        Fashion         Fashion  United States  2009-04-21 21:02:48   \n",
       "1   Film & Video          Shorts  United States  2009-04-23 00:07:53   \n",
       "2            Art    Illustration  United States  2009-04-24 21:52:03   \n",
       "3     Technology        Software  United States  2009-04-25 17:36:21   \n",
       "4        Fashion         Fashion  United States  2009-04-27 14:10:39   \n",
       "5     Journalism      Journalism  United States  2009-04-28 13:55:41   \n",
       "6   Film & Video          Shorts  United States  2009-04-29 02:04:21   \n",
       "7     Publishing         Fiction  United States  2009-04-29 02:58:50   \n",
       "8        Theater         Theater  United States  2009-04-29 04:37:37   \n",
       "9          Music            Rock  United States  2009-04-29 05:26:32   \n",
       "10   Photography     Photography  United States  2009-04-29 06:43:44   \n",
       "11         Games         Puzzles  United States  2009-04-29 13:52:03   \n",
       "12        Design  Graphic Design  United States  2009-04-29 22:08:13   \n",
       "13    Technology        Software  United States  2009-04-29 23:11:15   \n",
       "14  Film & Video    Film & Video  United States  2009-04-30 01:32:55   \n",
       "15    Publishing      Publishing  United States  2009-04-30 07:14:06   \n",
       "16  Film & Video     Documentary  United States  2009-04-30 22:10:30   \n",
       "17       Theater         Theater  United States  2009-04-30 22:22:43   \n",
       "18       Theater         Theater  United States  2009-04-30 22:23:22   \n",
       "19       Theater         Theater  United States  2009-05-01 05:06:19   \n",
       "\n",
       "      Deadline   Goal  Pledged  Backers       State  \n",
       "0   2009-05-31   1000      625       30      Failed  \n",
       "1   2009-07-20  80000       22        3      Failed  \n",
       "2   2009-05-03     20       35        3  Successful  \n",
       "3   2009-07-14     99      145       25  Successful  \n",
       "4   2009-05-26   1900      387       10      Failed  \n",
       "5   2009-05-16   3000     3329      110  Successful  \n",
       "6   2009-05-29    200       41        3      Failed  \n",
       "7   2009-05-29    500      563       18  Successful  \n",
       "8   2009-06-01    500        0        0    Canceled  \n",
       "9   2009-05-16    300       15        2      Failed  \n",
       "10  2009-06-17    350     1630       31  Successful  \n",
       "11  2009-06-30   1500     2265      163  Successful  \n",
       "12  2009-07-04    640       41        3      Failed  \n",
       "13  2009-06-15    500     1820       98  Successful  \n",
       "14  2009-06-06    500      502       22  Successful  \n",
       "15  2009-07-01    350      750       41  Successful  \n",
       "16  2009-05-20    300       40        4      Failed  \n",
       "17  2009-06-05   6000     6575       24  Successful  \n",
       "18  2009-07-15  10000    10145       27  Successful  \n",
       "19  2009-06-01    500      575       21  Successful  "
      ]
     },
     "execution_count": 37,
     "metadata": {},
     "output_type": "execute_result"
    }
   ],
   "source": [
    "kickstarter.head(20)"
   ]
  },
  {
   "cell_type": "code",
   "execution_count": 38,
   "metadata": {},
   "outputs": [
    {
     "data": {
      "text/plain": [
       "(374853, 11)"
      ]
     },
     "execution_count": 38,
     "metadata": {},
     "output_type": "execute_result"
    }
   ],
   "source": [
    "kickstarter.shape"
   ]
  },
  {
   "cell_type": "code",
   "execution_count": 39,
   "metadata": {},
   "outputs": [
    {
     "name": "stdout",
     "output_type": "stream",
     "text": [
      "<class 'pandas.core.frame.DataFrame'>\n",
      "RangeIndex: 374853 entries, 0 to 374852\n",
      "Data columns (total 11 columns):\n",
      " #   Column       Non-Null Count   Dtype \n",
      "---  ------       --------------   ----- \n",
      " 0   ID           374853 non-null  int64 \n",
      " 1   Name         374853 non-null  object\n",
      " 2   Category     374853 non-null  object\n",
      " 3   Subcategory  374853 non-null  object\n",
      " 4   Country      374853 non-null  object\n",
      " 5   Launched     374853 non-null  object\n",
      " 6   Deadline     374853 non-null  object\n",
      " 7   Goal         374853 non-null  int64 \n",
      " 8   Pledged      374853 non-null  int64 \n",
      " 9   Backers      374853 non-null  int64 \n",
      " 10  State        374853 non-null  object\n",
      "dtypes: int64(4), object(7)\n",
      "memory usage: 31.5+ MB\n"
     ]
    }
   ],
   "source": [
    "kickstarter.info()"
   ]
  },
  {
   "cell_type": "code",
   "execution_count": 40,
   "metadata": {},
   "outputs": [
    {
     "data": {
      "text/html": [
       "<div>\n",
       "<style scoped>\n",
       "    .dataframe tbody tr th:only-of-type {\n",
       "        vertical-align: middle;\n",
       "    }\n",
       "\n",
       "    .dataframe tbody tr th {\n",
       "        vertical-align: top;\n",
       "    }\n",
       "\n",
       "    .dataframe thead th {\n",
       "        text-align: right;\n",
       "    }\n",
       "</style>\n",
       "<table border=\"1\" class=\"dataframe\">\n",
       "  <thead>\n",
       "    <tr style=\"text-align: right;\">\n",
       "      <th></th>\n",
       "      <th>ID</th>\n",
       "      <th>Name</th>\n",
       "      <th>Category</th>\n",
       "      <th>Subcategory</th>\n",
       "      <th>Country</th>\n",
       "      <th>Launched</th>\n",
       "      <th>Deadline</th>\n",
       "      <th>Goal</th>\n",
       "      <th>Pledged</th>\n",
       "      <th>Backers</th>\n",
       "      <th>State</th>\n",
       "    </tr>\n",
       "  </thead>\n",
       "  <tbody>\n",
       "    <tr>\n",
       "      <th>count</th>\n",
       "      <td>3.748530e+05</td>\n",
       "      <td>374853</td>\n",
       "      <td>374853</td>\n",
       "      <td>374853</td>\n",
       "      <td>374853</td>\n",
       "      <td>374853</td>\n",
       "      <td>374853</td>\n",
       "      <td>3.748530e+05</td>\n",
       "      <td>3.748530e+05</td>\n",
       "      <td>374853.000000</td>\n",
       "      <td>374853</td>\n",
       "    </tr>\n",
       "    <tr>\n",
       "      <th>unique</th>\n",
       "      <td>NaN</td>\n",
       "      <td>372061</td>\n",
       "      <td>15</td>\n",
       "      <td>159</td>\n",
       "      <td>22</td>\n",
       "      <td>374297</td>\n",
       "      <td>3164</td>\n",
       "      <td>NaN</td>\n",
       "      <td>NaN</td>\n",
       "      <td>NaN</td>\n",
       "      <td>5</td>\n",
       "    </tr>\n",
       "    <tr>\n",
       "      <th>top</th>\n",
       "      <td>NaN</td>\n",
       "      <td>New EP/Music Development</td>\n",
       "      <td>Film &amp; Video</td>\n",
       "      <td>Product Design</td>\n",
       "      <td>United States</td>\n",
       "      <td>2014-06-06 16:16:32</td>\n",
       "      <td>2014-08-08</td>\n",
       "      <td>NaN</td>\n",
       "      <td>NaN</td>\n",
       "      <td>NaN</td>\n",
       "      <td>Failed</td>\n",
       "    </tr>\n",
       "    <tr>\n",
       "      <th>freq</th>\n",
       "      <td>NaN</td>\n",
       "      <td>13</td>\n",
       "      <td>62694</td>\n",
       "      <td>22310</td>\n",
       "      <td>292618</td>\n",
       "      <td>2</td>\n",
       "      <td>702</td>\n",
       "      <td>NaN</td>\n",
       "      <td>NaN</td>\n",
       "      <td>NaN</td>\n",
       "      <td>197611</td>\n",
       "    </tr>\n",
       "    <tr>\n",
       "      <th>mean</th>\n",
       "      <td>1.074656e+09</td>\n",
       "      <td>NaN</td>\n",
       "      <td>NaN</td>\n",
       "      <td>NaN</td>\n",
       "      <td>NaN</td>\n",
       "      <td>NaN</td>\n",
       "      <td>NaN</td>\n",
       "      <td>4.586378e+04</td>\n",
       "      <td>9.121073e+03</td>\n",
       "      <td>106.690359</td>\n",
       "      <td>NaN</td>\n",
       "    </tr>\n",
       "    <tr>\n",
       "      <th>std</th>\n",
       "      <td>6.191377e+08</td>\n",
       "      <td>NaN</td>\n",
       "      <td>NaN</td>\n",
       "      <td>NaN</td>\n",
       "      <td>NaN</td>\n",
       "      <td>NaN</td>\n",
       "      <td>NaN</td>\n",
       "      <td>1.158778e+06</td>\n",
       "      <td>9.132054e+04</td>\n",
       "      <td>911.718520</td>\n",
       "      <td>NaN</td>\n",
       "    </tr>\n",
       "    <tr>\n",
       "      <th>min</th>\n",
       "      <td>5.971000e+03</td>\n",
       "      <td>NaN</td>\n",
       "      <td>NaN</td>\n",
       "      <td>NaN</td>\n",
       "      <td>NaN</td>\n",
       "      <td>NaN</td>\n",
       "      <td>NaN</td>\n",
       "      <td>0.000000e+00</td>\n",
       "      <td>0.000000e+00</td>\n",
       "      <td>0.000000</td>\n",
       "      <td>NaN</td>\n",
       "    </tr>\n",
       "    <tr>\n",
       "      <th>25%</th>\n",
       "      <td>5.380728e+08</td>\n",
       "      <td>NaN</td>\n",
       "      <td>NaN</td>\n",
       "      <td>NaN</td>\n",
       "      <td>NaN</td>\n",
       "      <td>NaN</td>\n",
       "      <td>NaN</td>\n",
       "      <td>2.000000e+03</td>\n",
       "      <td>3.100000e+01</td>\n",
       "      <td>2.000000</td>\n",
       "      <td>NaN</td>\n",
       "    </tr>\n",
       "    <tr>\n",
       "      <th>50%</th>\n",
       "      <td>1.075300e+09</td>\n",
       "      <td>NaN</td>\n",
       "      <td>NaN</td>\n",
       "      <td>NaN</td>\n",
       "      <td>NaN</td>\n",
       "      <td>NaN</td>\n",
       "      <td>NaN</td>\n",
       "      <td>5.500000e+03</td>\n",
       "      <td>6.250000e+02</td>\n",
       "      <td>12.000000</td>\n",
       "      <td>NaN</td>\n",
       "    </tr>\n",
       "    <tr>\n",
       "      <th>75%</th>\n",
       "      <td>1.610149e+09</td>\n",
       "      <td>NaN</td>\n",
       "      <td>NaN</td>\n",
       "      <td>NaN</td>\n",
       "      <td>NaN</td>\n",
       "      <td>NaN</td>\n",
       "      <td>NaN</td>\n",
       "      <td>1.600000e+04</td>\n",
       "      <td>4.051000e+03</td>\n",
       "      <td>57.000000</td>\n",
       "      <td>NaN</td>\n",
       "    </tr>\n",
       "    <tr>\n",
       "      <th>max</th>\n",
       "      <td>2.147476e+09</td>\n",
       "      <td>NaN</td>\n",
       "      <td>NaN</td>\n",
       "      <td>NaN</td>\n",
       "      <td>NaN</td>\n",
       "      <td>NaN</td>\n",
       "      <td>NaN</td>\n",
       "      <td>1.663614e+08</td>\n",
       "      <td>2.033899e+07</td>\n",
       "      <td>219382.000000</td>\n",
       "      <td>NaN</td>\n",
       "    </tr>\n",
       "  </tbody>\n",
       "</table>\n",
       "</div>"
      ],
      "text/plain": [
       "                  ID                      Name      Category     Subcategory  \\\n",
       "count   3.748530e+05                    374853        374853          374853   \n",
       "unique           NaN                    372061            15             159   \n",
       "top              NaN  New EP/Music Development  Film & Video  Product Design   \n",
       "freq             NaN                        13         62694           22310   \n",
       "mean    1.074656e+09                       NaN           NaN             NaN   \n",
       "std     6.191377e+08                       NaN           NaN             NaN   \n",
       "min     5.971000e+03                       NaN           NaN             NaN   \n",
       "25%     5.380728e+08                       NaN           NaN             NaN   \n",
       "50%     1.075300e+09                       NaN           NaN             NaN   \n",
       "75%     1.610149e+09                       NaN           NaN             NaN   \n",
       "max     2.147476e+09                       NaN           NaN             NaN   \n",
       "\n",
       "              Country             Launched    Deadline          Goal  \\\n",
       "count          374853               374853      374853  3.748530e+05   \n",
       "unique             22               374297        3164           NaN   \n",
       "top     United States  2014-06-06 16:16:32  2014-08-08           NaN   \n",
       "freq           292618                    2         702           NaN   \n",
       "mean              NaN                  NaN         NaN  4.586378e+04   \n",
       "std               NaN                  NaN         NaN  1.158778e+06   \n",
       "min               NaN                  NaN         NaN  0.000000e+00   \n",
       "25%               NaN                  NaN         NaN  2.000000e+03   \n",
       "50%               NaN                  NaN         NaN  5.500000e+03   \n",
       "75%               NaN                  NaN         NaN  1.600000e+04   \n",
       "max               NaN                  NaN         NaN  1.663614e+08   \n",
       "\n",
       "             Pledged        Backers   State  \n",
       "count   3.748530e+05  374853.000000  374853  \n",
       "unique           NaN            NaN       5  \n",
       "top              NaN            NaN  Failed  \n",
       "freq             NaN            NaN  197611  \n",
       "mean    9.121073e+03     106.690359     NaN  \n",
       "std     9.132054e+04     911.718520     NaN  \n",
       "min     0.000000e+00       0.000000     NaN  \n",
       "25%     3.100000e+01       2.000000     NaN  \n",
       "50%     6.250000e+02      12.000000     NaN  \n",
       "75%     4.051000e+03      57.000000     NaN  \n",
       "max     2.033899e+07  219382.000000     NaN  "
      ]
     },
     "execution_count": 40,
     "metadata": {},
     "output_type": "execute_result"
    }
   ],
   "source": [
    "kickstarter.describe(include='all')"
   ]
  },
  {
   "cell_type": "code",
   "execution_count": 41,
   "metadata": {},
   "outputs": [
    {
     "data": {
      "text/plain": [
       "array(['Failed', 'Successful', 'Canceled', 'Suspended', 'Live'],\n",
       "      dtype=object)"
      ]
     },
     "execution_count": 41,
     "metadata": {},
     "output_type": "execute_result"
    }
   ],
   "source": [
    "kickstarter['State'].unique()"
   ]
  },
  {
   "cell_type": "code",
   "execution_count": 42,
   "metadata": {},
   "outputs": [
    {
     "data": {
      "text/plain": [
       "(2798,)"
      ]
     },
     "execution_count": 42,
     "metadata": {},
     "output_type": "execute_result"
    }
   ],
   "source": [
    "kickstarter[kickstarter['State'] == 'Live'].value_counts().shape"
   ]
  },
  {
   "cell_type": "code",
   "execution_count": 43,
   "metadata": {},
   "outputs": [
    {
     "data": {
      "text/plain": [
       "State\n",
       "Failed        52.716932\n",
       "Successful    35.707597\n",
       "Canceled      10.337652\n",
       "Live           0.746426\n",
       "Suspended      0.491393\n",
       "Name: count, dtype: float64"
      ]
     },
     "execution_count": 43,
     "metadata": {},
     "output_type": "execute_result"
    }
   ],
   "source": [
    "kickstarter.State.value_counts() / len(kickstarter) * 100"
   ]
  },
  {
   "cell_type": "code",
   "execution_count": 44,
   "metadata": {},
   "outputs": [
    {
     "data": {
      "text/plain": [
       "Country\n",
       "United States     78.062067\n",
       "United Kingdom     8.982454\n",
       "Canada             3.936476\n",
       "Australia          2.091220\n",
       "Germany            1.112703\n",
       "France             0.784041\n",
       "Italy              0.767768\n",
       "Netherlands        0.765100\n",
       "Spain              0.607171\n",
       "Sweden             0.468717\n",
       "Mexico             0.467383\n",
       "New Zealand        0.386018\n",
       "Denmark            0.296916\n",
       "Ireland            0.216351\n",
       "Switzerland        0.202746\n",
       "Norway             0.188874\n",
       "Hong Kong          0.164865\n",
       "Belgium            0.164598\n",
       "Austria            0.159262\n",
       "Singapore          0.148058\n",
       "Luxembourg         0.016540\n",
       "Japan              0.010671\n",
       "Name: count, dtype: float64"
      ]
     },
     "execution_count": 44,
     "metadata": {},
     "output_type": "execute_result"
    }
   ],
   "source": [
    "kickstarter.Country.value_counts() / len(kickstarter) * 100"
   ]
  },
  {
   "cell_type": "code",
   "execution_count": 45,
   "metadata": {},
   "outputs": [
    {
     "data": {
      "text/html": [
       "<div>\n",
       "<style scoped>\n",
       "    .dataframe tbody tr th:only-of-type {\n",
       "        vertical-align: middle;\n",
       "    }\n",
       "\n",
       "    .dataframe tbody tr th {\n",
       "        vertical-align: top;\n",
       "    }\n",
       "\n",
       "    .dataframe thead th {\n",
       "        text-align: right;\n",
       "    }\n",
       "</style>\n",
       "<table border=\"1\" class=\"dataframe\">\n",
       "  <thead>\n",
       "    <tr style=\"text-align: right;\">\n",
       "      <th></th>\n",
       "      <th>ID</th>\n",
       "      <th>Name</th>\n",
       "      <th>Category</th>\n",
       "      <th>Subcategory</th>\n",
       "      <th>Country</th>\n",
       "      <th>Launched</th>\n",
       "      <th>Deadline</th>\n",
       "      <th>Goal</th>\n",
       "      <th>Pledged</th>\n",
       "      <th>Backers</th>\n",
       "      <th>State</th>\n",
       "    </tr>\n",
       "  </thead>\n",
       "  <tbody>\n",
       "    <tr>\n",
       "      <th>2</th>\n",
       "      <td>1703704063</td>\n",
       "      <td>drawing for dollars</td>\n",
       "      <td>Art</td>\n",
       "      <td>Illustration</td>\n",
       "      <td>United States</td>\n",
       "      <td>2009-04-24 21:52:03</td>\n",
       "      <td>2009-05-03</td>\n",
       "      <td>20</td>\n",
       "      <td>35</td>\n",
       "      <td>3</td>\n",
       "      <td>Successful</td>\n",
       "    </tr>\n",
       "    <tr>\n",
       "      <th>3</th>\n",
       "      <td>727286</td>\n",
       "      <td>Offline Wikipedia iPhone app</td>\n",
       "      <td>Technology</td>\n",
       "      <td>Software</td>\n",
       "      <td>United States</td>\n",
       "      <td>2009-04-25 17:36:21</td>\n",
       "      <td>2009-07-14</td>\n",
       "      <td>99</td>\n",
       "      <td>145</td>\n",
       "      <td>25</td>\n",
       "      <td>Successful</td>\n",
       "    </tr>\n",
       "    <tr>\n",
       "      <th>5</th>\n",
       "      <td>2089078683</td>\n",
       "      <td>New York Makes a Book!!</td>\n",
       "      <td>Journalism</td>\n",
       "      <td>Journalism</td>\n",
       "      <td>United States</td>\n",
       "      <td>2009-04-28 13:55:41</td>\n",
       "      <td>2009-05-16</td>\n",
       "      <td>3000</td>\n",
       "      <td>3329</td>\n",
       "      <td>110</td>\n",
       "      <td>Successful</td>\n",
       "    </tr>\n",
       "    <tr>\n",
       "      <th>7</th>\n",
       "      <td>266044220</td>\n",
       "      <td>Help me write my second novel.</td>\n",
       "      <td>Publishing</td>\n",
       "      <td>Fiction</td>\n",
       "      <td>United States</td>\n",
       "      <td>2009-04-29 02:58:50</td>\n",
       "      <td>2009-05-29</td>\n",
       "      <td>500</td>\n",
       "      <td>563</td>\n",
       "      <td>18</td>\n",
       "      <td>Successful</td>\n",
       "    </tr>\n",
       "    <tr>\n",
       "      <th>10</th>\n",
       "      <td>469734648</td>\n",
       "      <td>kicey to iceland</td>\n",
       "      <td>Photography</td>\n",
       "      <td>Photography</td>\n",
       "      <td>United States</td>\n",
       "      <td>2009-04-29 06:43:44</td>\n",
       "      <td>2009-06-17</td>\n",
       "      <td>350</td>\n",
       "      <td>1630</td>\n",
       "      <td>31</td>\n",
       "      <td>Successful</td>\n",
       "    </tr>\n",
       "    <tr>\n",
       "      <th>...</th>\n",
       "      <td>...</td>\n",
       "      <td>...</td>\n",
       "      <td>...</td>\n",
       "      <td>...</td>\n",
       "      <td>...</td>\n",
       "      <td>...</td>\n",
       "      <td>...</td>\n",
       "      <td>...</td>\n",
       "      <td>...</td>\n",
       "      <td>...</td>\n",
       "      <td>...</td>\n",
       "    </tr>\n",
       "    <tr>\n",
       "      <th>374310</th>\n",
       "      <td>749399445</td>\n",
       "      <td>Propeller Spring 2.0</td>\n",
       "      <td>Games</td>\n",
       "      <td>Games</td>\n",
       "      <td>Austria</td>\n",
       "      <td>2017-12-23 10:14:21</td>\n",
       "      <td>2017-12-26</td>\n",
       "      <td>36</td>\n",
       "      <td>270</td>\n",
       "      <td>36</td>\n",
       "      <td>Successful</td>\n",
       "    </tr>\n",
       "    <tr>\n",
       "      <th>374400</th>\n",
       "      <td>1223058036</td>\n",
       "      <td>The Cowboy and The Spaceman: Android Collective+</td>\n",
       "      <td>Games</td>\n",
       "      <td>Tabletop Games</td>\n",
       "      <td>United Kingdom</td>\n",
       "      <td>2017-12-26 13:00:24</td>\n",
       "      <td>2017-12-31</td>\n",
       "      <td>271</td>\n",
       "      <td>545</td>\n",
       "      <td>25</td>\n",
       "      <td>Successful</td>\n",
       "    </tr>\n",
       "    <tr>\n",
       "      <th>374458</th>\n",
       "      <td>1411606124</td>\n",
       "      <td>The CHAMPS Are Here!</td>\n",
       "      <td>Fashion</td>\n",
       "      <td>Apparel</td>\n",
       "      <td>United States</td>\n",
       "      <td>2017-12-27 03:52:38</td>\n",
       "      <td>2017-12-31</td>\n",
       "      <td>200</td>\n",
       "      <td>202</td>\n",
       "      <td>6</td>\n",
       "      <td>Successful</td>\n",
       "    </tr>\n",
       "    <tr>\n",
       "      <th>374530</th>\n",
       "      <td>156799983</td>\n",
       "      <td>Kill Them All!</td>\n",
       "      <td>Games</td>\n",
       "      <td>Tabletop Games</td>\n",
       "      <td>United States</td>\n",
       "      <td>2017-12-28 01:48:58</td>\n",
       "      <td>2017-12-30</td>\n",
       "      <td>250</td>\n",
       "      <td>265</td>\n",
       "      <td>7</td>\n",
       "      <td>Successful</td>\n",
       "    </tr>\n",
       "    <tr>\n",
       "      <th>374605</th>\n",
       "      <td>801423615</td>\n",
       "      <td>Collaboration with Snoop Dogg</td>\n",
       "      <td>Music</td>\n",
       "      <td>Hip-Hop</td>\n",
       "      <td>Australia</td>\n",
       "      <td>2017-12-29 03:22:32</td>\n",
       "      <td>2018-01-01</td>\n",
       "      <td>392</td>\n",
       "      <td>514</td>\n",
       "      <td>6</td>\n",
       "      <td>Successful</td>\n",
       "    </tr>\n",
       "  </tbody>\n",
       "</table>\n",
       "<p>133851 rows × 11 columns</p>\n",
       "</div>"
      ],
      "text/plain": [
       "                ID                                              Name  \\\n",
       "2       1703704063                               drawing for dollars   \n",
       "3           727286                      Offline Wikipedia iPhone app   \n",
       "5       2089078683                           New York Makes a Book!!   \n",
       "7        266044220                    Help me write my second novel.   \n",
       "10       469734648                                  kicey to iceland   \n",
       "...            ...                                               ...   \n",
       "374310   749399445                              Propeller Spring 2.0   \n",
       "374400  1223058036  The Cowboy and The Spaceman: Android Collective+   \n",
       "374458  1411606124                              The CHAMPS Are Here!   \n",
       "374530   156799983                                    Kill Them All!   \n",
       "374605   801423615                     Collaboration with Snoop Dogg   \n",
       "\n",
       "           Category     Subcategory         Country             Launched  \\\n",
       "2               Art    Illustration   United States  2009-04-24 21:52:03   \n",
       "3        Technology        Software   United States  2009-04-25 17:36:21   \n",
       "5        Journalism      Journalism   United States  2009-04-28 13:55:41   \n",
       "7        Publishing         Fiction   United States  2009-04-29 02:58:50   \n",
       "10      Photography     Photography   United States  2009-04-29 06:43:44   \n",
       "...             ...             ...             ...                  ...   \n",
       "374310        Games           Games         Austria  2017-12-23 10:14:21   \n",
       "374400        Games  Tabletop Games  United Kingdom  2017-12-26 13:00:24   \n",
       "374458      Fashion         Apparel   United States  2017-12-27 03:52:38   \n",
       "374530        Games  Tabletop Games   United States  2017-12-28 01:48:58   \n",
       "374605        Music         Hip-Hop       Australia  2017-12-29 03:22:32   \n",
       "\n",
       "          Deadline  Goal  Pledged  Backers       State  \n",
       "2       2009-05-03    20       35        3  Successful  \n",
       "3       2009-07-14    99      145       25  Successful  \n",
       "5       2009-05-16  3000     3329      110  Successful  \n",
       "7       2009-05-29   500      563       18  Successful  \n",
       "10      2009-06-17   350     1630       31  Successful  \n",
       "...            ...   ...      ...      ...         ...  \n",
       "374310  2017-12-26    36      270       36  Successful  \n",
       "374400  2017-12-31   271      545       25  Successful  \n",
       "374458  2017-12-31   200      202        6  Successful  \n",
       "374530  2017-12-30   250      265        7  Successful  \n",
       "374605  2018-01-01   392      514        6  Successful  \n",
       "\n",
       "[133851 rows x 11 columns]"
      ]
     },
     "execution_count": 45,
     "metadata": {},
     "output_type": "execute_result"
    }
   ],
   "source": [
    "kickstarter[kickstarter['State'] == 'Successful']"
   ]
  },
  {
   "cell_type": "code",
   "execution_count": 46,
   "metadata": {},
   "outputs": [
    {
     "data": {
      "text/html": [
       "<div>\n",
       "<style scoped>\n",
       "    .dataframe tbody tr th:only-of-type {\n",
       "        vertical-align: middle;\n",
       "    }\n",
       "\n",
       "    .dataframe tbody tr th {\n",
       "        vertical-align: top;\n",
       "    }\n",
       "\n",
       "    .dataframe thead th {\n",
       "        text-align: right;\n",
       "    }\n",
       "</style>\n",
       "<table border=\"1\" class=\"dataframe\">\n",
       "  <thead>\n",
       "    <tr style=\"text-align: right;\">\n",
       "      <th></th>\n",
       "      <th>ID</th>\n",
       "      <th>Name</th>\n",
       "      <th>Category</th>\n",
       "      <th>Subcategory</th>\n",
       "      <th>Country</th>\n",
       "      <th>Launched</th>\n",
       "      <th>Deadline</th>\n",
       "      <th>Goal</th>\n",
       "      <th>Pledged</th>\n",
       "      <th>Backers</th>\n",
       "      <th>State</th>\n",
       "    </tr>\n",
       "  </thead>\n",
       "  <tbody>\n",
       "    <tr>\n",
       "      <th>258920</th>\n",
       "      <td>1769772834</td>\n",
       "      <td>Borders of the Imagination - An Epic Sci-Fi/Fa...</td>\n",
       "      <td>Film &amp; Video</td>\n",
       "      <td>Shorts</td>\n",
       "      <td>United States</td>\n",
       "      <td>2015-11-12 19:06:18</td>\n",
       "      <td>2015-12-27</td>\n",
       "      <td>36000</td>\n",
       "      <td>30716</td>\n",
       "      <td>275</td>\n",
       "      <td>Successful</td>\n",
       "    </tr>\n",
       "    <tr>\n",
       "      <th>272350</th>\n",
       "      <td>780863434</td>\n",
       "      <td>TUW Ruhla Watches - Comeback of a Legend</td>\n",
       "      <td>Design</td>\n",
       "      <td>Product Design</td>\n",
       "      <td>Germany</td>\n",
       "      <td>2016-02-08 19:14:02</td>\n",
       "      <td>2016-03-19</td>\n",
       "      <td>27885</td>\n",
       "      <td>27765</td>\n",
       "      <td>90</td>\n",
       "      <td>Successful</td>\n",
       "    </tr>\n",
       "  </tbody>\n",
       "</table>\n",
       "</div>"
      ],
      "text/plain": [
       "                ID                                               Name  \\\n",
       "258920  1769772834  Borders of the Imagination - An Epic Sci-Fi/Fa...   \n",
       "272350   780863434           TUW Ruhla Watches - Comeback of a Legend   \n",
       "\n",
       "            Category     Subcategory        Country             Launched  \\\n",
       "258920  Film & Video          Shorts  United States  2015-11-12 19:06:18   \n",
       "272350        Design  Product Design        Germany  2016-02-08 19:14:02   \n",
       "\n",
       "          Deadline   Goal  Pledged  Backers       State  \n",
       "258920  2015-12-27  36000    30716      275  Successful  \n",
       "272350  2016-03-19  27885    27765       90  Successful  "
      ]
     },
     "execution_count": 46,
     "metadata": {},
     "output_type": "execute_result"
    }
   ],
   "source": [
    "kickstarter.query(\"State == 'Successful' and Goal > Pledged\")"
   ]
  },
  {
   "cell_type": "code",
   "execution_count": 47,
   "metadata": {},
   "outputs": [
    {
     "data": {
      "text/html": [
       "<div>\n",
       "<style scoped>\n",
       "    .dataframe tbody tr th:only-of-type {\n",
       "        vertical-align: middle;\n",
       "    }\n",
       "\n",
       "    .dataframe tbody tr th {\n",
       "        vertical-align: top;\n",
       "    }\n",
       "\n",
       "    .dataframe thead th {\n",
       "        text-align: right;\n",
       "    }\n",
       "</style>\n",
       "<table border=\"1\" class=\"dataframe\">\n",
       "  <thead>\n",
       "    <tr style=\"text-align: right;\">\n",
       "      <th></th>\n",
       "      <th>ID</th>\n",
       "      <th>Name</th>\n",
       "      <th>Category</th>\n",
       "      <th>Subcategory</th>\n",
       "      <th>Country</th>\n",
       "      <th>Launched</th>\n",
       "      <th>Deadline</th>\n",
       "      <th>Goal</th>\n",
       "      <th>Pledged</th>\n",
       "      <th>Backers</th>\n",
       "      <th>State</th>\n",
       "    </tr>\n",
       "  </thead>\n",
       "  <tbody>\n",
       "    <tr>\n",
       "      <th>258920</th>\n",
       "      <td>1769772834</td>\n",
       "      <td>Borders of the Imagination - An Epic Sci-Fi/Fa...</td>\n",
       "      <td>Film &amp; Video</td>\n",
       "      <td>Shorts</td>\n",
       "      <td>United States</td>\n",
       "      <td>2015-11-12 19:06:18</td>\n",
       "      <td>2015-12-27</td>\n",
       "      <td>36000</td>\n",
       "      <td>30716</td>\n",
       "      <td>275</td>\n",
       "      <td>Successful</td>\n",
       "    </tr>\n",
       "    <tr>\n",
       "      <th>272350</th>\n",
       "      <td>780863434</td>\n",
       "      <td>TUW Ruhla Watches - Comeback of a Legend</td>\n",
       "      <td>Design</td>\n",
       "      <td>Product Design</td>\n",
       "      <td>Germany</td>\n",
       "      <td>2016-02-08 19:14:02</td>\n",
       "      <td>2016-03-19</td>\n",
       "      <td>27885</td>\n",
       "      <td>27765</td>\n",
       "      <td>90</td>\n",
       "      <td>Successful</td>\n",
       "    </tr>\n",
       "  </tbody>\n",
       "</table>\n",
       "</div>"
      ],
      "text/plain": [
       "                ID                                               Name  \\\n",
       "258920  1769772834  Borders of the Imagination - An Epic Sci-Fi/Fa...   \n",
       "272350   780863434           TUW Ruhla Watches - Comeback of a Legend   \n",
       "\n",
       "            Category     Subcategory        Country             Launched  \\\n",
       "258920  Film & Video          Shorts  United States  2015-11-12 19:06:18   \n",
       "272350        Design  Product Design        Germany  2016-02-08 19:14:02   \n",
       "\n",
       "          Deadline   Goal  Pledged  Backers       State  \n",
       "258920  2015-12-27  36000    30716      275  Successful  \n",
       "272350  2016-03-19  27885    27765       90  Successful  "
      ]
     },
     "execution_count": 47,
     "metadata": {},
     "output_type": "execute_result"
    }
   ],
   "source": [
    "successful_smaller_pledged = kickstarter[(kickstarter['State'] == 'Successful') & (kickstarter['Pledged'] < kickstarter['Goal'])]\n",
    "successful_smaller_pledged\n"
   ]
  },
  {
   "cell_type": "code",
   "execution_count": 48,
   "metadata": {},
   "outputs": [
    {
     "data": {
      "text/html": [
       "<div>\n",
       "<style scoped>\n",
       "    .dataframe tbody tr th:only-of-type {\n",
       "        vertical-align: middle;\n",
       "    }\n",
       "\n",
       "    .dataframe tbody tr th {\n",
       "        vertical-align: top;\n",
       "    }\n",
       "\n",
       "    .dataframe thead th {\n",
       "        text-align: right;\n",
       "    }\n",
       "</style>\n",
       "<table border=\"1\" class=\"dataframe\">\n",
       "  <thead>\n",
       "    <tr style=\"text-align: right;\">\n",
       "      <th></th>\n",
       "      <th>ID</th>\n",
       "      <th>Name</th>\n",
       "      <th>Category</th>\n",
       "      <th>Subcategory</th>\n",
       "      <th>Country</th>\n",
       "      <th>Launched</th>\n",
       "      <th>Deadline</th>\n",
       "      <th>Goal</th>\n",
       "      <th>Pledged</th>\n",
       "      <th>Backers</th>\n",
       "      <th>State</th>\n",
       "    </tr>\n",
       "  </thead>\n",
       "  <tbody>\n",
       "    <tr>\n",
       "      <th>2295</th>\n",
       "      <td>2103203254</td>\n",
       "      <td>The new face of Canadian Science Fiction</td>\n",
       "      <td>Publishing</td>\n",
       "      <td>Fiction</td>\n",
       "      <td>United States</td>\n",
       "      <td>2010-03-18 04:35:31</td>\n",
       "      <td>2010-05-16</td>\n",
       "      <td>10000</td>\n",
       "      <td>10797</td>\n",
       "      <td>66</td>\n",
       "      <td>Failed</td>\n",
       "    </tr>\n",
       "    <tr>\n",
       "      <th>33823</th>\n",
       "      <td>1297794474</td>\n",
       "      <td>Music Empowers - A Day with the Accende Ensemble</td>\n",
       "      <td>Music</td>\n",
       "      <td>Classical Music</td>\n",
       "      <td>United States</td>\n",
       "      <td>2011-11-07 15:20:24</td>\n",
       "      <td>2012-01-04</td>\n",
       "      <td>3000</td>\n",
       "      <td>3088</td>\n",
       "      <td>20</td>\n",
       "      <td>Failed</td>\n",
       "    </tr>\n",
       "    <tr>\n",
       "      <th>86441</th>\n",
       "      <td>1085047405</td>\n",
       "      <td>\"Balance\"</td>\n",
       "      <td>Music</td>\n",
       "      <td>Jazz</td>\n",
       "      <td>United States</td>\n",
       "      <td>2013-03-05 10:55:56</td>\n",
       "      <td>2013-04-04</td>\n",
       "      <td>23000</td>\n",
       "      <td>23020</td>\n",
       "      <td>141</td>\n",
       "      <td>Failed</td>\n",
       "    </tr>\n",
       "    <tr>\n",
       "      <th>108392</th>\n",
       "      <td>59246799</td>\n",
       "      <td>Key Wrench - Unlock Your Life!</td>\n",
       "      <td>Design</td>\n",
       "      <td>Product Design</td>\n",
       "      <td>United States</td>\n",
       "      <td>2013-08-24 05:42:10</td>\n",
       "      <td>2013-10-04</td>\n",
       "      <td>6000</td>\n",
       "      <td>6183</td>\n",
       "      <td>208</td>\n",
       "      <td>Failed</td>\n",
       "    </tr>\n",
       "  </tbody>\n",
       "</table>\n",
       "</div>"
      ],
      "text/plain": [
       "                ID                                              Name  \\\n",
       "2295    2103203254          The new face of Canadian Science Fiction   \n",
       "33823   1297794474  Music Empowers - A Day with the Accende Ensemble   \n",
       "86441   1085047405                                         \"Balance\"   \n",
       "108392    59246799                    Key Wrench - Unlock Your Life!   \n",
       "\n",
       "          Category      Subcategory        Country             Launched  \\\n",
       "2295    Publishing          Fiction  United States  2010-03-18 04:35:31   \n",
       "33823        Music  Classical Music  United States  2011-11-07 15:20:24   \n",
       "86441        Music             Jazz  United States  2013-03-05 10:55:56   \n",
       "108392      Design   Product Design  United States  2013-08-24 05:42:10   \n",
       "\n",
       "          Deadline   Goal  Pledged  Backers   State  \n",
       "2295    2010-05-16  10000    10797       66  Failed  \n",
       "33823   2012-01-04   3000     3088       20  Failed  \n",
       "86441   2013-04-04  23000    23020      141  Failed  \n",
       "108392  2013-10-04   6000     6183      208  Failed  "
      ]
     },
     "execution_count": 48,
     "metadata": {},
     "output_type": "execute_result"
    }
   ],
   "source": [
    "kickstarter.query(\"State == 'Failed' and Goal < Pledged\")"
   ]
  },
  {
   "cell_type": "code",
   "execution_count": 49,
   "metadata": {},
   "outputs": [
    {
     "data": {
      "text/html": [
       "<div>\n",
       "<style scoped>\n",
       "    .dataframe tbody tr th:only-of-type {\n",
       "        vertical-align: middle;\n",
       "    }\n",
       "\n",
       "    .dataframe tbody tr th {\n",
       "        vertical-align: top;\n",
       "    }\n",
       "\n",
       "    .dataframe thead th {\n",
       "        text-align: right;\n",
       "    }\n",
       "</style>\n",
       "<table border=\"1\" class=\"dataframe\">\n",
       "  <thead>\n",
       "    <tr style=\"text-align: right;\">\n",
       "      <th></th>\n",
       "      <th>ID</th>\n",
       "      <th>Name</th>\n",
       "      <th>Category</th>\n",
       "      <th>Subcategory</th>\n",
       "      <th>Country</th>\n",
       "      <th>Launched</th>\n",
       "      <th>Deadline</th>\n",
       "      <th>Goal</th>\n",
       "      <th>Pledged</th>\n",
       "      <th>Backers</th>\n",
       "      <th>State</th>\n",
       "    </tr>\n",
       "  </thead>\n",
       "  <tbody>\n",
       "    <tr>\n",
       "      <th>58</th>\n",
       "      <td>981182186</td>\n",
       "      <td>Save the Ramzi (Canceled)</td>\n",
       "      <td>Music</td>\n",
       "      <td>Music</td>\n",
       "      <td>United States</td>\n",
       "      <td>2009-05-14 22:27:25</td>\n",
       "      <td>2009-06-15</td>\n",
       "      <td>1000</td>\n",
       "      <td>1190</td>\n",
       "      <td>18</td>\n",
       "      <td>Canceled</td>\n",
       "    </tr>\n",
       "    <tr>\n",
       "      <th>1106</th>\n",
       "      <td>1449241552</td>\n",
       "      <td>Help Sex Piano Fund an EP (Canceled)</td>\n",
       "      <td>Music</td>\n",
       "      <td>Rock</td>\n",
       "      <td>United States</td>\n",
       "      <td>2009-11-30 02:32:24</td>\n",
       "      <td>2010-02-15</td>\n",
       "      <td>750</td>\n",
       "      <td>1110</td>\n",
       "      <td>32</td>\n",
       "      <td>Canceled</td>\n",
       "    </tr>\n",
       "    <tr>\n",
       "      <th>3255</th>\n",
       "      <td>633651514</td>\n",
       "      <td>Tiny Urban Park (Canceled)</td>\n",
       "      <td>Food</td>\n",
       "      <td>Food</td>\n",
       "      <td>United States</td>\n",
       "      <td>2010-05-04 02:17:08</td>\n",
       "      <td>2010-05-18</td>\n",
       "      <td>650</td>\n",
       "      <td>1260</td>\n",
       "      <td>39</td>\n",
       "      <td>Canceled</td>\n",
       "    </tr>\n",
       "    <tr>\n",
       "      <th>6152</th>\n",
       "      <td>384291751</td>\n",
       "      <td>Pieces of My Soul: Scattered Around Chicago. (...</td>\n",
       "      <td>Photography</td>\n",
       "      <td>Photography</td>\n",
       "      <td>United States</td>\n",
       "      <td>2010-08-02 05:21:55</td>\n",
       "      <td>2010-10-31</td>\n",
       "      <td>60</td>\n",
       "      <td>160</td>\n",
       "      <td>4</td>\n",
       "      <td>Canceled</td>\n",
       "    </tr>\n",
       "    <tr>\n",
       "      <th>7604</th>\n",
       "      <td>26343338</td>\n",
       "      <td>Microfiche releasing Jetpacks and Laser Beams ...</td>\n",
       "      <td>Music</td>\n",
       "      <td>Rock</td>\n",
       "      <td>United States</td>\n",
       "      <td>2010-09-17 07:15:02</td>\n",
       "      <td>2010-10-23</td>\n",
       "      <td>1500</td>\n",
       "      <td>1905</td>\n",
       "      <td>24</td>\n",
       "      <td>Canceled</td>\n",
       "    </tr>\n",
       "    <tr>\n",
       "      <th>...</th>\n",
       "      <td>...</td>\n",
       "      <td>...</td>\n",
       "      <td>...</td>\n",
       "      <td>...</td>\n",
       "      <td>...</td>\n",
       "      <td>...</td>\n",
       "      <td>...</td>\n",
       "      <td>...</td>\n",
       "      <td>...</td>\n",
       "      <td>...</td>\n",
       "      <td>...</td>\n",
       "    </tr>\n",
       "    <tr>\n",
       "      <th>373114</th>\n",
       "      <td>1953573084</td>\n",
       "      <td>Love Tove</td>\n",
       "      <td>Games</td>\n",
       "      <td>Tabletop Games</td>\n",
       "      <td>Sweden</td>\n",
       "      <td>2017-12-11 02:21:35</td>\n",
       "      <td>2018-01-10</td>\n",
       "      <td>3085</td>\n",
       "      <td>17433</td>\n",
       "      <td>371</td>\n",
       "      <td>Canceled</td>\n",
       "    </tr>\n",
       "    <tr>\n",
       "      <th>373240</th>\n",
       "      <td>2102787667</td>\n",
       "      <td>Super Fun Awesome Time</td>\n",
       "      <td>Games</td>\n",
       "      <td>Tabletop Games</td>\n",
       "      <td>United States</td>\n",
       "      <td>2017-12-11 22:20:28</td>\n",
       "      <td>2018-01-25</td>\n",
       "      <td>1000</td>\n",
       "      <td>1729</td>\n",
       "      <td>11</td>\n",
       "      <td>Canceled</td>\n",
       "    </tr>\n",
       "    <tr>\n",
       "      <th>373378</th>\n",
       "      <td>728624654</td>\n",
       "      <td>ARTOFPXL VOL.1 // WEEKLY PLANNER 2018</td>\n",
       "      <td>Design</td>\n",
       "      <td>Design</td>\n",
       "      <td>Germany</td>\n",
       "      <td>2017-12-12 21:02:21</td>\n",
       "      <td>2018-01-03</td>\n",
       "      <td>669</td>\n",
       "      <td>742</td>\n",
       "      <td>10</td>\n",
       "      <td>Canceled</td>\n",
       "    </tr>\n",
       "    <tr>\n",
       "      <th>373911</th>\n",
       "      <td>957218473</td>\n",
       "      <td>The Dumbest Thing In Your Mailbox - Part 5: Ye...</td>\n",
       "      <td>Art</td>\n",
       "      <td>Art</td>\n",
       "      <td>United States</td>\n",
       "      <td>2017-12-18 21:38:26</td>\n",
       "      <td>2017-12-25</td>\n",
       "      <td>1</td>\n",
       "      <td>74</td>\n",
       "      <td>17</td>\n",
       "      <td>Canceled</td>\n",
       "    </tr>\n",
       "    <tr>\n",
       "      <th>373957</th>\n",
       "      <td>1303472085</td>\n",
       "      <td>3D Printable Cars (STL Files)</td>\n",
       "      <td>Games</td>\n",
       "      <td>Tabletop Games</td>\n",
       "      <td>Canada</td>\n",
       "      <td>2017-12-19 08:41:47</td>\n",
       "      <td>2018-01-18</td>\n",
       "      <td>399</td>\n",
       "      <td>597</td>\n",
       "      <td>25</td>\n",
       "      <td>Canceled</td>\n",
       "    </tr>\n",
       "  </tbody>\n",
       "</table>\n",
       "<p>648 rows × 11 columns</p>\n",
       "</div>"
      ],
      "text/plain": [
       "                ID                                               Name  \\\n",
       "58       981182186                          Save the Ramzi (Canceled)   \n",
       "1106    1449241552               Help Sex Piano Fund an EP (Canceled)   \n",
       "3255     633651514                         Tiny Urban Park (Canceled)   \n",
       "6152     384291751  Pieces of My Soul: Scattered Around Chicago. (...   \n",
       "7604      26343338  Microfiche releasing Jetpacks and Laser Beams ...   \n",
       "...            ...                                                ...   \n",
       "373114  1953573084                                          Love Tove   \n",
       "373240  2102787667                             Super Fun Awesome Time   \n",
       "373378   728624654              ARTOFPXL VOL.1 // WEEKLY PLANNER 2018   \n",
       "373911   957218473  The Dumbest Thing In Your Mailbox - Part 5: Ye...   \n",
       "373957  1303472085                      3D Printable Cars (STL Files)   \n",
       "\n",
       "           Category     Subcategory        Country             Launched  \\\n",
       "58            Music           Music  United States  2009-05-14 22:27:25   \n",
       "1106          Music            Rock  United States  2009-11-30 02:32:24   \n",
       "3255           Food            Food  United States  2010-05-04 02:17:08   \n",
       "6152    Photography     Photography  United States  2010-08-02 05:21:55   \n",
       "7604          Music            Rock  United States  2010-09-17 07:15:02   \n",
       "...             ...             ...            ...                  ...   \n",
       "373114        Games  Tabletop Games         Sweden  2017-12-11 02:21:35   \n",
       "373240        Games  Tabletop Games  United States  2017-12-11 22:20:28   \n",
       "373378       Design          Design        Germany  2017-12-12 21:02:21   \n",
       "373911          Art             Art  United States  2017-12-18 21:38:26   \n",
       "373957        Games  Tabletop Games         Canada  2017-12-19 08:41:47   \n",
       "\n",
       "          Deadline  Goal  Pledged  Backers     State  \n",
       "58      2009-06-15  1000     1190       18  Canceled  \n",
       "1106    2010-02-15   750     1110       32  Canceled  \n",
       "3255    2010-05-18   650     1260       39  Canceled  \n",
       "6152    2010-10-31    60      160        4  Canceled  \n",
       "7604    2010-10-23  1500     1905       24  Canceled  \n",
       "...            ...   ...      ...      ...       ...  \n",
       "373114  2018-01-10  3085    17433      371  Canceled  \n",
       "373240  2018-01-25  1000     1729       11  Canceled  \n",
       "373378  2018-01-03   669      742       10  Canceled  \n",
       "373911  2017-12-25     1       74       17  Canceled  \n",
       "373957  2018-01-18   399      597       25  Canceled  \n",
       "\n",
       "[648 rows x 11 columns]"
      ]
     },
     "execution_count": 49,
     "metadata": {},
     "output_type": "execute_result"
    }
   ],
   "source": [
    "kickstarter.query(\"State == 'Canceled' and Goal < Pledged\")"
   ]
  },
  {
   "cell_type": "code",
   "execution_count": null,
   "metadata": {},
   "outputs": [],
   "source": []
  },
  {
   "cell_type": "code",
   "execution_count": 50,
   "metadata": {},
   "outputs": [
    {
     "data": {
      "text/plain": [
       "Index(['ID', 'Name', 'Category', 'Subcategory', 'Country', 'Launched',\n",
       "       'Deadline', 'Goal', 'Pledged', 'Backers', 'State'],\n",
       "      dtype='object')"
      ]
     },
     "execution_count": 50,
     "metadata": {},
     "output_type": "execute_result"
    }
   ],
   "source": [
    "kickstarter.columns"
   ]
  },
  {
   "cell_type": "code",
   "execution_count": 51,
   "metadata": {},
   "outputs": [
    {
     "data": {
      "text/plain": [
       "<Axes: ylabel='Category'>"
      ]
     },
     "execution_count": 51,
     "metadata": {},
     "output_type": "execute_result"
    },
    {
     "data": {
      "image/png": "[encoded data removed]",
      "text/plain": [
       "<Figure size 640x480 with 1 Axes>"
      ]
     },
     "metadata": {},
     "output_type": "display_data"
    }
   ],
   "source": [
    "(kickstarter['Category'].value_counts().plot(kind='barh'))"
   ]
  },
  {
   "cell_type": "code",
   "execution_count": 52,
   "metadata": {},
   "outputs": [
    {
     "ename": "KeyboardInterrupt",
     "evalue": "",
     "output_type": "error",
     "traceback": [
      "\u001b[0;31m---------------------------------------------------------------------------\u001b[0m",
      "\u001b[0;31mKeyboardInterrupt\u001b[0m                         Traceback (most recent call last)",
      "\u001b[1;32m/Users/lukaskaufmann/Desktop/▲▼/DOKUMENTE/SPICED/_GIT REPOS/ds-kickstarter-project/kickstarter-project.ipynb Cell 23\u001b[0m line \u001b[0;36m1\n\u001b[0;32m----> <a href='vscode-notebook-cell:/Users/lukaskaufmann/Desktop/%E2%96%B2%E2%96%BC/DOKUMENTE/SPICED/_GIT%20REPOS/ds-kickstarter-project/kickstarter-project.ipynb#X31sZmlsZQ%3D%3D?line=0'>1</a>\u001b[0m sns\u001b[39m.\u001b[39mpairplot(data\u001b[39m=\u001b[39mkickstarter, \u001b[39mvars\u001b[39m\u001b[39m=\u001b[39m[\u001b[39m'\u001b[39m\u001b[39mGoal\u001b[39m\u001b[39m'\u001b[39m, \u001b[39m'\u001b[39m\u001b[39mPledged\u001b[39m\u001b[39m'\u001b[39m, \u001b[39m'\u001b[39m\u001b[39mBackers\u001b[39m\u001b[39m'\u001b[39m], hue\u001b[39m=\u001b[39m\u001b[39m'\u001b[39m\u001b[39mState\u001b[39m\u001b[39m'\u001b[39m)\n",
      "File \u001b[0;32m~/miniforge3/envs/ds-kickstarter/lib/python3.11/site-packages/seaborn/axisgrid.py:2172\u001b[0m, in \u001b[0;36mpairplot\u001b[0;34m(data, hue, hue_order, palette, vars, x_vars, y_vars, kind, diag_kind, markers, height, aspect, corner, dropna, plot_kws, diag_kws, grid_kws, size)\u001b[0m\n\u001b[1;32m   2170\u001b[0m \u001b[39m# Add a legend\u001b[39;00m\n\u001b[1;32m   2171\u001b[0m \u001b[39mif\u001b[39;00m hue \u001b[39mis\u001b[39;00m \u001b[39mnot\u001b[39;00m \u001b[39mNone\u001b[39;00m:\n\u001b[0;32m-> 2172\u001b[0m     grid\u001b[39m.\u001b[39madd_legend()\n\u001b[1;32m   2174\u001b[0m grid\u001b[39m.\u001b[39mtight_layout()\n\u001b[1;32m   2176\u001b[0m \u001b[39mreturn\u001b[39;00m grid\n",
      "File \u001b[0;32m~/miniforge3/envs/ds-kickstarter/lib/python3.11/site-packages/seaborn/axisgrid.py:190\u001b[0m, in \u001b[0;36mGrid.add_legend\u001b[0;34m(self, legend_data, title, label_order, adjust_subtitles, **kwargs)\u001b[0m\n\u001b[1;32m    187\u001b[0m     adjust_legend_subtitles(figlegend)\n\u001b[1;32m    189\u001b[0m \u001b[39m# Draw the plot to set the bounding boxes correctly\u001b[39;00m\n\u001b[0;32m--> 190\u001b[0m _draw_figure(\u001b[39mself\u001b[39m\u001b[39m.\u001b[39m_figure)\n\u001b[1;32m    192\u001b[0m \u001b[39m# Calculate and set the new width of the figure so the legend fits\u001b[39;00m\n\u001b[1;32m    193\u001b[0m legend_width \u001b[39m=\u001b[39m figlegend\u001b[39m.\u001b[39mget_window_extent()\u001b[39m.\u001b[39mwidth \u001b[39m/\u001b[39m \u001b[39mself\u001b[39m\u001b[39m.\u001b[39m_figure\u001b[39m.\u001b[39mdpi\n",
      "File \u001b[0;32m~/miniforge3/envs/ds-kickstarter/lib/python3.11/site-packages/seaborn/utils.py:80\u001b[0m, in \u001b[0;36m_draw_figure\u001b[0;34m(fig)\u001b[0m\n\u001b[1;32m     78\u001b[0m \u001b[39m\u001b[39m\u001b[39m\"\"\"Force draw of a matplotlib figure, accounting for back-compat.\"\"\"\u001b[39;00m\n\u001b[1;32m     79\u001b[0m \u001b[39m# See https://github.com/matplotlib/matplotlib/issues/19197 for context\u001b[39;00m\n\u001b[0;32m---> 80\u001b[0m fig\u001b[39m.\u001b[39mcanvas\u001b[39m.\u001b[39mdraw()\n\u001b[1;32m     81\u001b[0m \u001b[39mif\u001b[39;00m fig\u001b[39m.\u001b[39mstale:\n\u001b[1;32m     82\u001b[0m     \u001b[39mtry\u001b[39;00m:\n",
      "File \u001b[0;32m~/miniforge3/envs/ds-kickstarter/lib/python3.11/site-packages/matplotlib/backends/backend_agg.py:400\u001b[0m, in \u001b[0;36mFigureCanvasAgg.draw\u001b[0;34m(self)\u001b[0m\n\u001b[1;32m    396\u001b[0m \u001b[39m# Acquire a lock on the shared font cache.\u001b[39;00m\n\u001b[1;32m    397\u001b[0m \u001b[39mwith\u001b[39;00m RendererAgg\u001b[39m.\u001b[39mlock, \\\n\u001b[1;32m    398\u001b[0m      (\u001b[39mself\u001b[39m\u001b[39m.\u001b[39mtoolbar\u001b[39m.\u001b[39m_wait_cursor_for_draw_cm() \u001b[39mif\u001b[39;00m \u001b[39mself\u001b[39m\u001b[39m.\u001b[39mtoolbar\n\u001b[1;32m    399\u001b[0m       \u001b[39melse\u001b[39;00m nullcontext()):\n\u001b[0;32m--> 400\u001b[0m     \u001b[39mself\u001b[39m\u001b[39m.\u001b[39mfigure\u001b[39m.\u001b[39mdraw(\u001b[39mself\u001b[39m\u001b[39m.\u001b[39mrenderer)\n\u001b[1;32m    401\u001b[0m     \u001b[39m# A GUI class may be need to update a window using this draw, so\u001b[39;00m\n\u001b[1;32m    402\u001b[0m     \u001b[39m# don't forget to call the superclass.\u001b[39;00m\n\u001b[1;32m    403\u001b[0m     \u001b[39msuper\u001b[39m()\u001b[39m.\u001b[39mdraw()\n",
      "File \u001b[0;32m~/miniforge3/envs/ds-kickstarter/lib/python3.11/site-packages/matplotlib/artist.py:95\u001b[0m, in \u001b[0;36m_finalize_rasterization.<locals>.draw_wrapper\u001b[0;34m(artist, renderer, *args, **kwargs)\u001b[0m\n\u001b[1;32m     93\u001b[0m \u001b[39m@wraps\u001b[39m(draw)\n\u001b[1;32m     94\u001b[0m \u001b[39mdef\u001b[39;00m \u001b[39mdraw_wrapper\u001b[39m(artist, renderer, \u001b[39m*\u001b[39margs, \u001b[39m*\u001b[39m\u001b[39m*\u001b[39mkwargs):\n\u001b[0;32m---> 95\u001b[0m     result \u001b[39m=\u001b[39m draw(artist, renderer, \u001b[39m*\u001b[39margs, \u001b[39m*\u001b[39m\u001b[39m*\u001b[39mkwargs)\n\u001b[1;32m     96\u001b[0m     \u001b[39mif\u001b[39;00m renderer\u001b[39m.\u001b[39m_rasterizing:\n\u001b[1;32m     97\u001b[0m         renderer\u001b[39m.\u001b[39mstop_rasterizing()\n",
      "File \u001b[0;32m~/miniforge3/envs/ds-kickstarter/lib/python3.11/site-packages/matplotlib/artist.py:72\u001b[0m, in \u001b[0;36mallow_rasterization.<locals>.draw_wrapper\u001b[0;34m(artist, renderer)\u001b[0m\n\u001b[1;32m     69\u001b[0m     \u001b[39mif\u001b[39;00m artist\u001b[39m.\u001b[39mget_agg_filter() \u001b[39mis\u001b[39;00m \u001b[39mnot\u001b[39;00m \u001b[39mNone\u001b[39;00m:\n\u001b[1;32m     70\u001b[0m         renderer\u001b[39m.\u001b[39mstart_filter()\n\u001b[0;32m---> 72\u001b[0m     \u001b[39mreturn\u001b[39;00m draw(artist, renderer)\n\u001b[1;32m     73\u001b[0m \u001b[39mfinally\u001b[39;00m:\n\u001b[1;32m     74\u001b[0m     \u001b[39mif\u001b[39;00m artist\u001b[39m.\u001b[39mget_agg_filter() \u001b[39mis\u001b[39;00m \u001b[39mnot\u001b[39;00m \u001b[39mNone\u001b[39;00m:\n",
      "File \u001b[0;32m~/miniforge3/envs/ds-kickstarter/lib/python3.11/site-packages/matplotlib/figure.py:3175\u001b[0m, in \u001b[0;36mFigure.draw\u001b[0;34m(self, renderer)\u001b[0m\n\u001b[1;32m   3172\u001b[0m         \u001b[39m# ValueError can occur when resizing a window.\u001b[39;00m\n\u001b[1;32m   3174\u001b[0m \u001b[39mself\u001b[39m\u001b[39m.\u001b[39mpatch\u001b[39m.\u001b[39mdraw(renderer)\n\u001b[0;32m-> 3175\u001b[0m mimage\u001b[39m.\u001b[39m_draw_list_compositing_images(\n\u001b[1;32m   3176\u001b[0m     renderer, \u001b[39mself\u001b[39m, artists, \u001b[39mself\u001b[39m\u001b[39m.\u001b[39msuppressComposite)\n\u001b[1;32m   3178\u001b[0m \u001b[39mfor\u001b[39;00m sfig \u001b[39min\u001b[39;00m \u001b[39mself\u001b[39m\u001b[39m.\u001b[39msubfigs:\n\u001b[1;32m   3179\u001b[0m     sfig\u001b[39m.\u001b[39mdraw(renderer)\n",
      "File \u001b[0;32m~/miniforge3/envs/ds-kickstarter/lib/python3.11/site-packages/matplotlib/image.py:131\u001b[0m, in \u001b[0;36m_draw_list_compositing_images\u001b[0;34m(renderer, parent, artists, suppress_composite)\u001b[0m\n\u001b[1;32m    129\u001b[0m \u001b[39mif\u001b[39;00m not_composite \u001b[39mor\u001b[39;00m \u001b[39mnot\u001b[39;00m has_images:\n\u001b[1;32m    130\u001b[0m     \u001b[39mfor\u001b[39;00m a \u001b[39min\u001b[39;00m artists:\n\u001b[0;32m--> 131\u001b[0m         a\u001b[39m.\u001b[39mdraw(renderer)\n\u001b[1;32m    132\u001b[0m \u001b[39melse\u001b[39;00m:\n\u001b[1;32m    133\u001b[0m     \u001b[39m# Composite any adjacent images together\u001b[39;00m\n\u001b[1;32m    134\u001b[0m     image_group \u001b[39m=\u001b[39m []\n",
      "File \u001b[0;32m~/miniforge3/envs/ds-kickstarter/lib/python3.11/site-packages/matplotlib/artist.py:72\u001b[0m, in \u001b[0;36mallow_rasterization.<locals>.draw_wrapper\u001b[0;34m(artist, renderer)\u001b[0m\n\u001b[1;32m     69\u001b[0m     \u001b[39mif\u001b[39;00m artist\u001b[39m.\u001b[39mget_agg_filter() \u001b[39mis\u001b[39;00m \u001b[39mnot\u001b[39;00m \u001b[39mNone\u001b[39;00m:\n\u001b[1;32m     70\u001b[0m         renderer\u001b[39m.\u001b[39mstart_filter()\n\u001b[0;32m---> 72\u001b[0m     \u001b[39mreturn\u001b[39;00m draw(artist, renderer)\n\u001b[1;32m     73\u001b[0m \u001b[39mfinally\u001b[39;00m:\n\u001b[1;32m     74\u001b[0m     \u001b[39mif\u001b[39;00m artist\u001b[39m.\u001b[39mget_agg_filter() \u001b[39mis\u001b[39;00m \u001b[39mnot\u001b[39;00m \u001b[39mNone\u001b[39;00m:\n",
      "File \u001b[0;32m~/miniforge3/envs/ds-kickstarter/lib/python3.11/site-packages/matplotlib/axes/_base.py:3064\u001b[0m, in \u001b[0;36m_AxesBase.draw\u001b[0;34m(self, renderer)\u001b[0m\n\u001b[1;32m   3061\u001b[0m \u001b[39mif\u001b[39;00m artists_rasterized:\n\u001b[1;32m   3062\u001b[0m     _draw_rasterized(\u001b[39mself\u001b[39m\u001b[39m.\u001b[39mfigure, artists_rasterized, renderer)\n\u001b[0;32m-> 3064\u001b[0m mimage\u001b[39m.\u001b[39m_draw_list_compositing_images(\n\u001b[1;32m   3065\u001b[0m     renderer, \u001b[39mself\u001b[39m, artists, \u001b[39mself\u001b[39m\u001b[39m.\u001b[39mfigure\u001b[39m.\u001b[39msuppressComposite)\n\u001b[1;32m   3067\u001b[0m renderer\u001b[39m.\u001b[39mclose_group(\u001b[39m'\u001b[39m\u001b[39maxes\u001b[39m\u001b[39m'\u001b[39m)\n\u001b[1;32m   3068\u001b[0m \u001b[39mself\u001b[39m\u001b[39m.\u001b[39mstale \u001b[39m=\u001b[39m \u001b[39mFalse\u001b[39;00m\n",
      "File \u001b[0;32m~/miniforge3/envs/ds-kickstarter/lib/python3.11/site-packages/matplotlib/image.py:131\u001b[0m, in \u001b[0;36m_draw_list_compositing_images\u001b[0;34m(renderer, parent, artists, suppress_composite)\u001b[0m\n\u001b[1;32m    129\u001b[0m \u001b[39mif\u001b[39;00m not_composite \u001b[39mor\u001b[39;00m \u001b[39mnot\u001b[39;00m has_images:\n\u001b[1;32m    130\u001b[0m     \u001b[39mfor\u001b[39;00m a \u001b[39min\u001b[39;00m artists:\n\u001b[0;32m--> 131\u001b[0m         a\u001b[39m.\u001b[39mdraw(renderer)\n\u001b[1;32m    132\u001b[0m \u001b[39melse\u001b[39;00m:\n\u001b[1;32m    133\u001b[0m     \u001b[39m# Composite any adjacent images together\u001b[39;00m\n\u001b[1;32m    134\u001b[0m     image_group \u001b[39m=\u001b[39m []\n",
      "File \u001b[0;32m~/miniforge3/envs/ds-kickstarter/lib/python3.11/site-packages/matplotlib/artist.py:72\u001b[0m, in \u001b[0;36mallow_rasterization.<locals>.draw_wrapper\u001b[0;34m(artist, renderer)\u001b[0m\n\u001b[1;32m     69\u001b[0m     \u001b[39mif\u001b[39;00m artist\u001b[39m.\u001b[39mget_agg_filter() \u001b[39mis\u001b[39;00m \u001b[39mnot\u001b[39;00m \u001b[39mNone\u001b[39;00m:\n\u001b[1;32m     70\u001b[0m         renderer\u001b[39m.\u001b[39mstart_filter()\n\u001b[0;32m---> 72\u001b[0m     \u001b[39mreturn\u001b[39;00m draw(artist, renderer)\n\u001b[1;32m     73\u001b[0m \u001b[39mfinally\u001b[39;00m:\n\u001b[1;32m     74\u001b[0m     \u001b[39mif\u001b[39;00m artist\u001b[39m.\u001b[39mget_agg_filter() \u001b[39mis\u001b[39;00m \u001b[39mnot\u001b[39;00m \u001b[39mNone\u001b[39;00m:\n",
      "File \u001b[0;32m~/miniforge3/envs/ds-kickstarter/lib/python3.11/site-packages/matplotlib/collections.py:972\u001b[0m, in \u001b[0;36m_CollectionWithSizes.draw\u001b[0;34m(self, renderer)\u001b[0m\n\u001b[1;32m    969\u001b[0m \u001b[39m@artist\u001b[39m\u001b[39m.\u001b[39mallow_rasterization\n\u001b[1;32m    970\u001b[0m \u001b[39mdef\u001b[39;00m \u001b[39mdraw\u001b[39m(\u001b[39mself\u001b[39m, renderer):\n\u001b[1;32m    971\u001b[0m     \u001b[39mself\u001b[39m\u001b[39m.\u001b[39mset_sizes(\u001b[39mself\u001b[39m\u001b[39m.\u001b[39m_sizes, \u001b[39mself\u001b[39m\u001b[39m.\u001b[39mfigure\u001b[39m.\u001b[39mdpi)\n\u001b[0;32m--> 972\u001b[0m     \u001b[39msuper\u001b[39m()\u001b[39m.\u001b[39mdraw(renderer)\n",
      "File \u001b[0;32m~/miniforge3/envs/ds-kickstarter/lib/python3.11/site-packages/matplotlib/artist.py:72\u001b[0m, in \u001b[0;36mallow_rasterization.<locals>.draw_wrapper\u001b[0;34m(artist, renderer)\u001b[0m\n\u001b[1;32m     69\u001b[0m     \u001b[39mif\u001b[39;00m artist\u001b[39m.\u001b[39mget_agg_filter() \u001b[39mis\u001b[39;00m \u001b[39mnot\u001b[39;00m \u001b[39mNone\u001b[39;00m:\n\u001b[1;32m     70\u001b[0m         renderer\u001b[39m.\u001b[39mstart_filter()\n\u001b[0;32m---> 72\u001b[0m     \u001b[39mreturn\u001b[39;00m draw(artist, renderer)\n\u001b[1;32m     73\u001b[0m \u001b[39mfinally\u001b[39;00m:\n\u001b[1;32m     74\u001b[0m     \u001b[39mif\u001b[39;00m artist\u001b[39m.\u001b[39mget_agg_filter() \u001b[39mis\u001b[39;00m \u001b[39mnot\u001b[39;00m \u001b[39mNone\u001b[39;00m:\n",
      "File \u001b[0;32m~/miniforge3/envs/ds-kickstarter/lib/python3.11/site-packages/matplotlib/collections.py:409\u001b[0m, in \u001b[0;36mCollection.draw\u001b[0;34m(self, renderer)\u001b[0m\n\u001b[1;32m    405\u001b[0m     renderer\u001b[39m.\u001b[39mdraw_markers(\n\u001b[1;32m    406\u001b[0m         gc, paths[\u001b[39m0\u001b[39m], combined_transform\u001b[39m.\u001b[39mfrozen(),\n\u001b[1;32m    407\u001b[0m         mpath\u001b[39m.\u001b[39mPath(offsets), offset_trf, \u001b[39mtuple\u001b[39m(facecolors[\u001b[39m0\u001b[39m]))\n\u001b[1;32m    408\u001b[0m \u001b[39melse\u001b[39;00m:\n\u001b[0;32m--> 409\u001b[0m     renderer\u001b[39m.\u001b[39mdraw_path_collection(\n\u001b[1;32m    410\u001b[0m         gc, transform\u001b[39m.\u001b[39mfrozen(), paths,\n\u001b[1;32m    411\u001b[0m         \u001b[39mself\u001b[39m\u001b[39m.\u001b[39mget_transforms(), offsets, offset_trf,\n\u001b[1;32m    412\u001b[0m         \u001b[39mself\u001b[39m\u001b[39m.\u001b[39mget_facecolor(), \u001b[39mself\u001b[39m\u001b[39m.\u001b[39mget_edgecolor(),\n\u001b[1;32m    413\u001b[0m         \u001b[39mself\u001b[39m\u001b[39m.\u001b[39m_linewidths, \u001b[39mself\u001b[39m\u001b[39m.\u001b[39m_linestyles,\n\u001b[1;32m    414\u001b[0m         \u001b[39mself\u001b[39m\u001b[39m.\u001b[39m_antialiaseds, \u001b[39mself\u001b[39m\u001b[39m.\u001b[39m_urls,\n\u001b[1;32m    415\u001b[0m         \u001b[39m\"\u001b[39m\u001b[39mscreen\u001b[39m\u001b[39m\"\u001b[39m)  \u001b[39m# offset_position, kept for backcompat.\u001b[39;00m\n\u001b[1;32m    417\u001b[0m gc\u001b[39m.\u001b[39mrestore()\n\u001b[1;32m    418\u001b[0m renderer\u001b[39m.\u001b[39mclose_group(\u001b[39mself\u001b[39m\u001b[39m.\u001b[39m\u001b[39m__class__\u001b[39m\u001b[39m.\u001b[39m\u001b[39m__name__\u001b[39m)\n",
      "File \u001b[0;32m~/miniforge3/envs/ds-kickstarter/lib/python3.11/site-packages/matplotlib/path.py:211\u001b[0m, in \u001b[0;36mPath.vertices\u001b[0;34m(self)\u001b[0m\n\u001b[1;32m    203\u001b[0m     \u001b[39mself\u001b[39m\u001b[39m.\u001b[39m_simplify_threshold \u001b[39m=\u001b[39m mpl\u001b[39m.\u001b[39mrcParams[\u001b[39m'\u001b[39m\u001b[39mpath.simplify_threshold\u001b[39m\u001b[39m'\u001b[39m]\n\u001b[1;32m    204\u001b[0m     \u001b[39mself\u001b[39m\u001b[39m.\u001b[39m_should_simplify \u001b[39m=\u001b[39m (\n\u001b[1;32m    205\u001b[0m         \u001b[39mself\u001b[39m\u001b[39m.\u001b[39m_simplify_threshold \u001b[39m>\u001b[39m \u001b[39m0\u001b[39m \u001b[39mand\u001b[39;00m\n\u001b[1;32m    206\u001b[0m         mpl\u001b[39m.\u001b[39mrcParams[\u001b[39m'\u001b[39m\u001b[39mpath.simplify\u001b[39m\u001b[39m'\u001b[39m] \u001b[39mand\u001b[39;00m\n\u001b[1;32m    207\u001b[0m         \u001b[39mlen\u001b[39m(\u001b[39mself\u001b[39m\u001b[39m.\u001b[39m_vertices) \u001b[39m>\u001b[39m\u001b[39m=\u001b[39m \u001b[39m128\u001b[39m \u001b[39mand\u001b[39;00m\n\u001b[1;32m    208\u001b[0m         (\u001b[39mself\u001b[39m\u001b[39m.\u001b[39m_codes \u001b[39mis\u001b[39;00m \u001b[39mNone\u001b[39;00m \u001b[39mor\u001b[39;00m np\u001b[39m.\u001b[39mall(\u001b[39mself\u001b[39m\u001b[39m.\u001b[39m_codes \u001b[39m<\u001b[39m\u001b[39m=\u001b[39m Path\u001b[39m.\u001b[39mLINETO))\n\u001b[1;32m    209\u001b[0m     )\n\u001b[0;32m--> 211\u001b[0m \u001b[39m@property\u001b[39m\n\u001b[1;32m    212\u001b[0m \u001b[39mdef\u001b[39;00m \u001b[39mvertices\u001b[39m(\u001b[39mself\u001b[39m):\n\u001b[1;32m    213\u001b[0m \u001b[39m    \u001b[39m\u001b[39m\"\"\"\u001b[39;00m\n\u001b[1;32m    214\u001b[0m \u001b[39m    The list of vertices in the `Path` as an Nx2 numpy array.\u001b[39;00m\n\u001b[1;32m    215\u001b[0m \u001b[39m    \"\"\"\u001b[39;00m\n\u001b[1;32m    216\u001b[0m     \u001b[39mreturn\u001b[39;00m \u001b[39mself\u001b[39m\u001b[39m.\u001b[39m_vertices\n",
      "\u001b[0;31mKeyboardInterrupt\u001b[0m: "
     ]
    }
   ],
   "source": [
    "sns.pairplot(data=kickstarter, vars=['Goal', 'Pledged', 'Backers'], hue='State')"
   ]
  },
  {
   "cell_type": "markdown",
   "metadata": {},
   "source": [
    "#### Columns:\n",
    "\n",
    "- 'ID':             ID\n",
    "- 'Name':           Name\n",
    "- 'Category':       Category\n",
    "- 'Subcategory':    Subcategory\n",
    "- 'Country':        Country of product origin\n",
    "- 'Launched':       Date the project was launched\n",
    "- 'Deadline':       Deadline for crowdfunding\n",
    "- 'Goal':           Amount of money the creater needs to complete the project (USD)\n",
    "- 'Pledged':        Amount of money pledged to by the crowd (USD)\n",
    "- 'Backers':        Number of backers\n",
    "- 'State':          Current condition the project is in (as of 2018-01-02) ('Failed', 'Successful', 'Canceled', 'Suspended', 'Live')"
   ]
  },
  {
   "cell_type": "code",
   "execution_count": 32,
   "metadata": {},
   "outputs": [
    {
     "data": {
      "text/plain": [
       "<Axes: xlabel='Goal'>"
      ]
     },
     "execution_count": 46,
     "metadata": {},
     "output_type": "execute_result"
    },
    {
     "data": {
      "image/png": "[encoded data removed]",
      "text/plain": [
       "<Figure size 640x480 with 1 Axes>"
      ]
     },
     "metadata": {},
     "output_type": "display_data"
    }
   ],
   "source": [
    "sns.boxplot(data=kickstarter, x='Goal')"
   ]
  },
  {
   "cell_type": "code",
   "execution_count": 33,
   "metadata": {},
   "outputs": [
    {
     "data": {
      "text/html": [
       "<div>\n",
       "<style scoped>\n",
       "    .dataframe tbody tr th:only-of-type {\n",
       "        vertical-align: middle;\n",
       "    }\n",
       "\n",
       "    .dataframe tbody tr th {\n",
       "        vertical-align: top;\n",
       "    }\n",
       "\n",
       "    .dataframe thead th {\n",
       "        text-align: right;\n",
       "    }\n",
       "</style>\n",
       "<table border=\"1\" class=\"dataframe\">\n",
       "  <thead>\n",
       "    <tr style=\"text-align: right;\">\n",
       "      <th></th>\n",
       "      <th>ID</th>\n",
       "      <th>Name</th>\n",
       "      <th>Category</th>\n",
       "      <th>Subcategory</th>\n",
       "      <th>Country</th>\n",
       "      <th>Launched</th>\n",
       "      <th>Deadline</th>\n",
       "      <th>Goal</th>\n",
       "      <th>Pledged</th>\n",
       "      <th>Backers</th>\n",
       "      <th>State</th>\n",
       "    </tr>\n",
       "  </thead>\n",
       "  <tbody>\n",
       "    <tr>\n",
       "      <th>68784</th>\n",
       "      <td>458565935</td>\n",
       "      <td>Project Eternity</td>\n",
       "      <td>Games</td>\n",
       "      <td>Video Games</td>\n",
       "      <td>United States</td>\n",
       "      <td>2012-09-14 19:01:04</td>\n",
       "      <td>2012-10-17</td>\n",
       "      <td>1100000</td>\n",
       "      <td>3986929</td>\n",
       "      <td>73986</td>\n",
       "      <td>Successful</td>\n",
       "    </tr>\n",
       "    <tr>\n",
       "      <th>74269</th>\n",
       "      <td>880009511</td>\n",
       "      <td>Elite: Dangerous</td>\n",
       "      <td>Games</td>\n",
       "      <td>Video Games</td>\n",
       "      <td>United Kingdom</td>\n",
       "      <td>2012-11-06 01:00:57</td>\n",
       "      <td>2013-01-05</td>\n",
       "      <td>2015609</td>\n",
       "      <td>2545014</td>\n",
       "      <td>25681</td>\n",
       "      <td>Successful</td>\n",
       "    </tr>\n",
       "    <tr>\n",
       "      <th>87484</th>\n",
       "      <td>1755266685</td>\n",
       "      <td>The Veronica Mars Movie Project</td>\n",
       "      <td>Film &amp; Video</td>\n",
       "      <td>Narrative Film</td>\n",
       "      <td>United States</td>\n",
       "      <td>2013-03-13 15:42:22</td>\n",
       "      <td>2013-04-13</td>\n",
       "      <td>2000000</td>\n",
       "      <td>5702153</td>\n",
       "      <td>91585</td>\n",
       "      <td>Successful</td>\n",
       "    </tr>\n",
       "    <tr>\n",
       "      <th>90001</th>\n",
       "      <td>1682353635</td>\n",
       "      <td>Camelot Unchained</td>\n",
       "      <td>Games</td>\n",
       "      <td>Video Games</td>\n",
       "      <td>United States</td>\n",
       "      <td>2013-04-02 17:56:11</td>\n",
       "      <td>2013-05-02</td>\n",
       "      <td>2000000</td>\n",
       "      <td>2232933</td>\n",
       "      <td>14873</td>\n",
       "      <td>Successful</td>\n",
       "    </tr>\n",
       "    <tr>\n",
       "      <th>92941</th>\n",
       "      <td>1871494789</td>\n",
       "      <td>WISH I WAS HERE</td>\n",
       "      <td>Film &amp; Video</td>\n",
       "      <td>Narrative Film</td>\n",
       "      <td>United States</td>\n",
       "      <td>2013-04-24 11:57:04</td>\n",
       "      <td>2013-05-24</td>\n",
       "      <td>2000000</td>\n",
       "      <td>3105473</td>\n",
       "      <td>46520</td>\n",
       "      <td>Successful</td>\n",
       "    </tr>\n",
       "    <tr>\n",
       "      <th>104397</th>\n",
       "      <td>1567218706</td>\n",
       "      <td>The Newest Hottest Spike Lee Joint</td>\n",
       "      <td>Film &amp; Video</td>\n",
       "      <td>Narrative Film</td>\n",
       "      <td>United States</td>\n",
       "      <td>2013-07-22 18:15:41</td>\n",
       "      <td>2013-08-21</td>\n",
       "      <td>1250000</td>\n",
       "      <td>1418910</td>\n",
       "      <td>6421</td>\n",
       "      <td>Successful</td>\n",
       "    </tr>\n",
       "    <tr>\n",
       "      <th>115172</th>\n",
       "      <td>1719494931</td>\n",
       "      <td>Obduction</td>\n",
       "      <td>Games</td>\n",
       "      <td>Video Games</td>\n",
       "      <td>United States</td>\n",
       "      <td>2013-10-17 15:06:31</td>\n",
       "      <td>2013-11-16</td>\n",
       "      <td>1100000</td>\n",
       "      <td>1321306</td>\n",
       "      <td>22195</td>\n",
       "      <td>Successful</td>\n",
       "    </tr>\n",
       "    <tr>\n",
       "      <th>138030</th>\n",
       "      <td>721748605</td>\n",
       "      <td>Blue Mountain State: The Movie</td>\n",
       "      <td>Film &amp; Video</td>\n",
       "      <td>Narrative Film</td>\n",
       "      <td>United States</td>\n",
       "      <td>2014-04-15 14:43:13</td>\n",
       "      <td>2014-05-15</td>\n",
       "      <td>1500000</td>\n",
       "      <td>1911827</td>\n",
       "      <td>23999</td>\n",
       "      <td>Successful</td>\n",
       "    </tr>\n",
       "    <tr>\n",
       "      <th>227382</th>\n",
       "      <td>788486889</td>\n",
       "      <td>The Bards Tale IV</td>\n",
       "      <td>Games</td>\n",
       "      <td>Video Games</td>\n",
       "      <td>United States</td>\n",
       "      <td>2015-06-02 14:57:26</td>\n",
       "      <td>2015-07-11</td>\n",
       "      <td>1250000</td>\n",
       "      <td>1519681</td>\n",
       "      <td>33741</td>\n",
       "      <td>Successful</td>\n",
       "    </tr>\n",
       "    <tr>\n",
       "      <th>230354</th>\n",
       "      <td>947809001</td>\n",
       "      <td>Shenmue 3</td>\n",
       "      <td>Games</td>\n",
       "      <td>Video Games</td>\n",
       "      <td>United States</td>\n",
       "      <td>2015-06-16 03:51:04</td>\n",
       "      <td>2015-07-18</td>\n",
       "      <td>2000000</td>\n",
       "      <td>6333296</td>\n",
       "      <td>69320</td>\n",
       "      <td>Successful</td>\n",
       "    </tr>\n",
       "    <tr>\n",
       "      <th>258383</th>\n",
       "      <td>1454565733</td>\n",
       "      <td>Bring Back MYSTERY SCIENCE THEATER 3000</td>\n",
       "      <td>Film &amp; Video</td>\n",
       "      <td>Television</td>\n",
       "      <td>United States</td>\n",
       "      <td>2015-11-10 16:49:32</td>\n",
       "      <td>2015-12-12</td>\n",
       "      <td>2000000</td>\n",
       "      <td>5764229</td>\n",
       "      <td>48270</td>\n",
       "      <td>Successful</td>\n",
       "    </tr>\n",
       "  </tbody>\n",
       "</table>\n",
       "</div>"
      ],
      "text/plain": [
       "                ID                                     Name      Category  \\\n",
       "68784    458565935                         Project Eternity         Games   \n",
       "74269    880009511                         Elite: Dangerous         Games   \n",
       "87484   1755266685          The Veronica Mars Movie Project  Film & Video   \n",
       "90001   1682353635                        Camelot Unchained         Games   \n",
       "92941   1871494789                          WISH I WAS HERE  Film & Video   \n",
       "104397  1567218706       The Newest Hottest Spike Lee Joint  Film & Video   \n",
       "115172  1719494931                                Obduction         Games   \n",
       "138030   721748605           Blue Mountain State: The Movie  Film & Video   \n",
       "227382   788486889                        The Bards Tale IV         Games   \n",
       "230354   947809001                                Shenmue 3         Games   \n",
       "258383  1454565733  Bring Back MYSTERY SCIENCE THEATER 3000  Film & Video   \n",
       "\n",
       "           Subcategory         Country             Launched    Deadline  \\\n",
       "68784      Video Games   United States  2012-09-14 19:01:04  2012-10-17   \n",
       "74269      Video Games  United Kingdom  2012-11-06 01:00:57  2013-01-05   \n",
       "87484   Narrative Film   United States  2013-03-13 15:42:22  2013-04-13   \n",
       "90001      Video Games   United States  2013-04-02 17:56:11  2013-05-02   \n",
       "92941   Narrative Film   United States  2013-04-24 11:57:04  2013-05-24   \n",
       "104397  Narrative Film   United States  2013-07-22 18:15:41  2013-08-21   \n",
       "115172     Video Games   United States  2013-10-17 15:06:31  2013-11-16   \n",
       "138030  Narrative Film   United States  2014-04-15 14:43:13  2014-05-15   \n",
       "227382     Video Games   United States  2015-06-02 14:57:26  2015-07-11   \n",
       "230354     Video Games   United States  2015-06-16 03:51:04  2015-07-18   \n",
       "258383      Television   United States  2015-11-10 16:49:32  2015-12-12   \n",
       "\n",
       "           Goal  Pledged  Backers       State  \n",
       "68784   1100000  3986929    73986  Successful  \n",
       "74269   2015609  2545014    25681  Successful  \n",
       "87484   2000000  5702153    91585  Successful  \n",
       "90001   2000000  2232933    14873  Successful  \n",
       "92941   2000000  3105473    46520  Successful  \n",
       "104397  1250000  1418910     6421  Successful  \n",
       "115172  1100000  1321306    22195  Successful  \n",
       "138030  1500000  1911827    23999  Successful  \n",
       "227382  1250000  1519681    33741  Successful  \n",
       "230354  2000000  6333296    69320  Successful  \n",
       "258383  2000000  5764229    48270  Successful  "
      ]
     },
     "execution_count": 33,
     "metadata": {},
     "output_type": "execute_result"
    }
   ],
   "source": [
    "kickstarter.query(\"State == 'Successful' and Goal > 1000000\")"
   ]
  },
  {
   "cell_type": "code",
   "execution_count": 34,
   "metadata": {},
   "outputs": [
    {
     "data": {
      "text/html": [
       "<div>\n",
       "<style scoped>\n",
       "    .dataframe tbody tr th:only-of-type {\n",
       "        vertical-align: middle;\n",
       "    }\n",
       "\n",
       "    .dataframe tbody tr th {\n",
       "        vertical-align: top;\n",
       "    }\n",
       "\n",
       "    .dataframe thead th {\n",
       "        text-align: right;\n",
       "    }\n",
       "</style>\n",
       "<table border=\"1\" class=\"dataframe\">\n",
       "  <thead>\n",
       "    <tr style=\"text-align: right;\">\n",
       "      <th></th>\n",
       "      <th>ID</th>\n",
       "      <th>Name</th>\n",
       "      <th>Category</th>\n",
       "      <th>Subcategory</th>\n",
       "      <th>Country</th>\n",
       "      <th>Launched</th>\n",
       "      <th>Deadline</th>\n",
       "      <th>Goal</th>\n",
       "      <th>Pledged</th>\n",
       "      <th>Backers</th>\n",
       "      <th>State</th>\n",
       "    </tr>\n",
       "  </thead>\n",
       "  <tbody>\n",
       "    <tr>\n",
       "      <th>5324</th>\n",
       "      <td>1757240656</td>\n",
       "      <td>Help erase the national debt of the USA</td>\n",
       "      <td>Journalism</td>\n",
       "      <td>Journalism</td>\n",
       "      <td>United States</td>\n",
       "      <td>2010-07-09 03:48:06</td>\n",
       "      <td>2010-10-03</td>\n",
       "      <td>21474836</td>\n",
       "      <td>181</td>\n",
       "      <td>8</td>\n",
       "      <td>Failed</td>\n",
       "    </tr>\n",
       "    <tr>\n",
       "      <th>6019</th>\n",
       "      <td>577025692</td>\n",
       "      <td>Legend of The Stolen Guitar</td>\n",
       "      <td>Film &amp; Video</td>\n",
       "      <td>Film &amp; Video</td>\n",
       "      <td>United States</td>\n",
       "      <td>2010-07-29 22:33:00</td>\n",
       "      <td>2010-10-21</td>\n",
       "      <td>21474836</td>\n",
       "      <td>0</td>\n",
       "      <td>0</td>\n",
       "      <td>Failed</td>\n",
       "    </tr>\n",
       "    <tr>\n",
       "      <th>7216</th>\n",
       "      <td>974997366</td>\n",
       "      <td>TRONICA EVOLUTION. Blogger. Superhero. Mother.</td>\n",
       "      <td>Film &amp; Video</td>\n",
       "      <td>Film &amp; Video</td>\n",
       "      <td>United States</td>\n",
       "      <td>2010-09-06 07:12:12</td>\n",
       "      <td>2010-12-05</td>\n",
       "      <td>20000000</td>\n",
       "      <td>0</td>\n",
       "      <td>0</td>\n",
       "      <td>Failed</td>\n",
       "    </tr>\n",
       "    <tr>\n",
       "      <th>14157</th>\n",
       "      <td>259750842</td>\n",
       "      <td>JUST LIKE MARILYN: THE HOLLYWOOD HITS</td>\n",
       "      <td>Film &amp; Video</td>\n",
       "      <td>Film &amp; Video</td>\n",
       "      <td>United States</td>\n",
       "      <td>2011-02-11 09:14:48</td>\n",
       "      <td>2011-05-13</td>\n",
       "      <td>7994642</td>\n",
       "      <td>0</td>\n",
       "      <td>0</td>\n",
       "      <td>Failed</td>\n",
       "    </tr>\n",
       "    <tr>\n",
       "      <th>17274</th>\n",
       "      <td>1885130931</td>\n",
       "      <td>Help a Regular Fan Buy the New York Mets (Canc...</td>\n",
       "      <td>Games</td>\n",
       "      <td>Games</td>\n",
       "      <td>United States</td>\n",
       "      <td>2011-04-01 00:54:32</td>\n",
       "      <td>2011-06-30</td>\n",
       "      <td>21474836</td>\n",
       "      <td>3</td>\n",
       "      <td>1</td>\n",
       "      <td>Canceled</td>\n",
       "    </tr>\n",
       "    <tr>\n",
       "      <th>...</th>\n",
       "      <td>...</td>\n",
       "      <td>...</td>\n",
       "      <td>...</td>\n",
       "      <td>...</td>\n",
       "      <td>...</td>\n",
       "      <td>...</td>\n",
       "      <td>...</td>\n",
       "      <td>...</td>\n",
       "      <td>...</td>\n",
       "      <td>...</td>\n",
       "      <td>...</td>\n",
       "    </tr>\n",
       "    <tr>\n",
       "      <th>360946</th>\n",
       "      <td>1078377092</td>\n",
       "      <td>0XYZ</td>\n",
       "      <td>Journalism</td>\n",
       "      <td>Video</td>\n",
       "      <td>United States</td>\n",
       "      <td>2017-09-18 19:17:53</td>\n",
       "      <td>2017-11-17</td>\n",
       "      <td>10000000</td>\n",
       "      <td>10</td>\n",
       "      <td>1</td>\n",
       "      <td>Failed</td>\n",
       "    </tr>\n",
       "    <tr>\n",
       "      <th>362508</th>\n",
       "      <td>1990248041</td>\n",
       "      <td>Save the Malibu Playhouse</td>\n",
       "      <td>Theater</td>\n",
       "      <td>Spaces</td>\n",
       "      <td>United States</td>\n",
       "      <td>2017-09-29 19:40:17</td>\n",
       "      <td>2017-11-13</td>\n",
       "      <td>5500000</td>\n",
       "      <td>100</td>\n",
       "      <td>1</td>\n",
       "      <td>Failed</td>\n",
       "    </tr>\n",
       "    <tr>\n",
       "      <th>369259</th>\n",
       "      <td>868627611</td>\n",
       "      <td>Fatal Retribution</td>\n",
       "      <td>Film &amp; Video</td>\n",
       "      <td>Thrillers</td>\n",
       "      <td>United Kingdom</td>\n",
       "      <td>2017-11-13 01:22:59</td>\n",
       "      <td>2018-01-01</td>\n",
       "      <td>8808543</td>\n",
       "      <td>27</td>\n",
       "      <td>2</td>\n",
       "      <td>Failed</td>\n",
       "    </tr>\n",
       "    <tr>\n",
       "      <th>371164</th>\n",
       "      <td>1321011533</td>\n",
       "      <td>Mirror</td>\n",
       "      <td>Film &amp; Video</td>\n",
       "      <td>Thrillers</td>\n",
       "      <td>United States</td>\n",
       "      <td>2017-11-24 19:46:19</td>\n",
       "      <td>2018-01-03</td>\n",
       "      <td>99000000</td>\n",
       "      <td>0</td>\n",
       "      <td>0</td>\n",
       "      <td>Live</td>\n",
       "    </tr>\n",
       "    <tr>\n",
       "      <th>373138</th>\n",
       "      <td>1462911558</td>\n",
       "      <td>#AirMyGlobalWarmingAd</td>\n",
       "      <td>Film &amp; Video</td>\n",
       "      <td>Television</td>\n",
       "      <td>United States</td>\n",
       "      <td>2017-12-11 08:44:51</td>\n",
       "      <td>2017-12-23</td>\n",
       "      <td>5500000</td>\n",
       "      <td>53794</td>\n",
       "      <td>823</td>\n",
       "      <td>Failed</td>\n",
       "    </tr>\n",
       "  </tbody>\n",
       "</table>\n",
       "<p>266 rows × 11 columns</p>\n",
       "</div>"
      ],
      "text/plain": [
       "                ID                                               Name  \\\n",
       "5324    1757240656            Help erase the national debt of the USA   \n",
       "6019     577025692                        Legend of The Stolen Guitar   \n",
       "7216     974997366     TRONICA EVOLUTION. Blogger. Superhero. Mother.   \n",
       "14157    259750842              JUST LIKE MARILYN: THE HOLLYWOOD HITS   \n",
       "17274   1885130931  Help a Regular Fan Buy the New York Mets (Canc...   \n",
       "...            ...                                                ...   \n",
       "360946  1078377092                                               0XYZ   \n",
       "362508  1990248041                          Save the Malibu Playhouse   \n",
       "369259   868627611                                  Fatal Retribution   \n",
       "371164  1321011533                                             Mirror   \n",
       "373138  1462911558                              #AirMyGlobalWarmingAd   \n",
       "\n",
       "            Category   Subcategory         Country             Launched  \\\n",
       "5324      Journalism    Journalism   United States  2010-07-09 03:48:06   \n",
       "6019    Film & Video  Film & Video   United States  2010-07-29 22:33:00   \n",
       "7216    Film & Video  Film & Video   United States  2010-09-06 07:12:12   \n",
       "14157   Film & Video  Film & Video   United States  2011-02-11 09:14:48   \n",
       "17274          Games         Games   United States  2011-04-01 00:54:32   \n",
       "...              ...           ...             ...                  ...   \n",
       "360946    Journalism         Video   United States  2017-09-18 19:17:53   \n",
       "362508       Theater        Spaces   United States  2017-09-29 19:40:17   \n",
       "369259  Film & Video     Thrillers  United Kingdom  2017-11-13 01:22:59   \n",
       "371164  Film & Video     Thrillers   United States  2017-11-24 19:46:19   \n",
       "373138  Film & Video    Television   United States  2017-12-11 08:44:51   \n",
       "\n",
       "          Deadline      Goal  Pledged  Backers     State  \n",
       "5324    2010-10-03  21474836      181        8    Failed  \n",
       "6019    2010-10-21  21474836        0        0    Failed  \n",
       "7216    2010-12-05  20000000        0        0    Failed  \n",
       "14157   2011-05-13   7994642        0        0    Failed  \n",
       "17274   2011-06-30  21474836        3        1  Canceled  \n",
       "...            ...       ...      ...      ...       ...  \n",
       "360946  2017-11-17  10000000       10        1    Failed  \n",
       "362508  2017-11-13   5500000      100        1    Failed  \n",
       "369259  2018-01-01   8808543       27        2    Failed  \n",
       "371164  2018-01-03  99000000        0        0      Live  \n",
       "373138  2017-12-23   5500000    53794      823    Failed  \n",
       "\n",
       "[266 rows x 11 columns]"
      ]
     },
     "execution_count": 34,
     "metadata": {},
     "output_type": "execute_result"
    }
   ],
   "source": [
    "kickstarter.query(\"State != 'Successful' and Goal > 5_000_000\")"
   ]
  },
  {
   "cell_type": "code",
   "execution_count": null,
   "metadata": {},
   "outputs": [
    {
     "data": {
      "image/png": "[encoded data removed]",
      "text/plain": [
       "<Figure size 1600x800 with 1 Axes>"
      ]
     },
     "metadata": {},
     "output_type": "display_data"
    }
   ],
   "source": [
    "backers_by_category = kickstarter.groupby('Category')['Backers'].sum().reset_index()\n",
    "fig = plt.figure(figsize=(16, 8))\n",
    "backers_by_category = kickstarter.groupby('Category')['Backers'].sum().reset_index()\n",
    "\n",
    "# Create a bar plot using Seaborn\n",
    "sns.barplot(x='Category', y='Backers', data=backers_by_category)\n",
    "\n",
    "# Set the title and axis labels\n",
    "plt.title('Total Number of Backers by Category')\n",
    "plt.xlabel('Category')\n",
    "plt.ylabel('Number of Backers')\n",
    "\n",
    "# Format y-axis ticks to show the actual number of backers\n",
    "def format_ticks(value, tick_number):\n",
    "    return f'{int(value):,}'\n",
    "\n",
    "plt.gca().yaxis.set_major_formatter(FuncFormatter(format_ticks))\n",
    "\n",
    "# Add total number of backers on top of each bar\n",
    "for index, row in backers_by_category.iterrows():\n",
    "    plt.annotate(f'{int(row[\"Backers\"]):,}', xy=(index, row['Backers']), ha='center', va='bottom')\n",
    "\n",
    "# Show the plot\n",
    "plt.show()\n",
    "plt.show()"
   ]
  },
  {
   "cell_type": "code",
   "execution_count": null,
   "metadata": {},
   "outputs": [
    {
     "data": {
      "text/plain": [
       "ID             0\n",
       "Name           0\n",
       "Category       0\n",
       "Subcategory    0\n",
       "Country        0\n",
       "Launched       0\n",
       "Deadline       0\n",
       "Goal           0\n",
       "Pledged        0\n",
       "Backers        0\n",
       "State          0\n",
       "dtype: int64"
      ]
     },
     "execution_count": 67,
     "metadata": {},
     "output_type": "execute_result"
    }
   ],
   "source": [
    "kickstarter.isnull().sum()"
   ]
  },
  {
   "cell_type": "code",
   "execution_count": null,
   "metadata": {},
   "outputs": [],
   "source": [
    "country_counts = kickstarter.groupby('Country')['Category'].count().reset_index()\n",
    "\n",
    "# Load a world map GeoDataFrame\n",
    "world_map = gpd.read_file(gpd.datasets.get_path('naturalearth_lowres'))\n",
    "\n",
    "# Merge the project counts with the world map GeoDataFrame\n",
    "merged_data = world_map.merge(country_counts, how='left', left_on='name', right_on='Country')\n",
    "\n",
    "# Create a choropleth map with Plotly\n",
    "fig = px.choropleth(merged_data, \n",
    "                    locations='iso_a3', \n",
    "                    color='Category', \n",
    "                    hover_name='name',\n",
    "                    title='Number of Projects by Country')\n",
    "\n",
    "# Show the plot\n",
    "fig.show()"
   ]
  },
  {
   "cell_type": "code",
   "execution_count": null,
   "metadata": {},
   "outputs": [
    {
     "data": {
      "image/png": "[encoded data removed]",
      "text/plain": [
       "<Figure size 900x900 with 1 Axes>"
      ]
     },
     "metadata": {},
     "output_type": "display_data"
    }
   ],
   "source": [
    "plt.figure(figsize=(9, 9))\n",
    "sns.countplot(kickstarter, y='Category', hue='State')\n",
    "plt.xscale('log')"
   ]
  },
  {
   "cell_type": "code",
   "execution_count": null,
   "metadata": {},
   "outputs": [],
   "source": [
    "fail_or_success = kickstarter.query(\"State == 'Successful' or State == 'Failed'\")"
   ]
  },
  {
   "cell_type": "code",
   "execution_count": null,
   "metadata": {},
   "outputs": [
    {
     "data": {
      "text/plain": [
       "<Axes: xlabel='count', ylabel='Category'>"
      ]
     },
     "execution_count": 86,
     "metadata": {},
     "output_type": "execute_result"
    },
    {
     "data": {
      "image/png": "[encoded data removed]",
      "text/plain": [
       "<Figure size 900x900 with 1 Axes>"
      ]
     },
     "metadata": {},
     "output_type": "display_data"
    }
   ],
   "source": [
    "plt.figure(figsize=(9, 9))\n",
    "sns.countplot(fail_or_success, y='Category', hue='State')"
   ]
  },
  {
   "cell_type": "code",
   "execution_count": null,
   "metadata": {},
   "outputs": [
    {
     "data": {
      "text/plain": [
       "<Axes: xlabel='count', ylabel='Category'>"
      ]
     },
     "execution_count": 94,
     "metadata": {},
     "output_type": "execute_result"
    },
    {
     "data": {
      "image/png": "[encoded data removed]",
      "text/plain": [
       "<Figure size 640x480 with 1 Axes>"
      ]
     },
     "metadata": {},
     "output_type": "display_data"
    }
   ],
   "source": [
    "sns.countplot(kickstarter, y='Category')"
   ]
  },
  {
   "cell_type": "code",
   "execution_count": null,
   "metadata": {},
   "outputs": [
    {
     "data": {
      "application/vnd.plotly.v1+json": {
       "config": {
        "plotlyServerURL": "https://plot.ly"
       },
       "data": [
        {
         "coloraxis": "coloraxis",
         "geo": "geo",
         "hovertemplate": "<b>%{hovertext}</b><br><br>Country=%{location}<br>Project Count=%{z}<extra></extra>",
         "hovertext": [
          "United States",
          "United Kingdom",
          "Canada",
          "Australia",
          "Germany",
          "France",
          "Italy",
          "Netherlands ",
          "Spain",
          "Sweden",
          "Mexico",
          "New Zealand",
          "Denmark",
          "Ireland",
          "Switzerland",
          "Norway",
          "Hong Kong",
          "Belgium",
          "Austria",
          "Singapore",
          "Luxembourg",
          "Japan"
         ],
         "locationmode": "country names",
         "locations": [
          "United States",
          "United Kingdom",
          "Canada",
          "Australia",
          "Germany",
          "France",
          "Italy",
          "Netherlands ",
          "Spain",
          "Sweden",
          "Mexico",
          "New Zealand",
          "Denmark",
          "Ireland",
          "Switzerland",
          "Norway",
          "Hong Kong",
          "Belgium",
          "Austria",
          "Singapore",
          "Luxembourg",
          "Japan"
         ],
         "name": "",
         "type": "choropleth",
         "z": [
          292618,
          33671,
          14756,
          7839,
          4171,
          2939,
          2878,
          2868,
          2276,
          1757,
          1752,
          1447,
          1113,
          811,
          760,
          708,
          618,
          617,
          597,
          555,
          62,
          40
         ]
        }
       ],
       "layout": {
        "coloraxis": {
         "colorbar": {
          "title": {
           "text": "Project Count"
          }
         },
         "colorscale": [
          [
           0,
           "#0d0887"
          ],
          [
           0.1111111111111111,
           "#46039f"
          ],
          [
           0.2222222222222222,
           "#7201a8"
          ],
          [
           0.3333333333333333,
           "#9c179e"
          ],
          [
           0.4444444444444444,
           "#bd3786"
          ],
          [
           0.5555555555555556,
           "#d8576b"
          ],
          [
           0.6666666666666666,
           "#ed7953"
          ],
          [
           0.7777777777777778,
           "#fb9f3a"
          ],
          [
           0.8888888888888888,
           "#fdca26"
          ],
          [
           1,
           "#f0f921"
          ]
         ]
        },
        "geo": {
         "center": {},
         "coastlinecolor": "Black",
         "domain": {
          "x": [
           0,
           1
          ],
          "y": [
           0,
           1
          ]
         },
         "landcolor": "lightgrey",
         "projection": {
          "scale": 1
         },
         "showcoastlines": true,
         "showland": true
        },
        "legend": {
         "tracegroupgap": 0
        },
        "template": {
         "data": {
          "bar": [
           {
            "error_x": {
             "color": "#2a3f5f"
            },
            "error_y": {
             "color": "#2a3f5f"
            },
            "marker": {
             "line": {
              "color": "#E5ECF6",
              "width": 0.5
             },
             "pattern": {
              "fillmode": "overlay",
              "size": 10,
              "solidity": 0.2
             }
            },
            "type": "bar"
           }
          ],
          "barpolar": [
           {
            "marker": {
             "line": {
              "color": "#E5ECF6",
              "width": 0.5
             },
             "pattern": {
              "fillmode": "overlay",
              "size": 10,
              "solidity": 0.2
             }
            },
            "type": "barpolar"
           }
          ],
          "carpet": [
           {
            "aaxis": {
             "endlinecolor": "#2a3f5f",
             "gridcolor": "white",
             "linecolor": "white",
             "minorgridcolor": "white",
             "startlinecolor": "#2a3f5f"
            },
            "baxis": {
             "endlinecolor": "#2a3f5f",
             "gridcolor": "white",
             "linecolor": "white",
             "minorgridcolor": "white",
             "startlinecolor": "#2a3f5f"
            },
            "type": "carpet"
           }
          ],
          "choropleth": [
           {
            "colorbar": {
             "outlinewidth": 0,
             "ticks": ""
            },
            "type": "choropleth"
           }
          ],
          "contour": [
           {
            "colorbar": {
             "outlinewidth": 0,
             "ticks": ""
            },
            "colorscale": [
             [
              0,
              "#0d0887"
             ],
             [
              0.1111111111111111,
              "#46039f"
             ],
             [
              0.2222222222222222,
              "#7201a8"
             ],
             [
              0.3333333333333333,
              "#9c179e"
             ],
             [
              0.4444444444444444,
              "#bd3786"
             ],
             [
              0.5555555555555556,
              "#d8576b"
             ],
             [
              0.6666666666666666,
              "#ed7953"
             ],
             [
              0.7777777777777778,
              "#fb9f3a"
             ],
             [
              0.8888888888888888,
              "#fdca26"
             ],
             [
              1,
              "#f0f921"
             ]
            ],
            "type": "contour"
           }
          ],
          "contourcarpet": [
           {
            "colorbar": {
             "outlinewidth": 0,
             "ticks": ""
            },
            "type": "contourcarpet"
           }
          ],
          "heatmap": [
           {
            "colorbar": {
             "outlinewidth": 0,
             "ticks": ""
            },
            "colorscale": [
             [
              0,
              "#0d0887"
             ],
             [
              0.1111111111111111,
              "#46039f"
             ],
             [
              0.2222222222222222,
              "#7201a8"
             ],
             [
              0.3333333333333333,
              "#9c179e"
             ],
             [
              0.4444444444444444,
              "#bd3786"
             ],
             [
              0.5555555555555556,
              "#d8576b"
             ],
             [
              0.6666666666666666,
              "#ed7953"
             ],
             [
              0.7777777777777778,
              "#fb9f3a"
             ],
             [
              0.8888888888888888,
              "#fdca26"
             ],
             [
              1,
              "#f0f921"
             ]
            ],
            "type": "heatmap"
           }
          ],
          "heatmapgl": [
           {
            "colorbar": {
             "outlinewidth": 0,
             "ticks": ""
            },
            "colorscale": [
             [
              0,
              "#0d0887"
             ],
             [
              0.1111111111111111,
              "#46039f"
             ],
             [
              0.2222222222222222,
              "#7201a8"
             ],
             [
              0.3333333333333333,
              "#9c179e"
             ],
             [
              0.4444444444444444,
              "#bd3786"
             ],
             [
              0.5555555555555556,
              "#d8576b"
             ],
             [
              0.6666666666666666,
              "#ed7953"
             ],
             [
              0.7777777777777778,
              "#fb9f3a"
             ],
             [
              0.8888888888888888,
              "#fdca26"
             ],
             [
              1,
              "#f0f921"
             ]
            ],
            "type": "heatmapgl"
           }
          ],
          "histogram": [
           {
            "marker": {
             "pattern": {
              "fillmode": "overlay",
              "size": 10,
              "solidity": 0.2
             }
            },
            "type": "histogram"
           }
          ],
          "histogram2d": [
           {
            "colorbar": {
             "outlinewidth": 0,
             "ticks": ""
            },
            "colorscale": [
             [
              0,
              "#0d0887"
             ],
             [
              0.1111111111111111,
              "#46039f"
             ],
             [
              0.2222222222222222,
              "#7201a8"
             ],
             [
              0.3333333333333333,
              "#9c179e"
             ],
             [
              0.4444444444444444,
              "#bd3786"
             ],
             [
              0.5555555555555556,
              "#d8576b"
             ],
             [
              0.6666666666666666,
              "#ed7953"
             ],
             [
              0.7777777777777778,
              "#fb9f3a"
             ],
             [
              0.8888888888888888,
              "#fdca26"
             ],
             [
              1,
              "#f0f921"
             ]
            ],
            "type": "histogram2d"
           }
          ],
          "histogram2dcontour": [
           {
            "colorbar": {
             "outlinewidth": 0,
             "ticks": ""
            },
            "colorscale": [
             [
              0,
              "#0d0887"
             ],
             [
              0.1111111111111111,
              "#46039f"
             ],
             [
              0.2222222222222222,
              "#7201a8"
             ],
             [
              0.3333333333333333,
              "#9c179e"
             ],
             [
              0.4444444444444444,
              "#bd3786"
             ],
             [
              0.5555555555555556,
              "#d8576b"
             ],
             [
              0.6666666666666666,
              "#ed7953"
             ],
             [
              0.7777777777777778,
              "#fb9f3a"
             ],
             [
              0.8888888888888888,
              "#fdca26"
             ],
             [
              1,
              "#f0f921"
             ]
            ],
            "type": "histogram2dcontour"
           }
          ],
          "mesh3d": [
           {
            "colorbar": {
             "outlinewidth": 0,
             "ticks": ""
            },
            "type": "mesh3d"
           }
          ],
          "parcoords": [
           {
            "line": {
             "colorbar": {
              "outlinewidth": 0,
              "ticks": ""
             }
            },
            "type": "parcoords"
           }
          ],
          "pie": [
           {
            "automargin": true,
            "type": "pie"
           }
          ],
          "scatter": [
           {
            "fillpattern": {
             "fillmode": "overlay",
             "size": 10,
             "solidity": 0.2
            },
            "type": "scatter"
           }
          ],
          "scatter3d": [
           {
            "line": {
             "colorbar": {
              "outlinewidth": 0,
              "ticks": ""
             }
            },
            "marker": {
             "colorbar": {
              "outlinewidth": 0,
              "ticks": ""
             }
            },
            "type": "scatter3d"
           }
          ],
          "scattercarpet": [
           {
            "marker": {
             "colorbar": {
              "outlinewidth": 0,
              "ticks": ""
             }
            },
            "type": "scattercarpet"
           }
          ],
          "scattergeo": [
           {
            "marker": {
             "colorbar": {
              "outlinewidth": 0,
              "ticks": ""
             }
            },
            "type": "scattergeo"
           }
          ],
          "scattergl": [
           {
            "marker": {
             "colorbar": {
              "outlinewidth": 0,
              "ticks": ""
             }
            },
            "type": "scattergl"
           }
          ],
          "scattermapbox": [
           {
            "marker": {
             "colorbar": {
              "outlinewidth": 0,
              "ticks": ""
             }
            },
            "type": "scattermapbox"
           }
          ],
          "scatterpolar": [
           {
            "marker": {
             "colorbar": {
              "outlinewidth": 0,
              "ticks": ""
             }
            },
            "type": "scatterpolar"
           }
          ],
          "scatterpolargl": [
           {
            "marker": {
             "colorbar": {
              "outlinewidth": 0,
              "ticks": ""
             }
            },
            "type": "scatterpolargl"
           }
          ],
          "scatterternary": [
           {
            "marker": {
             "colorbar": {
              "outlinewidth": 0,
              "ticks": ""
             }
            },
            "type": "scatterternary"
           }
          ],
          "surface": [
           {
            "colorbar": {
             "outlinewidth": 0,
             "ticks": ""
            },
            "colorscale": [
             [
              0,
              "#0d0887"
             ],
             [
              0.1111111111111111,
              "#46039f"
             ],
             [
              0.2222222222222222,
              "#7201a8"
             ],
             [
              0.3333333333333333,
              "#9c179e"
             ],
             [
              0.4444444444444444,
              "#bd3786"
             ],
             [
              0.5555555555555556,
              "#d8576b"
             ],
             [
              0.6666666666666666,
              "#ed7953"
             ],
             [
              0.7777777777777778,
              "#fb9f3a"
             ],
             [
              0.8888888888888888,
              "#fdca26"
             ],
             [
              1,
              "#f0f921"
             ]
            ],
            "type": "surface"
           }
          ],
          "table": [
           {
            "cells": {
             "fill": {
              "color": "#EBF0F8"
             },
             "line": {
              "color": "white"
             }
            },
            "header": {
             "fill": {
              "color": "#C8D4E3"
             },
             "line": {
              "color": "white"
             }
            },
            "type": "table"
           }
          ]
         },
         "layout": {
          "annotationdefaults": {
           "arrowcolor": "#2a3f5f",
           "arrowhead": 0,
           "arrowwidth": 1
          },
          "autotypenumbers": "strict",
          "coloraxis": {
           "colorbar": {
            "outlinewidth": 0,
            "ticks": ""
           }
          },
          "colorscale": {
           "diverging": [
            [
             0,
             "#8e0152"
            ],
            [
             0.1,
             "#c51b7d"
            ],
            [
             0.2,
             "#de77ae"
            ],
            [
             0.3,
             "#f1b6da"
            ],
            [
             0.4,
             "#fde0ef"
            ],
            [
             0.5,
             "#f7f7f7"
            ],
            [
             0.6,
             "#e6f5d0"
            ],
            [
             0.7,
             "#b8e186"
            ],
            [
             0.8,
             "#7fbc41"
            ],
            [
             0.9,
             "#4d9221"
            ],
            [
             1,
             "#276419"
            ]
           ],
           "sequential": [
            [
             0,
             "#0d0887"
            ],
            [
             0.1111111111111111,
             "#46039f"
            ],
            [
             0.2222222222222222,
             "#7201a8"
            ],
            [
             0.3333333333333333,
             "#9c179e"
            ],
            [
             0.4444444444444444,
             "#bd3786"
            ],
            [
             0.5555555555555556,
             "#d8576b"
            ],
            [
             0.6666666666666666,
             "#ed7953"
            ],
            [
             0.7777777777777778,
             "#fb9f3a"
            ],
            [
             0.8888888888888888,
             "#fdca26"
            ],
            [
             1,
             "#f0f921"
            ]
           ],
           "sequentialminus": [
            [
             0,
             "#0d0887"
            ],
            [
             0.1111111111111111,
             "#46039f"
            ],
            [
             0.2222222222222222,
             "#7201a8"
            ],
            [
             0.3333333333333333,
             "#9c179e"
            ],
            [
             0.4444444444444444,
             "#bd3786"
            ],
            [
             0.5555555555555556,
             "#d8576b"
            ],
            [
             0.6666666666666666,
             "#ed7953"
            ],
            [
             0.7777777777777778,
             "#fb9f3a"
            ],
            [
             0.8888888888888888,
             "#fdca26"
            ],
            [
             1,
             "#f0f921"
            ]
           ]
          },
          "colorway": [
           "#636efa",
           "#EF553B",
           "#00cc96",
           "#ab63fa",
           "#FFA15A",
           "#19d3f3",
           "#FF6692",
           "#B6E880",
           "#FF97FF",
           "#FECB52"
          ],
          "font": {
           "color": "#2a3f5f"
          },
          "geo": {
           "bgcolor": "white",
           "lakecolor": "white",
           "landcolor": "#E5ECF6",
           "showlakes": true,
           "showland": true,
           "subunitcolor": "white"
          },
          "hoverlabel": {
           "align": "left"
          },
          "hovermode": "closest",
          "mapbox": {
           "style": "light"
          },
          "paper_bgcolor": "white",
          "plot_bgcolor": "#E5ECF6",
          "polar": {
           "angularaxis": {
            "gridcolor": "white",
            "linecolor": "white",
            "ticks": ""
           },
           "bgcolor": "#E5ECF6",
           "radialaxis": {
            "gridcolor": "white",
            "linecolor": "white",
            "ticks": ""
           }
          },
          "scene": {
           "xaxis": {
            "backgroundcolor": "#E5ECF6",
            "gridcolor": "white",
            "gridwidth": 2,
            "linecolor": "white",
            "showbackground": true,
            "ticks": "",
            "zerolinecolor": "white"
           },
           "yaxis": {
            "backgroundcolor": "#E5ECF6",
            "gridcolor": "white",
            "gridwidth": 2,
            "linecolor": "white",
            "showbackground": true,
            "ticks": "",
            "zerolinecolor": "white"
           },
           "zaxis": {
            "backgroundcolor": "#E5ECF6",
            "gridcolor": "white",
            "gridwidth": 2,
            "linecolor": "white",
            "showbackground": true,
            "ticks": "",
            "zerolinecolor": "white"
           }
          },
          "shapedefaults": {
           "line": {
            "color": "#2a3f5f"
           }
          },
          "ternary": {
           "aaxis": {
            "gridcolor": "white",
            "linecolor": "white",
            "ticks": ""
           },
           "baxis": {
            "gridcolor": "white",
            "linecolor": "white",
            "ticks": ""
           },
           "bgcolor": "#E5ECF6",
           "caxis": {
            "gridcolor": "white",
            "linecolor": "white",
            "ticks": ""
           }
          },
          "title": {
           "x": 0.05
          },
          "xaxis": {
           "automargin": true,
           "gridcolor": "white",
           "linecolor": "white",
           "ticks": "",
           "title": {
            "standoff": 15
           },
           "zerolinecolor": "white",
           "zerolinewidth": 2
          },
          "yaxis": {
           "automargin": true,
           "gridcolor": "white",
           "linecolor": "white",
           "ticks": "",
           "title": {
            "standoff": 15
           },
           "zerolinecolor": "white",
           "zerolinewidth": 2
          }
         }
        },
        "title": {
         "text": "Kickstarter Projects by Country"
        }
       }
      }
     },
     "metadata": {},
     "output_type": "display_data"
    }
   ],
   "source": [
    "import plotly.express as px\n",
    "import pandas as pd\n",
    "\n",
    "# Assuming you have a DataFrame named 'kickstarter' with a 'Country' column\n",
    "# Replace 'kickstarter' with your actual DataFrame name\n",
    "# You might need to clean the 'Country' column if it contains any inconsistencies\n",
    "\n",
    "# Group the data by 'Country' and count the number of projects in each country\n",
    "country_counts = kickstarter['Country'].value_counts().reset_index()\n",
    "country_counts.columns = ['Country', 'Project Count']\n",
    "\n",
    "# Use Plotly Express to create an interactive world map\n",
    "fig = px.choropleth(\n",
    "    country_counts,\n",
    "    locations=\"Country\",\n",
    "    locationmode=\"country names\",\n",
    "    color=\"Project Count\",\n",
    "    hover_name=\"Country\",\n",
    "    title=\"Kickstarter Projects by Country\",\n",
    "    color_continuous_scale=px.colors.sequential.Plasma,  # Choose a color scale\n",
    ")\n",
    "\n",
    "# Customize the map layout\n",
    "fig.update_geos(\n",
    "    projection_scale=1,  # Adjust the map scale\n",
    "    showcoastlines=True,\n",
    "    coastlinecolor=\"Black\",\n",
    "    showland=True,\n",
    "    landcolor=\"lightgrey\",\n",
    ")\n",
    "\n",
    "# Show the interactive map\n",
    "fig.show()\n"
   ]
  },
  {
   "cell_type": "code",
   "execution_count": null,
   "metadata": {},
   "outputs": [
    {
     "data": {
      "text/plain": [
       "(374853, 11)"
      ]
     },
     "execution_count": 110,
     "metadata": {},
     "output_type": "execute_result"
    }
   ],
   "source": [
    "kickstarter.shape"
   ]
  },
  {
   "cell_type": "code",
   "execution_count": null,
   "metadata": {},
   "outputs": [],
   "source": [
    "df_new = pd.read_csv('data/Kickstarter_2023-09-14T03_20_28_258Z/Kickstarter.csv')"
   ]
  },
  {
   "cell_type": "code",
   "execution_count": null,
   "metadata": {},
   "outputs": [
    {
     "data": {
      "text/html": [
       "<div>\n",
       "<style scoped>\n",
       "    .dataframe tbody tr th:only-of-type {\n",
       "        vertical-align: middle;\n",
       "    }\n",
       "\n",
       "    .dataframe tbody tr th {\n",
       "        vertical-align: top;\n",
       "    }\n",
       "\n",
       "    .dataframe thead th {\n",
       "        text-align: right;\n",
       "    }\n",
       "</style>\n",
       "<table border=\"1\" class=\"dataframe\">\n",
       "  <thead>\n",
       "    <tr style=\"text-align: right;\">\n",
       "      <th></th>\n",
       "      <th>backers_count</th>\n",
       "      <th>blurb</th>\n",
       "      <th>category</th>\n",
       "      <th>converted_pledged_amount</th>\n",
       "      <th>country</th>\n",
       "      <th>country_displayable_name</th>\n",
       "      <th>created_at</th>\n",
       "      <th>creator</th>\n",
       "      <th>currency</th>\n",
       "      <th>currency_symbol</th>\n",
       "      <th>...</th>\n",
       "      <th>source_url</th>\n",
       "      <th>spotlight</th>\n",
       "      <th>staff_pick</th>\n",
       "      <th>state</th>\n",
       "      <th>state_changed_at</th>\n",
       "      <th>static_usd_rate</th>\n",
       "      <th>urls</th>\n",
       "      <th>usd_exchange_rate</th>\n",
       "      <th>usd_pledged</th>\n",
       "      <th>usd_type</th>\n",
       "    </tr>\n",
       "  </thead>\n",
       "  <tbody>\n",
       "    <tr>\n",
       "      <th>0</th>\n",
       "      <td>52</td>\n",
       "      <td>ICS needs your help getting the Hirajeta Tarot...</td>\n",
       "      <td>{\"id\":54,\"name\":\"Mixed Media\",\"analytics_name\"...</td>\n",
       "      <td>3032.0</td>\n",
       "      <td>US</td>\n",
       "      <td>the United States</td>\n",
       "      <td>1358744601</td>\n",
       "      <td>{\"id\":1806672967,\"name\":\"Danny Hirajeta\",\"slug...</td>\n",
       "      <td>USD</td>\n",
       "      <td>$</td>\n",
       "      <td>...</td>\n",
       "      <td>https://www.kickstarter.com/discover/categorie...</td>\n",
       "      <td>True</td>\n",
       "      <td>False</td>\n",
       "      <td>successful</td>\n",
       "      <td>1363668488</td>\n",
       "      <td>1.000000</td>\n",
       "      <td>{\"web\":{\"project\":\"https://www.kickstarter.com...</td>\n",
       "      <td>1.000000</td>\n",
       "      <td>3032.000000</td>\n",
       "      <td>international</td>\n",
       "    </tr>\n",
       "    <tr>\n",
       "      <th>1</th>\n",
       "      <td>609</td>\n",
       "      <td>I’ve created a huge map of Post-Apocalyptic Se...</td>\n",
       "      <td>{\"id\":54,\"name\":\"Mixed Media\",\"analytics_name\"...</td>\n",
       "      <td>18386.0</td>\n",
       "      <td>US</td>\n",
       "      <td>the United States</td>\n",
       "      <td>1355767056</td>\n",
       "      <td>{\"id\":1743163018,\"name\":\"Tony Dowler\",\"slug\":\"...</td>\n",
       "      <td>USD</td>\n",
       "      <td>$</td>\n",
       "      <td>...</td>\n",
       "      <td>https://www.kickstarter.com/discover/categorie...</td>\n",
       "      <td>True</td>\n",
       "      <td>True</td>\n",
       "      <td>successful</td>\n",
       "      <td>1361853081</td>\n",
       "      <td>1.000000</td>\n",
       "      <td>{\"web\":{\"project\":\"https://www.kickstarter.com...</td>\n",
       "      <td>1.000000</td>\n",
       "      <td>18386.740000</td>\n",
       "      <td>international</td>\n",
       "    </tr>\n",
       "    <tr>\n",
       "      <th>2</th>\n",
       "      <td>53</td>\n",
       "      <td>Help Lou boost her upcycling business that wil...</td>\n",
       "      <td>{\"id\":54,\"name\":\"Mixed Media\",\"analytics_name\"...</td>\n",
       "      <td>1610.0</td>\n",
       "      <td>US</td>\n",
       "      <td>the United States</td>\n",
       "      <td>1358731293</td>\n",
       "      <td>{\"id\":1658130628,\"name\":\"S. Lou Leelyn\",\"is_re...</td>\n",
       "      <td>USD</td>\n",
       "      <td>$</td>\n",
       "      <td>...</td>\n",
       "      <td>https://www.kickstarter.com/discover/categorie...</td>\n",
       "      <td>True</td>\n",
       "      <td>False</td>\n",
       "      <td>successful</td>\n",
       "      <td>1360524238</td>\n",
       "      <td>1.000000</td>\n",
       "      <td>{\"web\":{\"project\":\"https://www.kickstarter.com...</td>\n",
       "      <td>1.000000</td>\n",
       "      <td>1610.000000</td>\n",
       "      <td>international</td>\n",
       "    </tr>\n",
       "    <tr>\n",
       "      <th>3</th>\n",
       "      <td>204</td>\n",
       "      <td>Making as many birds into fat birds as possible!</td>\n",
       "      <td>{\"id\":262,\"name\":\"Accessories\",\"analytics_name...</td>\n",
       "      <td>10299.0</td>\n",
       "      <td>AU</td>\n",
       "      <td>Australia</td>\n",
       "      <td>1616752854</td>\n",
       "      <td>{\"id\":1722363258,\"name\":\"Lauren Steele\",\"slug\"...</td>\n",
       "      <td>AUD</td>\n",
       "      <td>$</td>\n",
       "      <td>...</td>\n",
       "      <td>https://www.kickstarter.com/discover/categorie...</td>\n",
       "      <td>True</td>\n",
       "      <td>False</td>\n",
       "      <td>successful</td>\n",
       "      <td>1619830812</td>\n",
       "      <td>0.761938</td>\n",
       "      <td>{\"web\":{\"project\":\"https://www.kickstarter.com...</td>\n",
       "      <td>0.778031</td>\n",
       "      <td>10086.022818</td>\n",
       "      <td>international</td>\n",
       "    </tr>\n",
       "    <tr>\n",
       "      <th>4</th>\n",
       "      <td>39</td>\n",
       "      <td>The safe, convenient, and stylish way to prope...</td>\n",
       "      <td>{\"id\":263,\"name\":\"Apparel\",\"analytics_name\":\"A...</td>\n",
       "      <td>10059.0</td>\n",
       "      <td>US</td>\n",
       "      <td>the United States</td>\n",
       "      <td>1601910820</td>\n",
       "      <td>{\"id\":1065587430,\"name\":\"Kamili Activewear\",\"s...</td>\n",
       "      <td>USD</td>\n",
       "      <td>$</td>\n",
       "      <td>...</td>\n",
       "      <td>https://www.kickstarter.com/discover/categorie...</td>\n",
       "      <td>True</td>\n",
       "      <td>False</td>\n",
       "      <td>successful</td>\n",
       "      <td>1620069281</td>\n",
       "      <td>1.000000</td>\n",
       "      <td>{\"web\":{\"project\":\"https://www.kickstarter.com...</td>\n",
       "      <td>1.000000</td>\n",
       "      <td>10059.000000</td>\n",
       "      <td>international</td>\n",
       "    </tr>\n",
       "  </tbody>\n",
       "</table>\n",
       "<p>5 rows × 39 columns</p>\n",
       "</div>"
      ],
      "text/plain": [
       "   backers_count                                              blurb  \\\n",
       "0             52  ICS needs your help getting the Hirajeta Tarot...   \n",
       "1            609  I’ve created a huge map of Post-Apocalyptic Se...   \n",
       "2             53  Help Lou boost her upcycling business that wil...   \n",
       "3            204   Making as many birds into fat birds as possible!   \n",
       "4             39  The safe, convenient, and stylish way to prope...   \n",
       "\n",
       "                                            category  \\\n",
       "0  {\"id\":54,\"name\":\"Mixed Media\",\"analytics_name\"...   \n",
       "1  {\"id\":54,\"name\":\"Mixed Media\",\"analytics_name\"...   \n",
       "2  {\"id\":54,\"name\":\"Mixed Media\",\"analytics_name\"...   \n",
       "3  {\"id\":262,\"name\":\"Accessories\",\"analytics_name...   \n",
       "4  {\"id\":263,\"name\":\"Apparel\",\"analytics_name\":\"A...   \n",
       "\n",
       "   converted_pledged_amount country country_displayable_name  created_at  \\\n",
       "0                    3032.0      US        the United States  1358744601   \n",
       "1                   18386.0      US        the United States  1355767056   \n",
       "2                    1610.0      US        the United States  1358731293   \n",
       "3                   10299.0      AU                Australia  1616752854   \n",
       "4                   10059.0      US        the United States  1601910820   \n",
       "\n",
       "                                             creator currency currency_symbol  \\\n",
       "0  {\"id\":1806672967,\"name\":\"Danny Hirajeta\",\"slug...      USD               $   \n",
       "1  {\"id\":1743163018,\"name\":\"Tony Dowler\",\"slug\":\"...      USD               $   \n",
       "2  {\"id\":1658130628,\"name\":\"S. Lou Leelyn\",\"is_re...      USD               $   \n",
       "3  {\"id\":1722363258,\"name\":\"Lauren Steele\",\"slug\"...      AUD               $   \n",
       "4  {\"id\":1065587430,\"name\":\"Kamili Activewear\",\"s...      USD               $   \n",
       "\n",
       "   ...                                         source_url spotlight  \\\n",
       "0  ...  https://www.kickstarter.com/discover/categorie...      True   \n",
       "1  ...  https://www.kickstarter.com/discover/categorie...      True   \n",
       "2  ...  https://www.kickstarter.com/discover/categorie...      True   \n",
       "3  ...  https://www.kickstarter.com/discover/categorie...      True   \n",
       "4  ...  https://www.kickstarter.com/discover/categorie...      True   \n",
       "\n",
       "   staff_pick       state state_changed_at  static_usd_rate  \\\n",
       "0       False  successful       1363668488         1.000000   \n",
       "1        True  successful       1361853081         1.000000   \n",
       "2       False  successful       1360524238         1.000000   \n",
       "3       False  successful       1619830812         0.761938   \n",
       "4       False  successful       1620069281         1.000000   \n",
       "\n",
       "                                                urls  usd_exchange_rate  \\\n",
       "0  {\"web\":{\"project\":\"https://www.kickstarter.com...           1.000000   \n",
       "1  {\"web\":{\"project\":\"https://www.kickstarter.com...           1.000000   \n",
       "2  {\"web\":{\"project\":\"https://www.kickstarter.com...           1.000000   \n",
       "3  {\"web\":{\"project\":\"https://www.kickstarter.com...           0.778031   \n",
       "4  {\"web\":{\"project\":\"https://www.kickstarter.com...           1.000000   \n",
       "\n",
       "    usd_pledged       usd_type  \n",
       "0   3032.000000  international  \n",
       "1  18386.740000  international  \n",
       "2   1610.000000  international  \n",
       "3  10086.022818  international  \n",
       "4  10059.000000  international  \n",
       "\n",
       "[5 rows x 39 columns]"
      ]
     },
     "execution_count": 127,
     "metadata": {},
     "output_type": "execute_result"
    }
   ],
   "source": [
    "df_new.head()"
   ]
  },
  {
   "cell_type": "code",
   "execution_count": null,
   "metadata": {},
   "outputs": [],
   "source": []
  },
  {
   "cell_type": "code",
   "execution_count": null,
   "metadata": {},
   "outputs": [],
   "source": []
  },
  {
   "cell_type": "code",
   "execution_count": null,
   "metadata": {},
   "outputs": [
    {
     "data": {
      "text/plain": [
       "Index(['backers_count', 'blurb', 'category', 'converted_pledged_amount',\n",
       "       'country', 'country_displayable_name', 'created_at', 'creator',\n",
       "       'currency', 'currency_symbol', 'currency_trailing_code',\n",
       "       'current_currency', 'deadline', 'disable_communication', 'friends',\n",
       "       'fx_rate', 'goal', 'id', 'is_backing', 'is_starrable', 'is_starred',\n",
       "       'launched_at', 'location', 'name', 'permissions', 'photo', 'pledged',\n",
       "       'profile', 'slug', 'source_url', 'spotlight', 'staff_pick', 'state',\n",
       "       'state_changed_at', 'static_usd_rate', 'urls', 'usd_exchange_rate',\n",
       "       'usd_pledged', 'usd_type'],\n",
       "      dtype='object')"
      ]
     },
     "execution_count": 129,
     "metadata": {},
     "output_type": "execute_result"
    }
   ],
   "source": [
    "df_new.columns"
   ]
  },
  {
   "cell_type": "code",
   "execution_count": null,
   "metadata": {},
   "outputs": [],
   "source": []
  }
 ],
 "metadata": {
  "kernelspec": {
   "display_name": ".venv",
   "language": "python",
   "name": "python3"
  },
  "language_info": {
   "codemirror_mode": {
    "name": "ipython",
    "version": 3
   },
   "file_extension": ".py",
   "mimetype": "text/x-python",
   "name": "python",
   "nbconvert_exporter": "python",
   "pygments_lexer": "ipython3",
   "version": "3.11.5"
  }
 },
 "nbformat": 4,
 "nbformat_minor": 2
}
